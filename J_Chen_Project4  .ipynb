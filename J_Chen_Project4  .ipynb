{
 "cells": [
  {
   "cell_type": "markdown",
   "metadata": {},
   "source": [
    "# Project 4 : Predictive Analysis using scikit-learn\n",
    "\n",
    "## Jinming Chen, Alejandra Zapata"
   ]
  },
  {
   "cell_type": "markdown",
   "metadata": {},
   "source": [
    "# Introduction \n",
    "\n",
    "This project analyzes data related to mushrooms to find the attributes that are the best predictors of whether a particular mushroom is poisonous or edible. The goal of this project is to build a model that determines if mushrooms are edible or poisonous by specific attributes. We chose three relevant attributes in addition to \"Odor\" to create different predictive models. The chosen attributes were \"Cap Color\", \"Gill Color\" and \"Habitat\".\n",
    "\n",
    "We use a brief article from the website 'Wild Food' to inform our choice of attributes. The colors and habitats play a signifcant role according to the source and on this project we will determine the role they have on this dataset."
   ]
  },
  {
   "cell_type": "markdown",
   "metadata": {},
   "source": [
    "* Dataset link: https://archive.ics.uci.edu/ml/datasets/mushroom\n",
    "\n",
    "* Mushrooms Article: https://www.wildfooduk.com/articles/how-to-tell-the-difference-between-poisonous-and-edible-mushrooms/#:~:text=First%2C%20is%20there%20any%20red,again%20treat%20it%20as%20poisonous."
   ]
  },
  {
   "cell_type": "markdown",
   "metadata": {},
   "source": [
    "# Research Question \n",
    "* Which other attributes (i.e., aside from the poisonous/edible indicator) or attributes are the best predictors of whether a particular mushroom is poisonous or edible?”"
   ]
  },
  {
   "cell_type": "markdown",
   "metadata": {},
   "source": [
    "# Phase I: Data Acquisition and Data Preparation "
   ]
  },
  {
   "cell_type": "code",
   "execution_count": 188,
   "metadata": {},
   "outputs": [],
   "source": [
    "# Importing the Pandas library\n",
    "import pandas as pd\n",
    "# Importing the matplotlib\n",
    "import matplotlib.pyplot as plt\n",
    "# Importing the seaborn\n",
    "import seaborn as sns\n",
    "# Importing the numpy\n",
    "import numpy as np\n",
    "\n",
    "# load the library\n",
    "from patsy import dmatrices\n",
    "from sklearn.linear_model import LogisticRegression\n",
    "from sklearn.model_selection import train_test_split\n",
    "from sklearn import metrics\n",
    "from sklearn.model_selection import cross_val_score\n",
    "\n",
    "# import statsmodels\n",
    "import statsmodels.api as sm\n",
    "import statsmodels.formula.api as smf"
   ]
  },
  {
   "cell_type": "code",
   "execution_count": 189,
   "metadata": {},
   "outputs": [
    {
     "data": {
      "text/html": [
       "<div>\n",
       "<style scoped>\n",
       "    .dataframe tbody tr th:only-of-type {\n",
       "        vertical-align: middle;\n",
       "    }\n",
       "\n",
       "    .dataframe tbody tr th {\n",
       "        vertical-align: top;\n",
       "    }\n",
       "\n",
       "    .dataframe thead th {\n",
       "        text-align: right;\n",
       "    }\n",
       "</style>\n",
       "<table border=\"1\" class=\"dataframe\">\n",
       "  <thead>\n",
       "    <tr style=\"text-align: right;\">\n",
       "      <th></th>\n",
       "      <th>0</th>\n",
       "      <th>1</th>\n",
       "      <th>2</th>\n",
       "      <th>3</th>\n",
       "      <th>4</th>\n",
       "      <th>5</th>\n",
       "      <th>6</th>\n",
       "      <th>7</th>\n",
       "      <th>8</th>\n",
       "      <th>9</th>\n",
       "      <th>...</th>\n",
       "      <th>13</th>\n",
       "      <th>14</th>\n",
       "      <th>15</th>\n",
       "      <th>16</th>\n",
       "      <th>17</th>\n",
       "      <th>18</th>\n",
       "      <th>19</th>\n",
       "      <th>20</th>\n",
       "      <th>21</th>\n",
       "      <th>22</th>\n",
       "    </tr>\n",
       "  </thead>\n",
       "  <tbody>\n",
       "    <tr>\n",
       "      <th>0</th>\n",
       "      <td>p</td>\n",
       "      <td>x</td>\n",
       "      <td>s</td>\n",
       "      <td>n</td>\n",
       "      <td>t</td>\n",
       "      <td>p</td>\n",
       "      <td>f</td>\n",
       "      <td>c</td>\n",
       "      <td>n</td>\n",
       "      <td>k</td>\n",
       "      <td>...</td>\n",
       "      <td>s</td>\n",
       "      <td>w</td>\n",
       "      <td>w</td>\n",
       "      <td>p</td>\n",
       "      <td>w</td>\n",
       "      <td>o</td>\n",
       "      <td>p</td>\n",
       "      <td>k</td>\n",
       "      <td>s</td>\n",
       "      <td>u</td>\n",
       "    </tr>\n",
       "    <tr>\n",
       "      <th>1</th>\n",
       "      <td>e</td>\n",
       "      <td>x</td>\n",
       "      <td>s</td>\n",
       "      <td>y</td>\n",
       "      <td>t</td>\n",
       "      <td>a</td>\n",
       "      <td>f</td>\n",
       "      <td>c</td>\n",
       "      <td>b</td>\n",
       "      <td>k</td>\n",
       "      <td>...</td>\n",
       "      <td>s</td>\n",
       "      <td>w</td>\n",
       "      <td>w</td>\n",
       "      <td>p</td>\n",
       "      <td>w</td>\n",
       "      <td>o</td>\n",
       "      <td>p</td>\n",
       "      <td>n</td>\n",
       "      <td>n</td>\n",
       "      <td>g</td>\n",
       "    </tr>\n",
       "    <tr>\n",
       "      <th>2</th>\n",
       "      <td>e</td>\n",
       "      <td>b</td>\n",
       "      <td>s</td>\n",
       "      <td>w</td>\n",
       "      <td>t</td>\n",
       "      <td>l</td>\n",
       "      <td>f</td>\n",
       "      <td>c</td>\n",
       "      <td>b</td>\n",
       "      <td>n</td>\n",
       "      <td>...</td>\n",
       "      <td>s</td>\n",
       "      <td>w</td>\n",
       "      <td>w</td>\n",
       "      <td>p</td>\n",
       "      <td>w</td>\n",
       "      <td>o</td>\n",
       "      <td>p</td>\n",
       "      <td>n</td>\n",
       "      <td>n</td>\n",
       "      <td>m</td>\n",
       "    </tr>\n",
       "    <tr>\n",
       "      <th>3</th>\n",
       "      <td>p</td>\n",
       "      <td>x</td>\n",
       "      <td>y</td>\n",
       "      <td>w</td>\n",
       "      <td>t</td>\n",
       "      <td>p</td>\n",
       "      <td>f</td>\n",
       "      <td>c</td>\n",
       "      <td>n</td>\n",
       "      <td>n</td>\n",
       "      <td>...</td>\n",
       "      <td>s</td>\n",
       "      <td>w</td>\n",
       "      <td>w</td>\n",
       "      <td>p</td>\n",
       "      <td>w</td>\n",
       "      <td>o</td>\n",
       "      <td>p</td>\n",
       "      <td>k</td>\n",
       "      <td>s</td>\n",
       "      <td>u</td>\n",
       "    </tr>\n",
       "    <tr>\n",
       "      <th>4</th>\n",
       "      <td>e</td>\n",
       "      <td>x</td>\n",
       "      <td>s</td>\n",
       "      <td>g</td>\n",
       "      <td>f</td>\n",
       "      <td>n</td>\n",
       "      <td>f</td>\n",
       "      <td>w</td>\n",
       "      <td>b</td>\n",
       "      <td>k</td>\n",
       "      <td>...</td>\n",
       "      <td>s</td>\n",
       "      <td>w</td>\n",
       "      <td>w</td>\n",
       "      <td>p</td>\n",
       "      <td>w</td>\n",
       "      <td>o</td>\n",
       "      <td>e</td>\n",
       "      <td>n</td>\n",
       "      <td>a</td>\n",
       "      <td>g</td>\n",
       "    </tr>\n",
       "    <tr>\n",
       "      <th>...</th>\n",
       "      <td>...</td>\n",
       "      <td>...</td>\n",
       "      <td>...</td>\n",
       "      <td>...</td>\n",
       "      <td>...</td>\n",
       "      <td>...</td>\n",
       "      <td>...</td>\n",
       "      <td>...</td>\n",
       "      <td>...</td>\n",
       "      <td>...</td>\n",
       "      <td>...</td>\n",
       "      <td>...</td>\n",
       "      <td>...</td>\n",
       "      <td>...</td>\n",
       "      <td>...</td>\n",
       "      <td>...</td>\n",
       "      <td>...</td>\n",
       "      <td>...</td>\n",
       "      <td>...</td>\n",
       "      <td>...</td>\n",
       "      <td>...</td>\n",
       "    </tr>\n",
       "    <tr>\n",
       "      <th>8119</th>\n",
       "      <td>e</td>\n",
       "      <td>k</td>\n",
       "      <td>s</td>\n",
       "      <td>n</td>\n",
       "      <td>f</td>\n",
       "      <td>n</td>\n",
       "      <td>a</td>\n",
       "      <td>c</td>\n",
       "      <td>b</td>\n",
       "      <td>y</td>\n",
       "      <td>...</td>\n",
       "      <td>s</td>\n",
       "      <td>o</td>\n",
       "      <td>o</td>\n",
       "      <td>p</td>\n",
       "      <td>o</td>\n",
       "      <td>o</td>\n",
       "      <td>p</td>\n",
       "      <td>b</td>\n",
       "      <td>c</td>\n",
       "      <td>l</td>\n",
       "    </tr>\n",
       "    <tr>\n",
       "      <th>8120</th>\n",
       "      <td>e</td>\n",
       "      <td>x</td>\n",
       "      <td>s</td>\n",
       "      <td>n</td>\n",
       "      <td>f</td>\n",
       "      <td>n</td>\n",
       "      <td>a</td>\n",
       "      <td>c</td>\n",
       "      <td>b</td>\n",
       "      <td>y</td>\n",
       "      <td>...</td>\n",
       "      <td>s</td>\n",
       "      <td>o</td>\n",
       "      <td>o</td>\n",
       "      <td>p</td>\n",
       "      <td>n</td>\n",
       "      <td>o</td>\n",
       "      <td>p</td>\n",
       "      <td>b</td>\n",
       "      <td>v</td>\n",
       "      <td>l</td>\n",
       "    </tr>\n",
       "    <tr>\n",
       "      <th>8121</th>\n",
       "      <td>e</td>\n",
       "      <td>f</td>\n",
       "      <td>s</td>\n",
       "      <td>n</td>\n",
       "      <td>f</td>\n",
       "      <td>n</td>\n",
       "      <td>a</td>\n",
       "      <td>c</td>\n",
       "      <td>b</td>\n",
       "      <td>n</td>\n",
       "      <td>...</td>\n",
       "      <td>s</td>\n",
       "      <td>o</td>\n",
       "      <td>o</td>\n",
       "      <td>p</td>\n",
       "      <td>o</td>\n",
       "      <td>o</td>\n",
       "      <td>p</td>\n",
       "      <td>b</td>\n",
       "      <td>c</td>\n",
       "      <td>l</td>\n",
       "    </tr>\n",
       "    <tr>\n",
       "      <th>8122</th>\n",
       "      <td>p</td>\n",
       "      <td>k</td>\n",
       "      <td>y</td>\n",
       "      <td>n</td>\n",
       "      <td>f</td>\n",
       "      <td>y</td>\n",
       "      <td>f</td>\n",
       "      <td>c</td>\n",
       "      <td>n</td>\n",
       "      <td>b</td>\n",
       "      <td>...</td>\n",
       "      <td>k</td>\n",
       "      <td>w</td>\n",
       "      <td>w</td>\n",
       "      <td>p</td>\n",
       "      <td>w</td>\n",
       "      <td>o</td>\n",
       "      <td>e</td>\n",
       "      <td>w</td>\n",
       "      <td>v</td>\n",
       "      <td>l</td>\n",
       "    </tr>\n",
       "    <tr>\n",
       "      <th>8123</th>\n",
       "      <td>e</td>\n",
       "      <td>x</td>\n",
       "      <td>s</td>\n",
       "      <td>n</td>\n",
       "      <td>f</td>\n",
       "      <td>n</td>\n",
       "      <td>a</td>\n",
       "      <td>c</td>\n",
       "      <td>b</td>\n",
       "      <td>y</td>\n",
       "      <td>...</td>\n",
       "      <td>s</td>\n",
       "      <td>o</td>\n",
       "      <td>o</td>\n",
       "      <td>p</td>\n",
       "      <td>o</td>\n",
       "      <td>o</td>\n",
       "      <td>p</td>\n",
       "      <td>o</td>\n",
       "      <td>c</td>\n",
       "      <td>l</td>\n",
       "    </tr>\n",
       "  </tbody>\n",
       "</table>\n",
       "<p>8124 rows × 23 columns</p>\n",
       "</div>"
      ],
      "text/plain": [
       "     0  1  2  3  4  5  6  7  8  9   ... 13 14 15 16 17 18 19 20 21 22\n",
       "0     p  x  s  n  t  p  f  c  n  k  ...  s  w  w  p  w  o  p  k  s  u\n",
       "1     e  x  s  y  t  a  f  c  b  k  ...  s  w  w  p  w  o  p  n  n  g\n",
       "2     e  b  s  w  t  l  f  c  b  n  ...  s  w  w  p  w  o  p  n  n  m\n",
       "3     p  x  y  w  t  p  f  c  n  n  ...  s  w  w  p  w  o  p  k  s  u\n",
       "4     e  x  s  g  f  n  f  w  b  k  ...  s  w  w  p  w  o  e  n  a  g\n",
       "...  .. .. .. .. .. .. .. .. .. ..  ... .. .. .. .. .. .. .. .. .. ..\n",
       "8119  e  k  s  n  f  n  a  c  b  y  ...  s  o  o  p  o  o  p  b  c  l\n",
       "8120  e  x  s  n  f  n  a  c  b  y  ...  s  o  o  p  n  o  p  b  v  l\n",
       "8121  e  f  s  n  f  n  a  c  b  n  ...  s  o  o  p  o  o  p  b  c  l\n",
       "8122  p  k  y  n  f  y  f  c  n  b  ...  k  w  w  p  w  o  e  w  v  l\n",
       "8123  e  x  s  n  f  n  a  c  b  y  ...  s  o  o  p  o  o  p  o  c  l\n",
       "\n",
       "[8124 rows x 23 columns]"
      ]
     },
     "execution_count": 189,
     "metadata": {},
     "output_type": "execute_result"
    }
   ],
   "source": [
    "# Importing data from Github\n",
    "df = pd.read_csv('https://raw.githubusercontent.com/AlejandraZS10/Project-4-AIM-5001-200/main/agaricus-lepiota.data.csv', header=None)\n",
    "df"
   ]
  },
  {
   "cell_type": "markdown",
   "metadata": {},
   "source": [
    "The complete datset contains 8124 rows and 23 columns. For this project we select only three that have proven to be signifcant according to the previously mentioned article from 'Wild Mushroom'."
   ]
  },
  {
   "cell_type": "code",
   "execution_count": 190,
   "metadata": {},
   "outputs": [
    {
     "data": {
      "text/html": [
       "<div>\n",
       "<style scoped>\n",
       "    .dataframe tbody tr th:only-of-type {\n",
       "        vertical-align: middle;\n",
       "    }\n",
       "\n",
       "    .dataframe tbody tr th {\n",
       "        vertical-align: top;\n",
       "    }\n",
       "\n",
       "    .dataframe thead th {\n",
       "        text-align: right;\n",
       "    }\n",
       "</style>\n",
       "<table border=\"1\" class=\"dataframe\">\n",
       "  <thead>\n",
       "    <tr style=\"text-align: right;\">\n",
       "      <th></th>\n",
       "      <th>Class</th>\n",
       "      <th>Cap_Color</th>\n",
       "      <th>Odor</th>\n",
       "      <th>Gill_Color</th>\n",
       "      <th>Habitat</th>\n",
       "    </tr>\n",
       "  </thead>\n",
       "  <tbody>\n",
       "    <tr>\n",
       "      <th>0</th>\n",
       "      <td>p</td>\n",
       "      <td>n</td>\n",
       "      <td>p</td>\n",
       "      <td>k</td>\n",
       "      <td>u</td>\n",
       "    </tr>\n",
       "    <tr>\n",
       "      <th>1</th>\n",
       "      <td>e</td>\n",
       "      <td>y</td>\n",
       "      <td>a</td>\n",
       "      <td>k</td>\n",
       "      <td>g</td>\n",
       "    </tr>\n",
       "    <tr>\n",
       "      <th>2</th>\n",
       "      <td>e</td>\n",
       "      <td>w</td>\n",
       "      <td>l</td>\n",
       "      <td>n</td>\n",
       "      <td>m</td>\n",
       "    </tr>\n",
       "    <tr>\n",
       "      <th>3</th>\n",
       "      <td>p</td>\n",
       "      <td>w</td>\n",
       "      <td>p</td>\n",
       "      <td>n</td>\n",
       "      <td>u</td>\n",
       "    </tr>\n",
       "    <tr>\n",
       "      <th>4</th>\n",
       "      <td>e</td>\n",
       "      <td>g</td>\n",
       "      <td>n</td>\n",
       "      <td>k</td>\n",
       "      <td>g</td>\n",
       "    </tr>\n",
       "    <tr>\n",
       "      <th>...</th>\n",
       "      <td>...</td>\n",
       "      <td>...</td>\n",
       "      <td>...</td>\n",
       "      <td>...</td>\n",
       "      <td>...</td>\n",
       "    </tr>\n",
       "    <tr>\n",
       "      <th>8119</th>\n",
       "      <td>e</td>\n",
       "      <td>n</td>\n",
       "      <td>n</td>\n",
       "      <td>y</td>\n",
       "      <td>l</td>\n",
       "    </tr>\n",
       "    <tr>\n",
       "      <th>8120</th>\n",
       "      <td>e</td>\n",
       "      <td>n</td>\n",
       "      <td>n</td>\n",
       "      <td>y</td>\n",
       "      <td>l</td>\n",
       "    </tr>\n",
       "    <tr>\n",
       "      <th>8121</th>\n",
       "      <td>e</td>\n",
       "      <td>n</td>\n",
       "      <td>n</td>\n",
       "      <td>n</td>\n",
       "      <td>l</td>\n",
       "    </tr>\n",
       "    <tr>\n",
       "      <th>8122</th>\n",
       "      <td>p</td>\n",
       "      <td>n</td>\n",
       "      <td>y</td>\n",
       "      <td>b</td>\n",
       "      <td>l</td>\n",
       "    </tr>\n",
       "    <tr>\n",
       "      <th>8123</th>\n",
       "      <td>e</td>\n",
       "      <td>n</td>\n",
       "      <td>n</td>\n",
       "      <td>y</td>\n",
       "      <td>l</td>\n",
       "    </tr>\n",
       "  </tbody>\n",
       "</table>\n",
       "<p>8124 rows × 5 columns</p>\n",
       "</div>"
      ],
      "text/plain": [
       "     Class Cap_Color Odor Gill_Color Habitat\n",
       "0        p         n    p          k       u\n",
       "1        e         y    a          k       g\n",
       "2        e         w    l          n       m\n",
       "3        p         w    p          n       u\n",
       "4        e         g    n          k       g\n",
       "...    ...       ...  ...        ...     ...\n",
       "8119     e         n    n          y       l\n",
       "8120     e         n    n          y       l\n",
       "8121     e         n    n          n       l\n",
       "8122     p         n    y          b       l\n",
       "8123     e         n    n          y       l\n",
       "\n",
       "[8124 rows x 5 columns]"
      ]
     },
     "execution_count": 190,
     "metadata": {},
     "output_type": "execute_result"
    }
   ],
   "source": [
    "# Selecting the columns for the analysis\n",
    "dt=pd.DataFrame(df, columns=[0, 3, 5, 9, 22])\n",
    "\n",
    "# Rename the columns for easier to understand\n",
    "dt_mushroom = dt.rename(columns = {0: 'Class', 3: 'Cap_Color', 5:'Odor', 9:'Gill_Color', 22:'Habitat'})\n",
    "\n",
    "dt_mushroom"
   ]
  },
  {
   "cell_type": "code",
   "execution_count": 191,
   "metadata": {},
   "outputs": [
    {
     "data": {
      "text/html": [
       "<div>\n",
       "<style scoped>\n",
       "    .dataframe tbody tr th:only-of-type {\n",
       "        vertical-align: middle;\n",
       "    }\n",
       "\n",
       "    .dataframe tbody tr th {\n",
       "        vertical-align: top;\n",
       "    }\n",
       "\n",
       "    .dataframe thead th {\n",
       "        text-align: right;\n",
       "    }\n",
       "</style>\n",
       "<table border=\"1\" class=\"dataframe\">\n",
       "  <thead>\n",
       "    <tr style=\"text-align: right;\">\n",
       "      <th></th>\n",
       "      <th>Class</th>\n",
       "      <th>Cap_Color</th>\n",
       "      <th>Odor</th>\n",
       "      <th>Gill_Color</th>\n",
       "      <th>Habitat</th>\n",
       "    </tr>\n",
       "  </thead>\n",
       "  <tbody>\n",
       "    <tr>\n",
       "      <th>count</th>\n",
       "      <td>8124</td>\n",
       "      <td>8124</td>\n",
       "      <td>8124</td>\n",
       "      <td>8124</td>\n",
       "      <td>8124</td>\n",
       "    </tr>\n",
       "    <tr>\n",
       "      <th>unique</th>\n",
       "      <td>2</td>\n",
       "      <td>10</td>\n",
       "      <td>9</td>\n",
       "      <td>12</td>\n",
       "      <td>7</td>\n",
       "    </tr>\n",
       "    <tr>\n",
       "      <th>top</th>\n",
       "      <td>e</td>\n",
       "      <td>n</td>\n",
       "      <td>n</td>\n",
       "      <td>b</td>\n",
       "      <td>d</td>\n",
       "    </tr>\n",
       "    <tr>\n",
       "      <th>freq</th>\n",
       "      <td>4208</td>\n",
       "      <td>2284</td>\n",
       "      <td>3528</td>\n",
       "      <td>1728</td>\n",
       "      <td>3148</td>\n",
       "    </tr>\n",
       "  </tbody>\n",
       "</table>\n",
       "</div>"
      ],
      "text/plain": [
       "       Class Cap_Color  Odor Gill_Color Habitat\n",
       "count   8124      8124  8124       8124    8124\n",
       "unique     2        10     9         12       7\n",
       "top        e         n     n          b       d\n",
       "freq    4208      2284  3528       1728    3148"
      ]
     },
     "execution_count": 191,
     "metadata": {},
     "output_type": "execute_result"
    }
   ],
   "source": [
    "# Dsecribe the dataset\n",
    "dt_mushroom.describe()"
   ]
  },
  {
   "cell_type": "markdown",
   "metadata": {},
   "source": [
    "As the above description shows, there are 4028/8124 edible mushrooms in the dataset.  \n",
    "* The most common cap color is n = brown (2284) and there are 10 unique values.\n",
    "* The most repeated gill color is b = buff (1728) and there are 12 unique values.\n",
    "* The top odor is none (3528) and there is 9 unique values.\n",
    "* The most common habitat is d = woods (3148) and there are 7 unique values. "
   ]
  },
  {
   "cell_type": "markdown",
   "metadata": {},
   "source": [
    "# Exploratory Data Analysis (EDA)"
   ]
  },
  {
   "cell_type": "markdown",
   "metadata": {},
   "source": [
    "### 1. Class Distribution"
   ]
  },
  {
   "cell_type": "code",
   "execution_count": 192,
   "metadata": {},
   "outputs": [
    {
     "data": {
      "text/plain": [
       "Text(0.5, 1.0, 'Counts of  Mushrooms that edible or poisonous')"
      ]
     },
     "execution_count": 192,
     "metadata": {},
     "output_type": "execute_result"
    },
    {
     "data": {
      "image/png": "[encoded data removed]",
      "text/plain": [
       "<Figure size 432x288 with 1 Axes>"
      ]
     },
     "metadata": {
      "needs_background": "light"
     },
     "output_type": "display_data"
    }
   ],
   "source": [
    "#The plot of the counts of  Mushrooms that edible or poisonous\n",
    "sns.countplot(x=\"Class\", data=dt_mushroom)\n",
    "plt.title('Counts of  Mushrooms that edible or poisonous')"
   ]
  },
  {
   "cell_type": "markdown",
   "metadata": {},
   "source": [
    "#### The percent of mushrooms that are edible or poisonous"
   ]
  },
  {
   "cell_type": "code",
   "execution_count": 193,
   "metadata": {},
   "outputs": [
    {
     "data": {
      "text/plain": [
       "e    51.797144\n",
       "p    48.202856\n",
       "Name: Class, dtype: float64"
      ]
     },
     "execution_count": 193,
     "metadata": {},
     "output_type": "execute_result"
    }
   ],
   "source": [
    "# Calculating the percentage\n",
    "(dt_mushroom[\"Class\"].value_counts()/dt_mushroom[\"Class\"].count())*100"
   ]
  },
  {
   "cell_type": "markdown",
   "metadata": {},
   "source": [
    "* The distribution of the dataset is 51% edible mushrooms and 48% poisonous."
   ]
  },
  {
   "cell_type": "markdown",
   "metadata": {},
   "source": [
    "### 2. Odor Distribution"
   ]
  },
  {
   "cell_type": "code",
   "execution_count": 194,
   "metadata": {},
   "outputs": [
    {
     "data": {
      "text/plain": [
       "Text(0.5, 1.0, 'The distribution of the Odor')"
      ]
     },
     "execution_count": 194,
     "metadata": {},
     "output_type": "execute_result"
    },
    {
     "data": {
      "image/png": "[encoded data removed]",
      "text/plain": [
       "<Figure size 432x288 with 1 Axes>"
      ]
     },
     "metadata": {
      "needs_background": "light"
     },
     "output_type": "display_data"
    }
   ],
   "source": [
    "# The distribution of the \"Odor\"\n",
    "sns.countplot(x=\"Odor\", data=dt_mushroom)\n",
    "plt.title('The distribution of the Odor')"
   ]
  },
  {
   "cell_type": "markdown",
   "metadata": {},
   "source": [
    "* Odor: almond=a,anise=l,creosote=c,fishy=y,foul=f,musty=m,none=n,pungent=p,spicy=s"
   ]
  },
  {
   "cell_type": "markdown",
   "metadata": {},
   "source": [
    "#### The percent of each variables of Odor "
   ]
  },
  {
   "cell_type": "code",
   "execution_count": 195,
   "metadata": {},
   "outputs": [
    {
     "data": {
      "text/plain": [
       "n    43.426883\n",
       "f    26.587888\n",
       "s     7.090103\n",
       "y     7.090103\n",
       "a     4.923683\n",
       "l     4.923683\n",
       "p     3.151157\n",
       "c     2.363368\n",
       "m     0.443131\n",
       "Name: Odor, dtype: float64"
      ]
     },
     "execution_count": 195,
     "metadata": {},
     "output_type": "execute_result"
    }
   ],
   "source": [
    "(dt_mushroom[\"Odor\"].value_counts()/dt_mushroom[\"Odor\"].count())*100"
   ]
  },
  {
   "cell_type": "markdown",
   "metadata": {},
   "source": [
    "#### In conclusion, none-odor (n) has the most counts in the \"odor\" column, and musty  (m) has the  least counts. The mushroom with the second highest count is foul (f)."
   ]
  },
  {
   "cell_type": "markdown",
   "metadata": {},
   "source": [
    "### 3. Cap Color Distribution"
   ]
  },
  {
   "cell_type": "code",
   "execution_count": 196,
   "metadata": {},
   "outputs": [
    {
     "data": {
      "text/plain": [
       "Text(0.5, 1.0, 'The distribution of the cap color')"
      ]
     },
     "execution_count": 196,
     "metadata": {},
     "output_type": "execute_result"
    },
    {
     "data": {
      "image/png": "[encoded data removed]",
      "text/plain": [
       "<Figure size 432x288 with 1 Axes>"
      ]
     },
     "metadata": {
      "needs_background": "light"
     },
     "output_type": "display_data"
    }
   ],
   "source": [
    "# The distribution of the cap color\n",
    "sns.countplot(x=\"Cap_Color\", data=dt_mushroom)\n",
    "plt.title('The distribution of the cap color')"
   ]
  },
  {
   "cell_type": "markdown",
   "metadata": {},
   "source": [
    "* cap-color:brown=n,buff=b,cinnamon=c,gray=g,green=r,pink=p,purple=u,red=e,white=w,yellow=y"
   ]
  },
  {
   "cell_type": "markdown",
   "metadata": {},
   "source": [
    "#### The percent of each variable of cap color "
   ]
  },
  {
   "cell_type": "code",
   "execution_count": 197,
   "metadata": {},
   "outputs": [
    {
     "data": {
      "text/plain": [
       "n    28.114229\n",
       "g    22.648941\n",
       "e    18.463811\n",
       "y    13.195470\n",
       "w    12.801576\n",
       "b     2.067947\n",
       "p     1.772526\n",
       "c     0.541605\n",
       "r     0.196947\n",
       "u     0.196947\n",
       "Name: Cap_Color, dtype: float64"
      ]
     },
     "execution_count": 197,
     "metadata": {},
     "output_type": "execute_result"
    }
   ],
   "source": [
    "(dt_mushroom[\"Cap_Color\"].value_counts()/dt_mushroom[\"Cap_Color\"].count())*100"
   ]
  },
  {
   "cell_type": "markdown",
   "metadata": {},
   "source": [
    "#### In conclusion, brown (n) is the most common cap color in the dataset, and green (r) and purple (u) is the least common color. Green (g) and red (e) are the second and third with the highest count."
   ]
  },
  {
   "cell_type": "markdown",
   "metadata": {},
   "source": [
    "### 4. Gill Color Distribution"
   ]
  },
  {
   "cell_type": "code",
   "execution_count": 198,
   "metadata": {},
   "outputs": [
    {
     "data": {
      "text/plain": [
       "Text(0.5, 1.0, 'The distribution of the gill color')"
      ]
     },
     "execution_count": 198,
     "metadata": {},
     "output_type": "execute_result"
    },
    {
     "data": {
      "image/png": "[encoded data removed]",
      "text/plain": [
       "<Figure size 432x288 with 1 Axes>"
      ]
     },
     "metadata": {
      "needs_background": "light"
     },
     "output_type": "display_data"
    }
   ],
   "source": [
    "#The distribution of the gill color\n",
    "sns.countplot(x=\"Gill_Color\", data=dt_mushroom)\n",
    "plt.title('The distribution of the gill color')"
   ]
  },
  {
   "cell_type": "markdown",
   "metadata": {},
   "source": [
    "* gill-color:black=k,brown=n,buff=b,chocolate=h,gray=g,green=r,orange=o,pink=p,purple=u,red=e,white=w,yellow=y"
   ]
  },
  {
   "cell_type": "markdown",
   "metadata": {},
   "source": [
    "#### The percent of each variables of gill color"
   ]
  },
  {
   "cell_type": "code",
   "execution_count": 199,
   "metadata": {},
   "outputs": [
    {
     "data": {
      "text/plain": [
       "b    21.270310\n",
       "p    18.365337\n",
       "w    14.795667\n",
       "n    12.900049\n",
       "g     9.256524\n",
       "h     9.010340\n",
       "u     6.056130\n",
       "k     5.022157\n",
       "e     1.181684\n",
       "y     1.058592\n",
       "o     0.787789\n",
       "r     0.295421\n",
       "Name: Gill_Color, dtype: float64"
      ]
     },
     "execution_count": 199,
     "metadata": {},
     "output_type": "execute_result"
    }
   ],
   "source": [
    "(dt_mushroom[\"Gill_Color\"].value_counts()/dt_mushroom[\"Gill_Color\"].count())*100"
   ]
  },
  {
   "cell_type": "markdown",
   "metadata": {},
   "source": [
    "#### In conclusion, from the 12 different gill colors the buff (b)is the most common color of the gill  and green (r) is the least common.  Pink (p) and white (w) are second and third with the highest count."
   ]
  },
  {
   "cell_type": "markdown",
   "metadata": {},
   "source": [
    "    "
   ]
  },
  {
   "cell_type": "markdown",
   "metadata": {},
   "source": [
    "### 5. Habitat Distribution"
   ]
  },
  {
   "cell_type": "code",
   "execution_count": 200,
   "metadata": {},
   "outputs": [
    {
     "data": {
      "text/plain": [
       "Text(0.5, 1.0, 'The distribution of the Habitat')"
      ]
     },
     "execution_count": 200,
     "metadata": {},
     "output_type": "execute_result"
    },
    {
     "data": {
      "image/png": "[encoded data removed]",
      "text/plain": [
       "<Figure size 432x288 with 1 Axes>"
      ]
     },
     "metadata": {
      "needs_background": "light"
     },
     "output_type": "display_data"
    }
   ],
   "source": [
    "# The distribution of the Habitat\n",
    "sns.countplot(x=\"Habitat\", data=dt_mushroom)\n",
    "plt.title('The distribution of the Habitat')"
   ]
  },
  {
   "cell_type": "markdown",
   "metadata": {},
   "source": [
    "* habitat:grasses=g,leaves=l,meadows=m,paths=p,urban=u,waste=w,woods=d"
   ]
  },
  {
   "cell_type": "markdown",
   "metadata": {},
   "source": [
    "#### The percent of each variables of habitat"
   ]
  },
  {
   "cell_type": "code",
   "execution_count": 201,
   "metadata": {
    "scrolled": true
   },
   "outputs": [
    {
     "data": {
      "text/plain": [
       "d    38.749385\n",
       "g    26.440177\n",
       "p    14.081733\n",
       "l    10.241260\n",
       "u     4.529788\n",
       "m     3.594289\n",
       "w     2.363368\n",
       "Name: Habitat, dtype: float64"
      ]
     },
     "execution_count": 201,
     "metadata": {},
     "output_type": "execute_result"
    }
   ],
   "source": [
    "(dt_mushroom[\"Habitat\"].value_counts()/dt_mushroom[\"Habitat\"].count())*100"
   ]
  },
  {
   "cell_type": "markdown",
   "metadata": {},
   "source": [
    "#### In conclusion, woods (d) is the most common habitat for mushrooms, and waste (w) is the least common  habitat. "
   ]
  },
  {
   "cell_type": "markdown",
   "metadata": {},
   "source": [
    "## Distribution of  Edible Mushrooms or Poisonous  Mushrooms by each Column\n",
    "\n",
    "### 6. Odor & Class"
   ]
  },
  {
   "cell_type": "code",
   "execution_count": 202,
   "metadata": {},
   "outputs": [
    {
     "data": {
      "text/plain": [
       "Text(0.5, 1.0, 'The distribution of  Edible Mushrooms or Poisonous Mushrooms in Odor')"
      ]
     },
     "execution_count": 202,
     "metadata": {},
     "output_type": "execute_result"
    },
    {
     "data": {
      "image/png": "[encoded data removed]",
      "text/plain": [
       "<Figure size 432x288 with 1 Axes>"
      ]
     },
     "metadata": {
      "needs_background": "light"
     },
     "output_type": "display_data"
    }
   ],
   "source": [
    "#class vs odor\n",
    "sns.countplot(x=\"Odor\", hue=\"Class\", data=dt_mushroom)\n",
    "plt.title('The distribution of  Edible Mushrooms or Poisonous Mushrooms in Odor')"
   ]
  },
  {
   "cell_type": "markdown",
   "metadata": {},
   "source": [
    "#### If the mushroom has no other, none (n), or it has almond (a) or anise (l) odor, it very likely is an edible mushroom. \n",
    "#### On the other hand, if the mushroom has a pungent (p), fishy (y), foul (f), spicy (s), or musty (m) odor, it probably a poisonous mushroom."
   ]
  },
  {
   "cell_type": "markdown",
   "metadata": {},
   "source": [
    "### 7. Cap Color & Class"
   ]
  },
  {
   "cell_type": "code",
   "execution_count": 203,
   "metadata": {},
   "outputs": [
    {
     "data": {
      "text/plain": [
       "Text(0.5, 1.0, 'The distribution of  Edible Mushrooms or Poisonous Mushrooms in Cap color')"
      ]
     },
     "execution_count": 203,
     "metadata": {},
     "output_type": "execute_result"
    },
    {
     "data": {
      "image/png": "[encoded data removed]",
      "text/plain": [
       "<Figure size 432x288 with 1 Axes>"
      ]
     },
     "metadata": {
      "needs_background": "light"
     },
     "output_type": "display_data"
    }
   ],
   "source": [
    "#class vs Cap color\n",
    "sns.countplot(x=\"Cap_Color\", hue=\"Class\", data=dt_mushroom)\n",
    "plt.title('The distribution of  Edible Mushrooms or Poisonous Mushrooms in Cap color')"
   ]
  },
  {
   "cell_type": "markdown",
   "metadata": {},
   "source": [
    "#### For all the values the class is distributed amongst both poisonous and edible so it may not be a good predictive model. Only purple (u) and green (r) are only edible however the sample size is very small to have a signifcant prediction for these two colors."
   ]
  },
  {
   "cell_type": "markdown",
   "metadata": {},
   "source": [
    "### 8. Gill color & Class"
   ]
  },
  {
   "cell_type": "code",
   "execution_count": 204,
   "metadata": {},
   "outputs": [
    {
     "data": {
      "text/plain": [
       "Text(0.5, 1.0, 'The distribution of  Edible Mushrooms or Poisonous Mushrooms in gill color')"
      ]
     },
     "execution_count": 204,
     "metadata": {},
     "output_type": "execute_result"
    },
    {
     "data": {
      "image/png": "[encoded data removed]",
      "text/plain": [
       "<Figure size 432x288 with 1 Axes>"
      ]
     },
     "metadata": {
      "needs_background": "light"
     },
     "output_type": "display_data"
    }
   ],
   "source": [
    "#class vs gill color\n",
    "sns.countplot(x=\"Gill_Color\", hue=\"Class\", data=dt_mushroom)\n",
    "plt.title('The distribution of  Edible Mushrooms or Poisonous Mushrooms in gill color')"
   ]
  },
  {
   "cell_type": "markdown",
   "metadata": {},
   "source": [
    "#### This graph shows the samples with buff (b) gill color they are all poisonous. For greay (g) and chocolate (h) the count of poisonous is much higher than the edible indicating that this colors are more likely to be poisonous. In the case of brown (n), black (k), white (w) and purple (u) the number of edible mushrooms is significantly higher which could be an indication of a good predictive model. This attribute could be a good predictive model but is not as accurate as odor."
   ]
  },
  {
   "cell_type": "markdown",
   "metadata": {},
   "source": [
    "### 9. Habitat & Class"
   ]
  },
  {
   "cell_type": "code",
   "execution_count": 205,
   "metadata": {},
   "outputs": [
    {
     "data": {
      "text/plain": [
       "Text(0.5, 1.0, 'The distribution of  Edible Mushrooms or Poisonous Mushrooms in Habitat')"
      ]
     },
     "execution_count": 205,
     "metadata": {},
     "output_type": "execute_result"
    },
    {
     "data": {
      "image/png": "[encoded data removed]",
      "text/plain": [
       "<Figure size 432x288 with 1 Axes>"
      ]
     },
     "metadata": {
      "needs_background": "light"
     },
     "output_type": "display_data"
    }
   ],
   "source": [
    "#class vs Habitat\n",
    "sns.countplot(x=\"Habitat\", hue=\"Class\", data=dt_mushroom)\n",
    "plt.title('The distribution of  Edible Mushrooms or Poisonous Mushrooms in Habitat')"
   ]
  },
  {
   "cell_type": "markdown",
   "metadata": {},
   "source": [
    "#### For this graph, grass (g) and woods (d) the number of edible mushrooms is higher than the poisonous but there is still a good number of p values. For paths (p), urban (u) and leaves (l) almost all the values are poisonous. Because there are some significant differences it could be a good predictive model but we need to test it first. It's still not as signifcant as the odor attribute."
   ]
  },
  {
   "cell_type": "markdown",
   "metadata": {},
   "source": [
    "## Creating Dummy Variables\n",
    "\n",
    "* We create dummy variables for all of our categorical data using pd_get.dummies( )\n",
    "* For the class column that determiens if it is edible or poisonous we create a binary indicator using replace( )"
   ]
  },
  {
   "cell_type": "code",
   "execution_count": 206,
   "metadata": {},
   "outputs": [
    {
     "data": {
      "text/html": [
       "<div>\n",
       "<style scoped>\n",
       "    .dataframe tbody tr th:only-of-type {\n",
       "        vertical-align: middle;\n",
       "    }\n",
       "\n",
       "    .dataframe tbody tr th {\n",
       "        vertical-align: top;\n",
       "    }\n",
       "\n",
       "    .dataframe thead th {\n",
       "        text-align: right;\n",
       "    }\n",
       "</style>\n",
       "<table border=\"1\" class=\"dataframe\">\n",
       "  <thead>\n",
       "    <tr style=\"text-align: right;\">\n",
       "      <th></th>\n",
       "      <th>Class</th>\n",
       "      <th>Cap_Color</th>\n",
       "      <th>Odor</th>\n",
       "      <th>Gill_Color</th>\n",
       "      <th>Habitat</th>\n",
       "    </tr>\n",
       "  </thead>\n",
       "  <tbody>\n",
       "    <tr>\n",
       "      <th>0</th>\n",
       "      <td>0</td>\n",
       "      <td>n</td>\n",
       "      <td>p</td>\n",
       "      <td>k</td>\n",
       "      <td>u</td>\n",
       "    </tr>\n",
       "    <tr>\n",
       "      <th>1</th>\n",
       "      <td>1</td>\n",
       "      <td>y</td>\n",
       "      <td>a</td>\n",
       "      <td>k</td>\n",
       "      <td>g</td>\n",
       "    </tr>\n",
       "    <tr>\n",
       "      <th>2</th>\n",
       "      <td>1</td>\n",
       "      <td>w</td>\n",
       "      <td>l</td>\n",
       "      <td>n</td>\n",
       "      <td>m</td>\n",
       "    </tr>\n",
       "    <tr>\n",
       "      <th>3</th>\n",
       "      <td>0</td>\n",
       "      <td>w</td>\n",
       "      <td>p</td>\n",
       "      <td>n</td>\n",
       "      <td>u</td>\n",
       "    </tr>\n",
       "    <tr>\n",
       "      <th>4</th>\n",
       "      <td>1</td>\n",
       "      <td>g</td>\n",
       "      <td>n</td>\n",
       "      <td>k</td>\n",
       "      <td>g</td>\n",
       "    </tr>\n",
       "    <tr>\n",
       "      <th>...</th>\n",
       "      <td>...</td>\n",
       "      <td>...</td>\n",
       "      <td>...</td>\n",
       "      <td>...</td>\n",
       "      <td>...</td>\n",
       "    </tr>\n",
       "    <tr>\n",
       "      <th>8119</th>\n",
       "      <td>1</td>\n",
       "      <td>n</td>\n",
       "      <td>n</td>\n",
       "      <td>y</td>\n",
       "      <td>l</td>\n",
       "    </tr>\n",
       "    <tr>\n",
       "      <th>8120</th>\n",
       "      <td>1</td>\n",
       "      <td>n</td>\n",
       "      <td>n</td>\n",
       "      <td>y</td>\n",
       "      <td>l</td>\n",
       "    </tr>\n",
       "    <tr>\n",
       "      <th>8121</th>\n",
       "      <td>1</td>\n",
       "      <td>n</td>\n",
       "      <td>n</td>\n",
       "      <td>n</td>\n",
       "      <td>l</td>\n",
       "    </tr>\n",
       "    <tr>\n",
       "      <th>8122</th>\n",
       "      <td>0</td>\n",
       "      <td>n</td>\n",
       "      <td>y</td>\n",
       "      <td>b</td>\n",
       "      <td>l</td>\n",
       "    </tr>\n",
       "    <tr>\n",
       "      <th>8123</th>\n",
       "      <td>1</td>\n",
       "      <td>n</td>\n",
       "      <td>n</td>\n",
       "      <td>y</td>\n",
       "      <td>l</td>\n",
       "    </tr>\n",
       "  </tbody>\n",
       "</table>\n",
       "<p>8124 rows × 5 columns</p>\n",
       "</div>"
      ],
      "text/plain": [
       "      Class Cap_Color Odor Gill_Color Habitat\n",
       "0         0         n    p          k       u\n",
       "1         1         y    a          k       g\n",
       "2         1         w    l          n       m\n",
       "3         0         w    p          n       u\n",
       "4         1         g    n          k       g\n",
       "...     ...       ...  ...        ...     ...\n",
       "8119      1         n    n          y       l\n",
       "8120      1         n    n          y       l\n",
       "8121      1         n    n          n       l\n",
       "8122      0         n    y          b       l\n",
       "8123      1         n    n          y       l\n",
       "\n",
       "[8124 rows x 5 columns]"
      ]
     },
     "execution_count": 206,
     "metadata": {},
     "output_type": "execute_result"
    }
   ],
   "source": [
    "# Converting the \"e\" and \"p\" indicators to digits\n",
    "\n",
    "dt_mushroom['Class'] = dt_mushroom['Class'].replace('p', 0)\n",
    "dt_mushroom['Class'] = dt_mushroom['Class'].replace('e', 1)\n",
    "dt_mushroom"
   ]
  },
  {
   "cell_type": "code",
   "execution_count": 207,
   "metadata": {},
   "outputs": [
    {
     "data": {
      "text/plain": [
       "Class          int64\n",
       "Cap_Color     object\n",
       "Odor          object\n",
       "Gill_Color    object\n",
       "Habitat       object\n",
       "dtype: object"
      ]
     },
     "execution_count": 207,
     "metadata": {},
     "output_type": "execute_result"
    }
   ],
   "source": [
    "#Checking the data types\n",
    "dt_mushroom.dtypes"
   ]
  },
  {
   "cell_type": "code",
   "execution_count": 208,
   "metadata": {},
   "outputs": [
    {
     "data": {
      "text/html": [
       "<div>\n",
       "<style scoped>\n",
       "    .dataframe tbody tr th:only-of-type {\n",
       "        vertical-align: middle;\n",
       "    }\n",
       "\n",
       "    .dataframe tbody tr th {\n",
       "        vertical-align: top;\n",
       "    }\n",
       "\n",
       "    .dataframe thead th {\n",
       "        text-align: right;\n",
       "    }\n",
       "</style>\n",
       "<table border=\"1\" class=\"dataframe\">\n",
       "  <thead>\n",
       "    <tr style=\"text-align: right;\">\n",
       "      <th></th>\n",
       "      <th>Class</th>\n",
       "      <th>Cap_Color_b</th>\n",
       "      <th>Cap_Color_c</th>\n",
       "      <th>Cap_Color_e</th>\n",
       "      <th>Cap_Color_g</th>\n",
       "      <th>Cap_Color_n</th>\n",
       "      <th>Cap_Color_p</th>\n",
       "      <th>Cap_Color_r</th>\n",
       "      <th>Cap_Color_u</th>\n",
       "      <th>Cap_Color_w</th>\n",
       "      <th>...</th>\n",
       "      <th>Gill_Color_u</th>\n",
       "      <th>Gill_Color_w</th>\n",
       "      <th>Gill_Color_y</th>\n",
       "      <th>Habitat_d</th>\n",
       "      <th>Habitat_g</th>\n",
       "      <th>Habitat_l</th>\n",
       "      <th>Habitat_m</th>\n",
       "      <th>Habitat_p</th>\n",
       "      <th>Habitat_u</th>\n",
       "      <th>Habitat_w</th>\n",
       "    </tr>\n",
       "  </thead>\n",
       "  <tbody>\n",
       "    <tr>\n",
       "      <th>0</th>\n",
       "      <td>0</td>\n",
       "      <td>0</td>\n",
       "      <td>0</td>\n",
       "      <td>0</td>\n",
       "      <td>0</td>\n",
       "      <td>1</td>\n",
       "      <td>0</td>\n",
       "      <td>0</td>\n",
       "      <td>0</td>\n",
       "      <td>0</td>\n",
       "      <td>...</td>\n",
       "      <td>0</td>\n",
       "      <td>0</td>\n",
       "      <td>0</td>\n",
       "      <td>0</td>\n",
       "      <td>0</td>\n",
       "      <td>0</td>\n",
       "      <td>0</td>\n",
       "      <td>0</td>\n",
       "      <td>1</td>\n",
       "      <td>0</td>\n",
       "    </tr>\n",
       "    <tr>\n",
       "      <th>1</th>\n",
       "      <td>1</td>\n",
       "      <td>0</td>\n",
       "      <td>0</td>\n",
       "      <td>0</td>\n",
       "      <td>0</td>\n",
       "      <td>0</td>\n",
       "      <td>0</td>\n",
       "      <td>0</td>\n",
       "      <td>0</td>\n",
       "      <td>0</td>\n",
       "      <td>...</td>\n",
       "      <td>0</td>\n",
       "      <td>0</td>\n",
       "      <td>0</td>\n",
       "      <td>0</td>\n",
       "      <td>1</td>\n",
       "      <td>0</td>\n",
       "      <td>0</td>\n",
       "      <td>0</td>\n",
       "      <td>0</td>\n",
       "      <td>0</td>\n",
       "    </tr>\n",
       "    <tr>\n",
       "      <th>2</th>\n",
       "      <td>1</td>\n",
       "      <td>0</td>\n",
       "      <td>0</td>\n",
       "      <td>0</td>\n",
       "      <td>0</td>\n",
       "      <td>0</td>\n",
       "      <td>0</td>\n",
       "      <td>0</td>\n",
       "      <td>0</td>\n",
       "      <td>1</td>\n",
       "      <td>...</td>\n",
       "      <td>0</td>\n",
       "      <td>0</td>\n",
       "      <td>0</td>\n",
       "      <td>0</td>\n",
       "      <td>0</td>\n",
       "      <td>0</td>\n",
       "      <td>1</td>\n",
       "      <td>0</td>\n",
       "      <td>0</td>\n",
       "      <td>0</td>\n",
       "    </tr>\n",
       "    <tr>\n",
       "      <th>3</th>\n",
       "      <td>0</td>\n",
       "      <td>0</td>\n",
       "      <td>0</td>\n",
       "      <td>0</td>\n",
       "      <td>0</td>\n",
       "      <td>0</td>\n",
       "      <td>0</td>\n",
       "      <td>0</td>\n",
       "      <td>0</td>\n",
       "      <td>1</td>\n",
       "      <td>...</td>\n",
       "      <td>0</td>\n",
       "      <td>0</td>\n",
       "      <td>0</td>\n",
       "      <td>0</td>\n",
       "      <td>0</td>\n",
       "      <td>0</td>\n",
       "      <td>0</td>\n",
       "      <td>0</td>\n",
       "      <td>1</td>\n",
       "      <td>0</td>\n",
       "    </tr>\n",
       "    <tr>\n",
       "      <th>4</th>\n",
       "      <td>1</td>\n",
       "      <td>0</td>\n",
       "      <td>0</td>\n",
       "      <td>0</td>\n",
       "      <td>1</td>\n",
       "      <td>0</td>\n",
       "      <td>0</td>\n",
       "      <td>0</td>\n",
       "      <td>0</td>\n",
       "      <td>0</td>\n",
       "      <td>...</td>\n",
       "      <td>0</td>\n",
       "      <td>0</td>\n",
       "      <td>0</td>\n",
       "      <td>0</td>\n",
       "      <td>1</td>\n",
       "      <td>0</td>\n",
       "      <td>0</td>\n",
       "      <td>0</td>\n",
       "      <td>0</td>\n",
       "      <td>0</td>\n",
       "    </tr>\n",
       "    <tr>\n",
       "      <th>5</th>\n",
       "      <td>1</td>\n",
       "      <td>0</td>\n",
       "      <td>0</td>\n",
       "      <td>0</td>\n",
       "      <td>0</td>\n",
       "      <td>0</td>\n",
       "      <td>0</td>\n",
       "      <td>0</td>\n",
       "      <td>0</td>\n",
       "      <td>0</td>\n",
       "      <td>...</td>\n",
       "      <td>0</td>\n",
       "      <td>0</td>\n",
       "      <td>0</td>\n",
       "      <td>0</td>\n",
       "      <td>1</td>\n",
       "      <td>0</td>\n",
       "      <td>0</td>\n",
       "      <td>0</td>\n",
       "      <td>0</td>\n",
       "      <td>0</td>\n",
       "    </tr>\n",
       "    <tr>\n",
       "      <th>6</th>\n",
       "      <td>1</td>\n",
       "      <td>0</td>\n",
       "      <td>0</td>\n",
       "      <td>0</td>\n",
       "      <td>0</td>\n",
       "      <td>0</td>\n",
       "      <td>0</td>\n",
       "      <td>0</td>\n",
       "      <td>0</td>\n",
       "      <td>1</td>\n",
       "      <td>...</td>\n",
       "      <td>0</td>\n",
       "      <td>0</td>\n",
       "      <td>0</td>\n",
       "      <td>0</td>\n",
       "      <td>0</td>\n",
       "      <td>0</td>\n",
       "      <td>1</td>\n",
       "      <td>0</td>\n",
       "      <td>0</td>\n",
       "      <td>0</td>\n",
       "    </tr>\n",
       "    <tr>\n",
       "      <th>7</th>\n",
       "      <td>1</td>\n",
       "      <td>0</td>\n",
       "      <td>0</td>\n",
       "      <td>0</td>\n",
       "      <td>0</td>\n",
       "      <td>0</td>\n",
       "      <td>0</td>\n",
       "      <td>0</td>\n",
       "      <td>0</td>\n",
       "      <td>1</td>\n",
       "      <td>...</td>\n",
       "      <td>0</td>\n",
       "      <td>0</td>\n",
       "      <td>0</td>\n",
       "      <td>0</td>\n",
       "      <td>0</td>\n",
       "      <td>0</td>\n",
       "      <td>1</td>\n",
       "      <td>0</td>\n",
       "      <td>0</td>\n",
       "      <td>0</td>\n",
       "    </tr>\n",
       "    <tr>\n",
       "      <th>8</th>\n",
       "      <td>0</td>\n",
       "      <td>0</td>\n",
       "      <td>0</td>\n",
       "      <td>0</td>\n",
       "      <td>0</td>\n",
       "      <td>0</td>\n",
       "      <td>0</td>\n",
       "      <td>0</td>\n",
       "      <td>0</td>\n",
       "      <td>1</td>\n",
       "      <td>...</td>\n",
       "      <td>0</td>\n",
       "      <td>0</td>\n",
       "      <td>0</td>\n",
       "      <td>0</td>\n",
       "      <td>1</td>\n",
       "      <td>0</td>\n",
       "      <td>0</td>\n",
       "      <td>0</td>\n",
       "      <td>0</td>\n",
       "      <td>0</td>\n",
       "    </tr>\n",
       "    <tr>\n",
       "      <th>9</th>\n",
       "      <td>1</td>\n",
       "      <td>0</td>\n",
       "      <td>0</td>\n",
       "      <td>0</td>\n",
       "      <td>0</td>\n",
       "      <td>0</td>\n",
       "      <td>0</td>\n",
       "      <td>0</td>\n",
       "      <td>0</td>\n",
       "      <td>0</td>\n",
       "      <td>...</td>\n",
       "      <td>0</td>\n",
       "      <td>0</td>\n",
       "      <td>0</td>\n",
       "      <td>0</td>\n",
       "      <td>0</td>\n",
       "      <td>0</td>\n",
       "      <td>1</td>\n",
       "      <td>0</td>\n",
       "      <td>0</td>\n",
       "      <td>0</td>\n",
       "    </tr>\n",
       "  </tbody>\n",
       "</table>\n",
       "<p>10 rows × 39 columns</p>\n",
       "</div>"
      ],
      "text/plain": [
       "   Class  Cap_Color_b  Cap_Color_c  Cap_Color_e  Cap_Color_g  Cap_Color_n  \\\n",
       "0      0            0            0            0            0            1   \n",
       "1      1            0            0            0            0            0   \n",
       "2      1            0            0            0            0            0   \n",
       "3      0            0            0            0            0            0   \n",
       "4      1            0            0            0            1            0   \n",
       "5      1            0            0            0            0            0   \n",
       "6      1            0            0            0            0            0   \n",
       "7      1            0            0            0            0            0   \n",
       "8      0            0            0            0            0            0   \n",
       "9      1            0            0            0            0            0   \n",
       "\n",
       "   Cap_Color_p  Cap_Color_r  Cap_Color_u  Cap_Color_w  ...  Gill_Color_u  \\\n",
       "0            0            0            0            0  ...             0   \n",
       "1            0            0            0            0  ...             0   \n",
       "2            0            0            0            1  ...             0   \n",
       "3            0            0            0            1  ...             0   \n",
       "4            0            0            0            0  ...             0   \n",
       "5            0            0            0            0  ...             0   \n",
       "6            0            0            0            1  ...             0   \n",
       "7            0            0            0            1  ...             0   \n",
       "8            0            0            0            1  ...             0   \n",
       "9            0            0            0            0  ...             0   \n",
       "\n",
       "   Gill_Color_w  Gill_Color_y  Habitat_d  Habitat_g  Habitat_l  Habitat_m  \\\n",
       "0             0             0          0          0          0          0   \n",
       "1             0             0          0          1          0          0   \n",
       "2             0             0          0          0          0          1   \n",
       "3             0             0          0          0          0          0   \n",
       "4             0             0          0          1          0          0   \n",
       "5             0             0          0          1          0          0   \n",
       "6             0             0          0          0          0          1   \n",
       "7             0             0          0          0          0          1   \n",
       "8             0             0          0          1          0          0   \n",
       "9             0             0          0          0          0          1   \n",
       "\n",
       "   Habitat_p  Habitat_u  Habitat_w  \n",
       "0          0          1          0  \n",
       "1          0          0          0  \n",
       "2          0          0          0  \n",
       "3          0          1          0  \n",
       "4          0          0          0  \n",
       "5          0          0          0  \n",
       "6          0          0          0  \n",
       "7          0          0          0  \n",
       "8          0          0          0  \n",
       "9          0          0          0  \n",
       "\n",
       "[10 rows x 39 columns]"
      ]
     },
     "execution_count": 208,
     "metadata": {},
     "output_type": "execute_result"
    }
   ],
   "source": [
    "#creates copy of the original data subset\n",
    "dt_mushroom2 = dt_mushroom.copy()\n",
    "\n",
    "\n",
    "# create a new \"0/1\" binary indicator variable for each categorical data value\n",
    "dummy = pd.get_dummies(dt_mushroom2)\n",
    "dummy.head(10)"
   ]
  },
  {
   "cell_type": "markdown",
   "metadata": {},
   "source": [
    "# Phase II: Build Predictive Models \n",
    "\n",
    "* Now we are going to run a regression model on it to determine which attribute is the best predictor of whether a given mushroom is poisonous or edible."
   ]
  },
  {
   "cell_type": "code",
   "execution_count": 209,
   "metadata": {},
   "outputs": [
    {
     "data": {
      "text/plain": [
       "Class         0\n",
       "Cap_Color     0\n",
       "Odor          0\n",
       "Gill_Color    0\n",
       "Habitat       0\n",
       "dtype: int64"
      ]
     },
     "execution_count": 209,
     "metadata": {},
     "output_type": "execute_result"
    }
   ],
   "source": [
    "#Check to see if any null value existed\n",
    "\n",
    "dt_mushroom.isnull().sum()"
   ]
  },
  {
   "cell_type": "markdown",
   "metadata": {},
   "source": [
    " #### The percent of  mushrooms that are edible"
   ]
  },
  {
   "cell_type": "code",
   "execution_count": 210,
   "metadata": {},
   "outputs": [
    {
     "data": {
      "text/plain": [
       "0.517971442639094"
      ]
     },
     "execution_count": 210,
     "metadata": {},
     "output_type": "execute_result"
    }
   ],
   "source": [
    "#check the null error percent\n",
    "dt_mushroom.Class.values.sum()/dt_mushroom.shape[0]"
   ]
  },
  {
   "cell_type": "markdown",
   "metadata": {},
   "source": [
    "* Using the null error rate we determine that 48% of the mushrooms are poisonous and 51% are edible. We do this to as a base and if our model exceeds then it is generating value."
   ]
  },
  {
   "cell_type": "markdown",
   "metadata": {},
   "source": [
    "# Test 1: Individual Predictions\n",
    "\n",
    "## Model 1.1: Odor"
   ]
  },
  {
   "cell_type": "code",
   "execution_count": 211,
   "metadata": {},
   "outputs": [
    {
     "data": {
      "text/html": [
       "<div>\n",
       "<style scoped>\n",
       "    .dataframe tbody tr th:only-of-type {\n",
       "        vertical-align: middle;\n",
       "    }\n",
       "\n",
       "    .dataframe tbody tr th {\n",
       "        vertical-align: top;\n",
       "    }\n",
       "\n",
       "    .dataframe thead th {\n",
       "        text-align: right;\n",
       "    }\n",
       "</style>\n",
       "<table border=\"1\" class=\"dataframe\">\n",
       "  <thead>\n",
       "    <tr style=\"text-align: right;\">\n",
       "      <th></th>\n",
       "      <th>Odor_a</th>\n",
       "      <th>Odor_p</th>\n",
       "      <th>Odor_l</th>\n",
       "      <th>Odor_n</th>\n",
       "      <th>Odor_f</th>\n",
       "      <th>Odor_c</th>\n",
       "      <th>Odor_y</th>\n",
       "      <th>Odor_s</th>\n",
       "      <th>Odor_m</th>\n",
       "    </tr>\n",
       "  </thead>\n",
       "  <tbody>\n",
       "    <tr>\n",
       "      <th>0</th>\n",
       "      <td>0</td>\n",
       "      <td>1</td>\n",
       "      <td>0</td>\n",
       "      <td>0</td>\n",
       "      <td>0</td>\n",
       "      <td>0</td>\n",
       "      <td>0</td>\n",
       "      <td>0</td>\n",
       "      <td>0</td>\n",
       "    </tr>\n",
       "    <tr>\n",
       "      <th>1</th>\n",
       "      <td>1</td>\n",
       "      <td>0</td>\n",
       "      <td>0</td>\n",
       "      <td>0</td>\n",
       "      <td>0</td>\n",
       "      <td>0</td>\n",
       "      <td>0</td>\n",
       "      <td>0</td>\n",
       "      <td>0</td>\n",
       "    </tr>\n",
       "    <tr>\n",
       "      <th>2</th>\n",
       "      <td>0</td>\n",
       "      <td>0</td>\n",
       "      <td>1</td>\n",
       "      <td>0</td>\n",
       "      <td>0</td>\n",
       "      <td>0</td>\n",
       "      <td>0</td>\n",
       "      <td>0</td>\n",
       "      <td>0</td>\n",
       "    </tr>\n",
       "    <tr>\n",
       "      <th>3</th>\n",
       "      <td>0</td>\n",
       "      <td>1</td>\n",
       "      <td>0</td>\n",
       "      <td>0</td>\n",
       "      <td>0</td>\n",
       "      <td>0</td>\n",
       "      <td>0</td>\n",
       "      <td>0</td>\n",
       "      <td>0</td>\n",
       "    </tr>\n",
       "    <tr>\n",
       "      <th>4</th>\n",
       "      <td>0</td>\n",
       "      <td>0</td>\n",
       "      <td>0</td>\n",
       "      <td>1</td>\n",
       "      <td>0</td>\n",
       "      <td>0</td>\n",
       "      <td>0</td>\n",
       "      <td>0</td>\n",
       "      <td>0</td>\n",
       "    </tr>\n",
       "  </tbody>\n",
       "</table>\n",
       "</div>"
      ],
      "text/plain": [
       "   Odor_a  Odor_p  Odor_l  Odor_n  Odor_f  Odor_c  Odor_y  Odor_s  Odor_m\n",
       "0       0       1       0       0       0       0       0       0       0\n",
       "1       1       0       0       0       0       0       0       0       0\n",
       "2       0       0       1       0       0       0       0       0       0\n",
       "3       0       1       0       0       0       0       0       0       0\n",
       "4       0       0       0       1       0       0       0       0       0"
      ]
     },
     "execution_count": 211,
     "metadata": {},
     "output_type": "execute_result"
    }
   ],
   "source": [
    "# Choose the odor to do the predict with the edible as x\n",
    "x = dummy[['Odor_a','Odor_p','Odor_l','Odor_n','Odor_f','Odor_c','Odor_y','Odor_s','Odor_m']]\n",
    "\n",
    "x.head(5)"
   ]
  },
  {
   "cell_type": "code",
   "execution_count": 212,
   "metadata": {},
   "outputs": [
    {
     "data": {
      "text/plain": [
       "0    0\n",
       "1    1\n",
       "2    1\n",
       "3    0\n",
       "4    1\n",
       "Name: Class, dtype: int64"
      ]
     },
     "execution_count": 212,
     "metadata": {},
     "output_type": "execute_result"
    }
   ],
   "source": [
    "# Choose Class as y value\n",
    "y = dummy['Class']\n",
    "\n",
    "y.head(5)"
   ]
  },
  {
   "cell_type": "code",
   "execution_count": 213,
   "metadata": {},
   "outputs": [
    {
     "data": {
      "text/html": [
       "<div>\n",
       "<style scoped>\n",
       "    .dataframe tbody tr th:only-of-type {\n",
       "        vertical-align: middle;\n",
       "    }\n",
       "\n",
       "    .dataframe tbody tr th {\n",
       "        vertical-align: top;\n",
       "    }\n",
       "\n",
       "    .dataframe thead th {\n",
       "        text-align: right;\n",
       "    }\n",
       "</style>\n",
       "<table border=\"1\" class=\"dataframe\">\n",
       "  <thead>\n",
       "    <tr style=\"text-align: right;\">\n",
       "      <th></th>\n",
       "      <th>Odor_a</th>\n",
       "      <th>Odor_p</th>\n",
       "      <th>Odor_l</th>\n",
       "      <th>Odor_n</th>\n",
       "      <th>Odor_f</th>\n",
       "      <th>Odor_c</th>\n",
       "      <th>Odor_y</th>\n",
       "      <th>Odor_s</th>\n",
       "      <th>Odor_m</th>\n",
       "    </tr>\n",
       "  </thead>\n",
       "  <tbody>\n",
       "    <tr>\n",
       "      <th>6253</th>\n",
       "      <td>0</td>\n",
       "      <td>0</td>\n",
       "      <td>0</td>\n",
       "      <td>0</td>\n",
       "      <td>0</td>\n",
       "      <td>0</td>\n",
       "      <td>0</td>\n",
       "      <td>1</td>\n",
       "      <td>0</td>\n",
       "    </tr>\n",
       "    <tr>\n",
       "      <th>2739</th>\n",
       "      <td>0</td>\n",
       "      <td>0</td>\n",
       "      <td>0</td>\n",
       "      <td>1</td>\n",
       "      <td>0</td>\n",
       "      <td>0</td>\n",
       "      <td>0</td>\n",
       "      <td>0</td>\n",
       "      <td>0</td>\n",
       "    </tr>\n",
       "    <tr>\n",
       "      <th>7436</th>\n",
       "      <td>0</td>\n",
       "      <td>0</td>\n",
       "      <td>0</td>\n",
       "      <td>0</td>\n",
       "      <td>0</td>\n",
       "      <td>0</td>\n",
       "      <td>1</td>\n",
       "      <td>0</td>\n",
       "      <td>0</td>\n",
       "    </tr>\n",
       "    <tr>\n",
       "      <th>6339</th>\n",
       "      <td>0</td>\n",
       "      <td>0</td>\n",
       "      <td>0</td>\n",
       "      <td>0</td>\n",
       "      <td>1</td>\n",
       "      <td>0</td>\n",
       "      <td>0</td>\n",
       "      <td>0</td>\n",
       "      <td>0</td>\n",
       "    </tr>\n",
       "    <tr>\n",
       "      <th>4654</th>\n",
       "      <td>0</td>\n",
       "      <td>0</td>\n",
       "      <td>0</td>\n",
       "      <td>0</td>\n",
       "      <td>1</td>\n",
       "      <td>0</td>\n",
       "      <td>0</td>\n",
       "      <td>0</td>\n",
       "      <td>0</td>\n",
       "    </tr>\n",
       "  </tbody>\n",
       "</table>\n",
       "</div>"
      ],
      "text/plain": [
       "      Odor_a  Odor_p  Odor_l  Odor_n  Odor_f  Odor_c  Odor_y  Odor_s  Odor_m\n",
       "6253       0       0       0       0       0       0       0       1       0\n",
       "2739       0       0       0       1       0       0       0       0       0\n",
       "7436       0       0       0       0       0       0       1       0       0\n",
       "6339       0       0       0       0       1       0       0       0       0\n",
       "4654       0       0       0       0       1       0       0       0       0"
      ]
     },
     "execution_count": 213,
     "metadata": {},
     "output_type": "execute_result"
    }
   ],
   "source": [
    "# To split train set and test set\n",
    "train_x,test_x,train_y,test_y = train_test_split(x, y, random_state=1)\n",
    "\n",
    "train_x.head(5)"
   ]
  },
  {
   "cell_type": "code",
   "execution_count": 214,
   "metadata": {},
   "outputs": [
    {
     "data": {
      "text/html": [
       "<div>\n",
       "<style scoped>\n",
       "    .dataframe tbody tr th:only-of-type {\n",
       "        vertical-align: middle;\n",
       "    }\n",
       "\n",
       "    .dataframe tbody tr th {\n",
       "        vertical-align: top;\n",
       "    }\n",
       "\n",
       "    .dataframe thead th {\n",
       "        text-align: right;\n",
       "    }\n",
       "</style>\n",
       "<table border=\"1\" class=\"dataframe\">\n",
       "  <thead>\n",
       "    <tr style=\"text-align: right;\">\n",
       "      <th></th>\n",
       "      <th>Odor_a</th>\n",
       "      <th>Odor_p</th>\n",
       "      <th>Odor_l</th>\n",
       "      <th>Odor_n</th>\n",
       "      <th>Odor_f</th>\n",
       "      <th>Odor_c</th>\n",
       "      <th>Odor_y</th>\n",
       "      <th>Odor_s</th>\n",
       "      <th>Odor_m</th>\n",
       "    </tr>\n",
       "  </thead>\n",
       "  <tbody>\n",
       "    <tr>\n",
       "      <th>1392</th>\n",
       "      <td>0</td>\n",
       "      <td>0</td>\n",
       "      <td>0</td>\n",
       "      <td>1</td>\n",
       "      <td>0</td>\n",
       "      <td>0</td>\n",
       "      <td>0</td>\n",
       "      <td>0</td>\n",
       "      <td>0</td>\n",
       "    </tr>\n",
       "    <tr>\n",
       "      <th>4051</th>\n",
       "      <td>0</td>\n",
       "      <td>0</td>\n",
       "      <td>0</td>\n",
       "      <td>0</td>\n",
       "      <td>0</td>\n",
       "      <td>1</td>\n",
       "      <td>0</td>\n",
       "      <td>0</td>\n",
       "      <td>0</td>\n",
       "    </tr>\n",
       "    <tr>\n",
       "      <th>3725</th>\n",
       "      <td>0</td>\n",
       "      <td>0</td>\n",
       "      <td>0</td>\n",
       "      <td>0</td>\n",
       "      <td>0</td>\n",
       "      <td>1</td>\n",
       "      <td>0</td>\n",
       "      <td>0</td>\n",
       "      <td>0</td>\n",
       "    </tr>\n",
       "    <tr>\n",
       "      <th>7177</th>\n",
       "      <td>0</td>\n",
       "      <td>0</td>\n",
       "      <td>0</td>\n",
       "      <td>0</td>\n",
       "      <td>1</td>\n",
       "      <td>0</td>\n",
       "      <td>0</td>\n",
       "      <td>0</td>\n",
       "      <td>0</td>\n",
       "    </tr>\n",
       "    <tr>\n",
       "      <th>103</th>\n",
       "      <td>1</td>\n",
       "      <td>0</td>\n",
       "      <td>0</td>\n",
       "      <td>0</td>\n",
       "      <td>0</td>\n",
       "      <td>0</td>\n",
       "      <td>0</td>\n",
       "      <td>0</td>\n",
       "      <td>0</td>\n",
       "    </tr>\n",
       "  </tbody>\n",
       "</table>\n",
       "</div>"
      ],
      "text/plain": [
       "      Odor_a  Odor_p  Odor_l  Odor_n  Odor_f  Odor_c  Odor_y  Odor_s  Odor_m\n",
       "1392       0       0       0       1       0       0       0       0       0\n",
       "4051       0       0       0       0       0       1       0       0       0\n",
       "3725       0       0       0       0       0       1       0       0       0\n",
       "7177       0       0       0       0       1       0       0       0       0\n",
       "103        1       0       0       0       0       0       0       0       0"
      ]
     },
     "execution_count": 214,
     "metadata": {},
     "output_type": "execute_result"
    }
   ],
   "source": [
    "test_x.head(5)"
   ]
  },
  {
   "cell_type": "code",
   "execution_count": 215,
   "metadata": {},
   "outputs": [
    {
     "name": "stdout",
     "output_type": "stream",
     "text": [
      "(6093, 9)\n",
      "(6093,)\n",
      "(2031, 9)\n",
      "(2031,)\n"
     ]
    }
   ],
   "source": [
    "# Checking its array \n",
    "\n",
    "print (train_x.shape)\n",
    "print (train_y.shape)\n",
    "print (test_x.shape)\n",
    "print (test_y.shape)"
   ]
  },
  {
   "cell_type": "code",
   "execution_count": 216,
   "metadata": {},
   "outputs": [
    {
     "data": {
      "text/plain": [
       "LogisticRegression()"
      ]
     },
     "execution_count": 216,
     "metadata": {},
     "output_type": "execute_result"
    }
   ],
   "source": [
    "# instantiate a logistic regression model, and fit with X and y\n",
    "odor_model = LogisticRegression()\n",
    "\n",
    "#training the model\n",
    "odor_model = odor_model.fit(train_x, train_y)\n",
    "\n",
    "odor_model"
   ]
  },
  {
   "cell_type": "code",
   "execution_count": 217,
   "metadata": {},
   "outputs": [
    {
     "data": {
      "text/plain": [
       "0.9862136878385032"
      ]
     },
     "execution_count": 217,
     "metadata": {},
     "output_type": "execute_result"
    }
   ],
   "source": [
    "# check the accuracy on the training set\n",
    "odor_model.score(train_x, train_y)"
   ]
  },
  {
   "cell_type": "code",
   "execution_count": 218,
   "metadata": {},
   "outputs": [
    {
     "data": {
      "text/plain": [
       "0.982274741506647"
      ]
     },
     "execution_count": 218,
     "metadata": {},
     "output_type": "execute_result"
    }
   ],
   "source": [
    "# check the accuracy on the testing set\n",
    "odor_model.score(test_x, test_y)"
   ]
  },
  {
   "cell_type": "code",
   "execution_count": 219,
   "metadata": {},
   "outputs": [
    {
     "name": "stdout",
     "output_type": "stream",
     "text": [
      "Index(['Odor_a', 'Odor_p', 'Odor_l', 'Odor_n', 'Odor_f', 'Odor_c', 'Odor_y',\n",
      "       'Odor_s', 'Odor_m'],\n",
      "      dtype='object')\n"
     ]
    },
    {
     "data": {
      "text/plain": [
       "array([[ 5.70557222, -2.57133231,  5.71995946,  5.1355113 , -4.18966684,\n",
       "        -2.32553582, -3.09098439, -3.12974284, -1.25334537]])"
      ]
     },
     "execution_count": 219,
     "metadata": {},
     "output_type": "execute_result"
    }
   ],
   "source": [
    "# examine the model coefficients for the explanatory variables\n",
    "print(x.columns[0:])\n",
    "odor_model.coef_"
   ]
  },
  {
   "cell_type": "markdown",
   "metadata": {},
   "source": [
    "#### The accuracy of this model based on odor is 98.6% in the training dataset and 98.2% in the testing dataset, which ishigh percentage of accuracy.\n",
    "#### Based on the coefficients, if the mushroom does not have an odor (n), or it has almond (a) or anise (l) odor, it very likely is an edible mushroom, if it has foul (f), pungent (p) and fishy (y) or musty (m) the more likely mushroom was poisonous.¶\n"
   ]
  },
  {
   "cell_type": "markdown",
   "metadata": {},
   "source": [
    "#### Reference: \n",
    "https://www.geeksforgeeks.org/split-pandas-dataframe-by-column-index/"
   ]
  },
  {
   "cell_type": "markdown",
   "metadata": {},
   "source": [
    "## Model 1.2: Cap Color"
   ]
  },
  {
   "cell_type": "code",
   "execution_count": 220,
   "metadata": {},
   "outputs": [
    {
     "data": {
      "text/plain": [
       "0.6005251928442475"
      ]
     },
     "execution_count": 220,
     "metadata": {},
     "output_type": "execute_result"
    }
   ],
   "source": [
    "# Choose the cap color to do the predict with the edible as x\n",
    "x_ = dummy[['Cap_Color_n','Cap_Color_y',\n",
    "            'Cap_Color_w','Cap_Color_g','Cap_Color_e','Cap_Color_p','Cap_Color_b','Cap_Color_u',\n",
    "            'Cap_Color_c','Cap_Color_r']]\n",
    "\n",
    "# To split train set and test set\n",
    "train_x,test_x,train_y,test_y = train_test_split(x_, y, random_state=1)\n",
    "\n",
    "capcolor_model = LogisticRegression()\n",
    "\n",
    "#training the model\n",
    "capcolor_model = capcolor_model.fit(train_x, train_y)\n",
    "\n",
    "# check the accuracy on the training set\n",
    "capcolor_model.score(train_x, train_y)\n"
   ]
  },
  {
   "cell_type": "code",
   "execution_count": 221,
   "metadata": {},
   "outputs": [
    {
     "data": {
      "text/plain": [
       "0.5795174790743476"
      ]
     },
     "execution_count": 221,
     "metadata": {},
     "output_type": "execute_result"
    }
   ],
   "source": [
    "# # check the accuracy on the testing set\n",
    "capcolor_model.score(test_x, test_y)"
   ]
  },
  {
   "cell_type": "code",
   "execution_count": 222,
   "metadata": {},
   "outputs": [
    {
     "data": {
      "text/plain": [
       "LogisticRegression()"
      ]
     },
     "execution_count": 222,
     "metadata": {},
     "output_type": "execute_result"
    }
   ],
   "source": [
    "capcolor_model"
   ]
  },
  {
   "cell_type": "code",
   "execution_count": 223,
   "metadata": {},
   "outputs": [
    {
     "name": "stdout",
     "output_type": "stream",
     "text": [
      "Index(['Cap_Color_n', 'Cap_Color_y', 'Cap_Color_w', 'Cap_Color_g',\n",
      "       'Cap_Color_e', 'Cap_Color_p', 'Cap_Color_b', 'Cap_Color_u',\n",
      "       'Cap_Color_c', 'Cap_Color_r'],\n",
      "      dtype='object')\n"
     ]
    },
    {
     "data": {
      "text/plain": [
       "array([[-0.17358894, -0.89908809,  0.47346423, -0.16858979, -0.76957659,\n",
       "        -0.89004191, -1.42300299,  1.45909286,  0.82595528,  1.5672094 ]])"
      ]
     },
     "execution_count": 223,
     "metadata": {},
     "output_type": "execute_result"
    }
   ],
   "source": [
    "# examine the model coefficients for the explanatory variables\n",
    "print(x_.columns[0:])\n",
    "capcolor_model.coef_"
   ]
  },
  {
   "cell_type": "markdown",
   "metadata": {},
   "source": [
    "#### The accuracy of this model based on cap color is 60% in the training dataset and 57.95% in the testing dataset, which is not as accurate as the model based on odor but it still exceeds the null error rate.¶\n",
    "#### Based on the coefficient values, if the mushroom has brown (n), white (w), gray (g), purple (u), cinnamon (c), or green (r) cap color it may be an edible mushroom. If the mushroom has a yellow (y), red (e), pink (p), or buff (b) cap color, it probably a poisonous mushroom."
   ]
  },
  {
   "cell_type": "markdown",
   "metadata": {},
   "source": [
    "## Model 1.3: Gill Color"
   ]
  },
  {
   "cell_type": "code",
   "execution_count": 224,
   "metadata": {},
   "outputs": [
    {
     "data": {
      "text/plain": [
       "0.8055145248645987"
      ]
     },
     "execution_count": 224,
     "metadata": {},
     "output_type": "execute_result"
    }
   ],
   "source": [
    "# Choose the gill color to do the predict with the edible as x\n",
    "\n",
    "_x_ = dummy[['Gill_Color_k','Gill_Color_n','Gill_Color_g','Gill_Color_p','Gill_Color_w','Gill_Color_h','Gill_Color_u',\n",
    "           'Gill_Color_e','Gill_Color_b','Gill_Color_r','Gill_Color_y','Gill_Color_o']]\n",
    "\n",
    "# To split train set and test set\n",
    "train_x,test_x,train_y,test_y = train_test_split(_x_, y, random_state=1)\n",
    "\n",
    "gillcolor_model = LogisticRegression()\n",
    "\n",
    "#training the model\n",
    "gillcolor_model = gillcolor_model.fit(train_x, train_y)\n",
    "\n",
    "# check the accuracy on the training set\n",
    "gillcolor_model.score(train_x, train_y)\n"
   ]
  },
  {
   "cell_type": "code",
   "execution_count": 225,
   "metadata": {},
   "outputs": [
    {
     "data": {
      "text/plain": [
       "0.8035450516986706"
      ]
     },
     "execution_count": 225,
     "metadata": {},
     "output_type": "execute_result"
    }
   ],
   "source": [
    "# # check the accuracy on the testing set\n",
    "gillcolor_model.score(test_x, test_y)"
   ]
  },
  {
   "cell_type": "code",
   "execution_count": 226,
   "metadata": {},
   "outputs": [
    {
     "data": {
      "text/plain": [
       "LogisticRegression()"
      ]
     },
     "execution_count": 226,
     "metadata": {},
     "output_type": "execute_result"
    }
   ],
   "source": [
    "gillcolor_model"
   ]
  },
  {
   "cell_type": "code",
   "execution_count": 227,
   "metadata": {},
   "outputs": [
    {
     "name": "stdout",
     "output_type": "stream",
     "text": [
      "Index(['Gill_Color_k', 'Gill_Color_n', 'Gill_Color_g', 'Gill_Color_p',\n",
      "       'Gill_Color_w', 'Gill_Color_h', 'Gill_Color_u', 'Gill_Color_e',\n",
      "       'Gill_Color_b', 'Gill_Color_r', 'Gill_Color_y', 'Gill_Color_o'],\n",
      "      dtype='object')\n"
     ]
    },
    {
     "data": {
      "text/plain": [
       "array([[ 1.17248085,  1.63640777, -1.18406457, -0.17087973,  0.88745329,\n",
       "        -1.37339553,  1.6849079 ,  2.76394774, -5.84941295, -2.4440918 ,\n",
       "         0.50612981,  2.37245275]])"
      ]
     },
     "execution_count": 227,
     "metadata": {},
     "output_type": "execute_result"
    }
   ],
   "source": [
    "# examine the model coefficients for the explanatory variables\n",
    "print(_x_.columns[0:])\n",
    "gillcolor_model.coef_"
   ]
  },
  {
   "cell_type": "markdown",
   "metadata": {},
   "source": [
    "#### The accuracy of this model based on gill color is 80.6% in the training dataset and 80.4% in the testing dataset, which is not as accurate as the model based on odor but it seems to be a better predictive model than cap color. \n",
    "#### Based in the coefficient, if the mushroom has black (k), brown (n), pink (p), white (w), purple (u), red (e), yellow (w), or orange (o) gill color it likely is an edible mushroom, if the mushroom has gray (g), chocolate (h), buff (b), or green (r) gill color, it probably a poisonous mushroom. "
   ]
  },
  {
   "cell_type": "markdown",
   "metadata": {},
   "source": [
    "## Model 1.4: Habitat"
   ]
  },
  {
   "cell_type": "code",
   "execution_count": 228,
   "metadata": {},
   "outputs": [
    {
     "data": {
      "text/plain": [
       "0.6925980633513869"
      ]
     },
     "execution_count": 228,
     "metadata": {},
     "output_type": "execute_result"
    }
   ],
   "source": [
    "# Choose the Habitat to do the predict with the edible as x\n",
    "__x__ = dummy[['Habitat_u','Habitat_g','Habitat_m','Habitat_d','Habitat_p','Habitat_w','Habitat_l']]\n",
    "\n",
    "# To split train set and test set\n",
    "train_x,test_x,train_y,test_y = train_test_split(__x__, y, random_state=1)\n",
    "\n",
    "habitat_model = LogisticRegression()\n",
    "\n",
    "#training the model\n",
    "habitat_model = habitat_model.fit(train_x, train_y)\n",
    "\n",
    "# check the accuracy on the training set\n",
    "habitat_model.score(train_x, train_y)\n"
   ]
  },
  {
   "cell_type": "code",
   "execution_count": 229,
   "metadata": {},
   "outputs": [
    {
     "data": {
      "text/plain": [
       "0.6834071885770556"
      ]
     },
     "execution_count": 229,
     "metadata": {},
     "output_type": "execute_result"
    }
   ],
   "source": [
    "## check the accuracy on the testing set\n",
    "habitat_model.score(test_x, test_y)"
   ]
  },
  {
   "cell_type": "code",
   "execution_count": 230,
   "metadata": {},
   "outputs": [
    {
     "data": {
      "text/plain": [
       "LogisticRegression()"
      ]
     },
     "execution_count": 230,
     "metadata": {},
     "output_type": "execute_result"
    }
   ],
   "source": [
    "habitat_model"
   ]
  },
  {
   "cell_type": "code",
   "execution_count": 231,
   "metadata": {},
   "outputs": [
    {
     "name": "stdout",
     "output_type": "stream",
     "text": [
      "Index(['Habitat_u', 'Habitat_g', 'Habitat_m', 'Habitat_d', 'Habitat_p',\n",
      "       'Habitat_w', 'Habitat_l'],\n",
      "      dtype='object')\n"
     ]
    },
    {
     "data": {
      "text/plain": [
       "array([[-1.39925709,  0.21901784,  1.5421107 ,  0.02660868, -2.40700709,\n",
       "         3.28620984, -1.26773209]])"
      ]
     },
     "execution_count": 231,
     "metadata": {},
     "output_type": "execute_result"
    }
   ],
   "source": [
    "# examine the model coefficients for the explanatory variables\n",
    "print(__x__.columns[0:])\n",
    "habitat_model.coef_"
   ]
  },
  {
   "cell_type": "markdown",
   "metadata": {},
   "source": [
    "#### In conclusion, the accuracy of this model based on cap color is 69.3% in the training dataset and 68.3% in the testing dataset, which is not as accurate as the model based on odor. \n",
    "#### Based on the coefficient values, if the mushroom grows in  woods (d), grass (g), meadows (m) or waste (w), it likely is an edible mushroom, if it grows in urban (u), leaves (l) they more likely to be poisonous. "
   ]
  },
  {
   "cell_type": "markdown",
   "metadata": {},
   "source": [
    "#### From the above four models we can conclude the following:\n",
    "#### The model based on odor has the highest accuracy to predict the mushroom is edible or poisonous. (TR: 98.6%, TE: 98.2%)\n",
    "#### The model based on cap color has the lowest accuracy. (TR: 60%, TE: 57.95%)\n",
    "#### Gill color (TR: 80.5%, TE: 80.3%) and Habitat (TR: 69.2%, TE: 68.3%) have a higher number than cap color but do not out perform the odor model. \n",
    "#### In further study, we will build models based on multiple variables to find the accuracy model that could predict the mushroom is edible or poisonous"
   ]
  },
  {
   "cell_type": "markdown",
   "metadata": {},
   "source": [
    "# Test 2: Model based on Multiple Columns \n",
    "## Model 2.1: Odor & Cap Color"
   ]
  },
  {
   "cell_type": "code",
   "execution_count": 232,
   "metadata": {},
   "outputs": [],
   "source": [
    "# Choose the odor and cap color to do the predict with the edible as x\n",
    "\n",
    "x1 = dummy[['Odor_a','Odor_p','Odor_l','Odor_n','Odor_f','Odor_c','Odor_y','Odor_s','Odor_m', 'Cap_Color_n','Cap_Color_y',\n",
    "          'Cap_Color_w','Cap_Color_g','Cap_Color_e','Cap_Color_p','Cap_Color_b','Cap_Color_u','Cap_Color_c','Cap_Color_r']]\n",
    "\n",
    "y = dummy['Class']\n"
   ]
  },
  {
   "cell_type": "code",
   "execution_count": 233,
   "metadata": {},
   "outputs": [
    {
     "data": {
      "text/html": [
       "<div>\n",
       "<style scoped>\n",
       "    .dataframe tbody tr th:only-of-type {\n",
       "        vertical-align: middle;\n",
       "    }\n",
       "\n",
       "    .dataframe tbody tr th {\n",
       "        vertical-align: top;\n",
       "    }\n",
       "\n",
       "    .dataframe thead th {\n",
       "        text-align: right;\n",
       "    }\n",
       "</style>\n",
       "<table border=\"1\" class=\"dataframe\">\n",
       "  <thead>\n",
       "    <tr style=\"text-align: right;\">\n",
       "      <th></th>\n",
       "      <th>Odor_a</th>\n",
       "      <th>Odor_p</th>\n",
       "      <th>Odor_l</th>\n",
       "      <th>Odor_n</th>\n",
       "      <th>Odor_f</th>\n",
       "      <th>Odor_c</th>\n",
       "      <th>Odor_y</th>\n",
       "      <th>Odor_s</th>\n",
       "      <th>Odor_m</th>\n",
       "      <th>Cap_Color_n</th>\n",
       "      <th>Cap_Color_y</th>\n",
       "      <th>Cap_Color_w</th>\n",
       "      <th>Cap_Color_g</th>\n",
       "      <th>Cap_Color_e</th>\n",
       "      <th>Cap_Color_p</th>\n",
       "      <th>Cap_Color_b</th>\n",
       "      <th>Cap_Color_u</th>\n",
       "      <th>Cap_Color_c</th>\n",
       "      <th>Cap_Color_r</th>\n",
       "    </tr>\n",
       "  </thead>\n",
       "  <tbody>\n",
       "    <tr>\n",
       "      <th>6253</th>\n",
       "      <td>0</td>\n",
       "      <td>0</td>\n",
       "      <td>0</td>\n",
       "      <td>0</td>\n",
       "      <td>0</td>\n",
       "      <td>0</td>\n",
       "      <td>0</td>\n",
       "      <td>1</td>\n",
       "      <td>0</td>\n",
       "      <td>0</td>\n",
       "      <td>0</td>\n",
       "      <td>0</td>\n",
       "      <td>0</td>\n",
       "      <td>1</td>\n",
       "      <td>0</td>\n",
       "      <td>0</td>\n",
       "      <td>0</td>\n",
       "      <td>0</td>\n",
       "      <td>0</td>\n",
       "    </tr>\n",
       "    <tr>\n",
       "      <th>2739</th>\n",
       "      <td>0</td>\n",
       "      <td>0</td>\n",
       "      <td>0</td>\n",
       "      <td>1</td>\n",
       "      <td>0</td>\n",
       "      <td>0</td>\n",
       "      <td>0</td>\n",
       "      <td>0</td>\n",
       "      <td>0</td>\n",
       "      <td>0</td>\n",
       "      <td>0</td>\n",
       "      <td>0</td>\n",
       "      <td>0</td>\n",
       "      <td>1</td>\n",
       "      <td>0</td>\n",
       "      <td>0</td>\n",
       "      <td>0</td>\n",
       "      <td>0</td>\n",
       "      <td>0</td>\n",
       "    </tr>\n",
       "    <tr>\n",
       "      <th>7436</th>\n",
       "      <td>0</td>\n",
       "      <td>0</td>\n",
       "      <td>0</td>\n",
       "      <td>0</td>\n",
       "      <td>0</td>\n",
       "      <td>0</td>\n",
       "      <td>1</td>\n",
       "      <td>0</td>\n",
       "      <td>0</td>\n",
       "      <td>0</td>\n",
       "      <td>0</td>\n",
       "      <td>0</td>\n",
       "      <td>0</td>\n",
       "      <td>1</td>\n",
       "      <td>0</td>\n",
       "      <td>0</td>\n",
       "      <td>0</td>\n",
       "      <td>0</td>\n",
       "      <td>0</td>\n",
       "    </tr>\n",
       "    <tr>\n",
       "      <th>6339</th>\n",
       "      <td>0</td>\n",
       "      <td>0</td>\n",
       "      <td>0</td>\n",
       "      <td>0</td>\n",
       "      <td>1</td>\n",
       "      <td>0</td>\n",
       "      <td>0</td>\n",
       "      <td>0</td>\n",
       "      <td>0</td>\n",
       "      <td>0</td>\n",
       "      <td>0</td>\n",
       "      <td>0</td>\n",
       "      <td>0</td>\n",
       "      <td>1</td>\n",
       "      <td>0</td>\n",
       "      <td>0</td>\n",
       "      <td>0</td>\n",
       "      <td>0</td>\n",
       "      <td>0</td>\n",
       "    </tr>\n",
       "    <tr>\n",
       "      <th>4654</th>\n",
       "      <td>0</td>\n",
       "      <td>0</td>\n",
       "      <td>0</td>\n",
       "      <td>0</td>\n",
       "      <td>1</td>\n",
       "      <td>0</td>\n",
       "      <td>0</td>\n",
       "      <td>0</td>\n",
       "      <td>0</td>\n",
       "      <td>0</td>\n",
       "      <td>0</td>\n",
       "      <td>0</td>\n",
       "      <td>1</td>\n",
       "      <td>0</td>\n",
       "      <td>0</td>\n",
       "      <td>0</td>\n",
       "      <td>0</td>\n",
       "      <td>0</td>\n",
       "      <td>0</td>\n",
       "    </tr>\n",
       "  </tbody>\n",
       "</table>\n",
       "</div>"
      ],
      "text/plain": [
       "      Odor_a  Odor_p  Odor_l  Odor_n  Odor_f  Odor_c  Odor_y  Odor_s  Odor_m  \\\n",
       "6253       0       0       0       0       0       0       0       1       0   \n",
       "2739       0       0       0       1       0       0       0       0       0   \n",
       "7436       0       0       0       0       0       0       1       0       0   \n",
       "6339       0       0       0       0       1       0       0       0       0   \n",
       "4654       0       0       0       0       1       0       0       0       0   \n",
       "\n",
       "      Cap_Color_n  Cap_Color_y  Cap_Color_w  Cap_Color_g  Cap_Color_e  \\\n",
       "6253            0            0            0            0            1   \n",
       "2739            0            0            0            0            1   \n",
       "7436            0            0            0            0            1   \n",
       "6339            0            0            0            0            1   \n",
       "4654            0            0            0            1            0   \n",
       "\n",
       "      Cap_Color_p  Cap_Color_b  Cap_Color_u  Cap_Color_c  Cap_Color_r  \n",
       "6253            0            0            0            0            0  \n",
       "2739            0            0            0            0            0  \n",
       "7436            0            0            0            0            0  \n",
       "6339            0            0            0            0            0  \n",
       "4654            0            0            0            0            0  "
      ]
     },
     "execution_count": 233,
     "metadata": {},
     "output_type": "execute_result"
    }
   ],
   "source": [
    "# To split train set and test set\n",
    "train_x,test_x,train_y,test_y = train_test_split(x1, y, random_state=1)\n",
    "\n",
    "train_x.head(5)"
   ]
  },
  {
   "cell_type": "code",
   "execution_count": 234,
   "metadata": {},
   "outputs": [
    {
     "data": {
      "text/html": [
       "<div>\n",
       "<style scoped>\n",
       "    .dataframe tbody tr th:only-of-type {\n",
       "        vertical-align: middle;\n",
       "    }\n",
       "\n",
       "    .dataframe tbody tr th {\n",
       "        vertical-align: top;\n",
       "    }\n",
       "\n",
       "    .dataframe thead th {\n",
       "        text-align: right;\n",
       "    }\n",
       "</style>\n",
       "<table border=\"1\" class=\"dataframe\">\n",
       "  <thead>\n",
       "    <tr style=\"text-align: right;\">\n",
       "      <th></th>\n",
       "      <th>Odor_a</th>\n",
       "      <th>Odor_p</th>\n",
       "      <th>Odor_l</th>\n",
       "      <th>Odor_n</th>\n",
       "      <th>Odor_f</th>\n",
       "      <th>Odor_c</th>\n",
       "      <th>Odor_y</th>\n",
       "      <th>Odor_s</th>\n",
       "      <th>Odor_m</th>\n",
       "      <th>Cap_Color_n</th>\n",
       "      <th>Cap_Color_y</th>\n",
       "      <th>Cap_Color_w</th>\n",
       "      <th>Cap_Color_g</th>\n",
       "      <th>Cap_Color_e</th>\n",
       "      <th>Cap_Color_p</th>\n",
       "      <th>Cap_Color_b</th>\n",
       "      <th>Cap_Color_u</th>\n",
       "      <th>Cap_Color_c</th>\n",
       "      <th>Cap_Color_r</th>\n",
       "    </tr>\n",
       "  </thead>\n",
       "  <tbody>\n",
       "    <tr>\n",
       "      <th>1392</th>\n",
       "      <td>0</td>\n",
       "      <td>0</td>\n",
       "      <td>0</td>\n",
       "      <td>1</td>\n",
       "      <td>0</td>\n",
       "      <td>0</td>\n",
       "      <td>0</td>\n",
       "      <td>0</td>\n",
       "      <td>0</td>\n",
       "      <td>0</td>\n",
       "      <td>0</td>\n",
       "      <td>1</td>\n",
       "      <td>0</td>\n",
       "      <td>0</td>\n",
       "      <td>0</td>\n",
       "      <td>0</td>\n",
       "      <td>0</td>\n",
       "      <td>0</td>\n",
       "      <td>0</td>\n",
       "    </tr>\n",
       "    <tr>\n",
       "      <th>4051</th>\n",
       "      <td>0</td>\n",
       "      <td>0</td>\n",
       "      <td>0</td>\n",
       "      <td>0</td>\n",
       "      <td>0</td>\n",
       "      <td>1</td>\n",
       "      <td>0</td>\n",
       "      <td>0</td>\n",
       "      <td>0</td>\n",
       "      <td>0</td>\n",
       "      <td>0</td>\n",
       "      <td>0</td>\n",
       "      <td>0</td>\n",
       "      <td>0</td>\n",
       "      <td>1</td>\n",
       "      <td>0</td>\n",
       "      <td>0</td>\n",
       "      <td>0</td>\n",
       "      <td>0</td>\n",
       "    </tr>\n",
       "    <tr>\n",
       "      <th>3725</th>\n",
       "      <td>0</td>\n",
       "      <td>0</td>\n",
       "      <td>0</td>\n",
       "      <td>0</td>\n",
       "      <td>0</td>\n",
       "      <td>1</td>\n",
       "      <td>0</td>\n",
       "      <td>0</td>\n",
       "      <td>0</td>\n",
       "      <td>0</td>\n",
       "      <td>0</td>\n",
       "      <td>1</td>\n",
       "      <td>0</td>\n",
       "      <td>0</td>\n",
       "      <td>0</td>\n",
       "      <td>0</td>\n",
       "      <td>0</td>\n",
       "      <td>0</td>\n",
       "      <td>0</td>\n",
       "    </tr>\n",
       "    <tr>\n",
       "      <th>7177</th>\n",
       "      <td>0</td>\n",
       "      <td>0</td>\n",
       "      <td>0</td>\n",
       "      <td>0</td>\n",
       "      <td>1</td>\n",
       "      <td>0</td>\n",
       "      <td>0</td>\n",
       "      <td>0</td>\n",
       "      <td>0</td>\n",
       "      <td>1</td>\n",
       "      <td>0</td>\n",
       "      <td>0</td>\n",
       "      <td>0</td>\n",
       "      <td>0</td>\n",
       "      <td>0</td>\n",
       "      <td>0</td>\n",
       "      <td>0</td>\n",
       "      <td>0</td>\n",
       "      <td>0</td>\n",
       "    </tr>\n",
       "    <tr>\n",
       "      <th>103</th>\n",
       "      <td>1</td>\n",
       "      <td>0</td>\n",
       "      <td>0</td>\n",
       "      <td>0</td>\n",
       "      <td>0</td>\n",
       "      <td>0</td>\n",
       "      <td>0</td>\n",
       "      <td>0</td>\n",
       "      <td>0</td>\n",
       "      <td>0</td>\n",
       "      <td>1</td>\n",
       "      <td>0</td>\n",
       "      <td>0</td>\n",
       "      <td>0</td>\n",
       "      <td>0</td>\n",
       "      <td>0</td>\n",
       "      <td>0</td>\n",
       "      <td>0</td>\n",
       "      <td>0</td>\n",
       "    </tr>\n",
       "  </tbody>\n",
       "</table>\n",
       "</div>"
      ],
      "text/plain": [
       "      Odor_a  Odor_p  Odor_l  Odor_n  Odor_f  Odor_c  Odor_y  Odor_s  Odor_m  \\\n",
       "1392       0       0       0       1       0       0       0       0       0   \n",
       "4051       0       0       0       0       0       1       0       0       0   \n",
       "3725       0       0       0       0       0       1       0       0       0   \n",
       "7177       0       0       0       0       1       0       0       0       0   \n",
       "103        1       0       0       0       0       0       0       0       0   \n",
       "\n",
       "      Cap_Color_n  Cap_Color_y  Cap_Color_w  Cap_Color_g  Cap_Color_e  \\\n",
       "1392            0            0            1            0            0   \n",
       "4051            0            0            0            0            0   \n",
       "3725            0            0            1            0            0   \n",
       "7177            1            0            0            0            0   \n",
       "103             0            1            0            0            0   \n",
       "\n",
       "      Cap_Color_p  Cap_Color_b  Cap_Color_u  Cap_Color_c  Cap_Color_r  \n",
       "1392            0            0            0            0            0  \n",
       "4051            1            0            0            0            0  \n",
       "3725            0            0            0            0            0  \n",
       "7177            0            0            0            0            0  \n",
       "103             0            0            0            0            0  "
      ]
     },
     "execution_count": 234,
     "metadata": {},
     "output_type": "execute_result"
    }
   ],
   "source": [
    "test_x.head(5)"
   ]
  },
  {
   "cell_type": "code",
   "execution_count": 235,
   "metadata": {},
   "outputs": [
    {
     "data": {
      "text/plain": [
       "LogisticRegression()"
      ]
     },
     "execution_count": 235,
     "metadata": {},
     "output_type": "execute_result"
    }
   ],
   "source": [
    "# instantiate a logistic regression model, and fit with X and y\n",
    "odor_capcolor_model = LogisticRegression()\n",
    "\n",
    "#training the model\n",
    "odor_capcolor_model = odor_capcolor_model.fit(train_x, train_y)\n",
    "\n",
    "odor_capcolor_model"
   ]
  },
  {
   "cell_type": "code",
   "execution_count": 236,
   "metadata": {},
   "outputs": [
    {
     "data": {
      "text/plain": [
       "0.9862136878385032"
      ]
     },
     "execution_count": 236,
     "metadata": {},
     "output_type": "execute_result"
    }
   ],
   "source": [
    "# check the accuracy on the training set\n",
    "odor_capcolor_model.score(train_x, train_y)"
   ]
  },
  {
   "cell_type": "code",
   "execution_count": 237,
   "metadata": {},
   "outputs": [
    {
     "data": {
      "text/plain": [
       "0.982274741506647"
      ]
     },
     "execution_count": 237,
     "metadata": {},
     "output_type": "execute_result"
    }
   ],
   "source": [
    "# check the accuracy on the testing set\n",
    "odor_capcolor_model.score(test_x, test_y)"
   ]
  },
  {
   "cell_type": "code",
   "execution_count": 238,
   "metadata": {},
   "outputs": [
    {
     "name": "stdout",
     "output_type": "stream",
     "text": [
      "Index(['Odor_a', 'Odor_p', 'Odor_l', 'Odor_n', 'Odor_f', 'Odor_c', 'Odor_y',\n",
      "       'Odor_s', 'Odor_m', 'Cap_Color_n', 'Cap_Color_y', 'Cap_Color_w',\n",
      "       'Cap_Color_g', 'Cap_Color_e', 'Cap_Color_p', 'Cap_Color_b',\n",
      "       'Cap_Color_u', 'Cap_Color_c', 'Cap_Color_r'],\n",
      "      dtype='object')\n"
     ]
    },
    {
     "data": {
      "text/plain": [
       "array([[ 7.04132716, -2.76170732,  7.05449812,  5.07207035, -4.75922425,\n",
       "        -2.65362043, -3.66955607, -3.71285465, -1.61173817,  1.07868414,\n",
       "        -1.65588045,  0.07884232,  1.8201421 ,  1.31772977, -1.87754029,\n",
       "        -2.22581551,  0.40737729,  0.59740151,  0.45825383]])"
      ]
     },
     "execution_count": 238,
     "metadata": {},
     "output_type": "execute_result"
    }
   ],
   "source": [
    "# examine the model coefficients for the explanatory variables\n",
    "print(x1.columns[0:])\n",
    "odor_capcolor_model.coef_"
   ]
  },
  {
   "cell_type": "markdown",
   "metadata": {},
   "source": [
    "#### The accuracy of this model based on odor and cap color is 98.6% in the training dataset and 98.2% in the testing dataset, which pretty has the same accuracy as the model based on odor. The cap color does not improve model accuracy.¶"
   ]
  },
  {
   "cell_type": "markdown",
   "metadata": {},
   "source": [
    "## Model 2.2: Odor & Gill Color "
   ]
  },
  {
   "cell_type": "code",
   "execution_count": 239,
   "metadata": {},
   "outputs": [],
   "source": [
    "# Choose the odor and gill color to do the predict with the edible as x\n",
    "x2 = dummy[['Odor_a','Odor_p','Odor_l','Odor_n','Odor_f','Odor_c','Odor_y','Odor_s','Odor_m',\n",
    "           'Gill_Color_k','Gill_Color_n','Gill_Color_g','Gill_Color_p','Gill_Color_w','Gill_Color_h','Gill_Color_u',\n",
    "           'Gill_Color_e','Gill_Color_b','Gill_Color_r','Gill_Color_y','Gill_Color_o']]\n",
    "\n",
    "y = dummy['Class']\n"
   ]
  },
  {
   "cell_type": "code",
   "execution_count": 240,
   "metadata": {},
   "outputs": [
    {
     "data": {
      "text/html": [
       "<div>\n",
       "<style scoped>\n",
       "    .dataframe tbody tr th:only-of-type {\n",
       "        vertical-align: middle;\n",
       "    }\n",
       "\n",
       "    .dataframe tbody tr th {\n",
       "        vertical-align: top;\n",
       "    }\n",
       "\n",
       "    .dataframe thead th {\n",
       "        text-align: right;\n",
       "    }\n",
       "</style>\n",
       "<table border=\"1\" class=\"dataframe\">\n",
       "  <thead>\n",
       "    <tr style=\"text-align: right;\">\n",
       "      <th></th>\n",
       "      <th>Odor_a</th>\n",
       "      <th>Odor_p</th>\n",
       "      <th>Odor_l</th>\n",
       "      <th>Odor_n</th>\n",
       "      <th>Odor_f</th>\n",
       "      <th>Odor_c</th>\n",
       "      <th>Odor_y</th>\n",
       "      <th>Odor_s</th>\n",
       "      <th>Odor_m</th>\n",
       "      <th>Gill_Color_k</th>\n",
       "      <th>...</th>\n",
       "      <th>Gill_Color_g</th>\n",
       "      <th>Gill_Color_p</th>\n",
       "      <th>Gill_Color_w</th>\n",
       "      <th>Gill_Color_h</th>\n",
       "      <th>Gill_Color_u</th>\n",
       "      <th>Gill_Color_e</th>\n",
       "      <th>Gill_Color_b</th>\n",
       "      <th>Gill_Color_r</th>\n",
       "      <th>Gill_Color_y</th>\n",
       "      <th>Gill_Color_o</th>\n",
       "    </tr>\n",
       "  </thead>\n",
       "  <tbody>\n",
       "    <tr>\n",
       "      <th>6253</th>\n",
       "      <td>0</td>\n",
       "      <td>0</td>\n",
       "      <td>0</td>\n",
       "      <td>0</td>\n",
       "      <td>0</td>\n",
       "      <td>0</td>\n",
       "      <td>0</td>\n",
       "      <td>1</td>\n",
       "      <td>0</td>\n",
       "      <td>0</td>\n",
       "      <td>...</td>\n",
       "      <td>0</td>\n",
       "      <td>0</td>\n",
       "      <td>0</td>\n",
       "      <td>0</td>\n",
       "      <td>0</td>\n",
       "      <td>0</td>\n",
       "      <td>1</td>\n",
       "      <td>0</td>\n",
       "      <td>0</td>\n",
       "      <td>0</td>\n",
       "    </tr>\n",
       "    <tr>\n",
       "      <th>2739</th>\n",
       "      <td>0</td>\n",
       "      <td>0</td>\n",
       "      <td>0</td>\n",
       "      <td>1</td>\n",
       "      <td>0</td>\n",
       "      <td>0</td>\n",
       "      <td>0</td>\n",
       "      <td>0</td>\n",
       "      <td>0</td>\n",
       "      <td>0</td>\n",
       "      <td>...</td>\n",
       "      <td>0</td>\n",
       "      <td>0</td>\n",
       "      <td>0</td>\n",
       "      <td>0</td>\n",
       "      <td>1</td>\n",
       "      <td>0</td>\n",
       "      <td>0</td>\n",
       "      <td>0</td>\n",
       "      <td>0</td>\n",
       "      <td>0</td>\n",
       "    </tr>\n",
       "    <tr>\n",
       "      <th>7436</th>\n",
       "      <td>0</td>\n",
       "      <td>0</td>\n",
       "      <td>0</td>\n",
       "      <td>0</td>\n",
       "      <td>0</td>\n",
       "      <td>0</td>\n",
       "      <td>1</td>\n",
       "      <td>0</td>\n",
       "      <td>0</td>\n",
       "      <td>0</td>\n",
       "      <td>...</td>\n",
       "      <td>0</td>\n",
       "      <td>0</td>\n",
       "      <td>0</td>\n",
       "      <td>0</td>\n",
       "      <td>0</td>\n",
       "      <td>0</td>\n",
       "      <td>1</td>\n",
       "      <td>0</td>\n",
       "      <td>0</td>\n",
       "      <td>0</td>\n",
       "    </tr>\n",
       "    <tr>\n",
       "      <th>6339</th>\n",
       "      <td>0</td>\n",
       "      <td>0</td>\n",
       "      <td>0</td>\n",
       "      <td>0</td>\n",
       "      <td>1</td>\n",
       "      <td>0</td>\n",
       "      <td>0</td>\n",
       "      <td>0</td>\n",
       "      <td>0</td>\n",
       "      <td>0</td>\n",
       "      <td>...</td>\n",
       "      <td>0</td>\n",
       "      <td>0</td>\n",
       "      <td>0</td>\n",
       "      <td>0</td>\n",
       "      <td>0</td>\n",
       "      <td>0</td>\n",
       "      <td>1</td>\n",
       "      <td>0</td>\n",
       "      <td>0</td>\n",
       "      <td>0</td>\n",
       "    </tr>\n",
       "    <tr>\n",
       "      <th>4654</th>\n",
       "      <td>0</td>\n",
       "      <td>0</td>\n",
       "      <td>0</td>\n",
       "      <td>0</td>\n",
       "      <td>1</td>\n",
       "      <td>0</td>\n",
       "      <td>0</td>\n",
       "      <td>0</td>\n",
       "      <td>0</td>\n",
       "      <td>0</td>\n",
       "      <td>...</td>\n",
       "      <td>0</td>\n",
       "      <td>0</td>\n",
       "      <td>0</td>\n",
       "      <td>1</td>\n",
       "      <td>0</td>\n",
       "      <td>0</td>\n",
       "      <td>0</td>\n",
       "      <td>0</td>\n",
       "      <td>0</td>\n",
       "      <td>0</td>\n",
       "    </tr>\n",
       "  </tbody>\n",
       "</table>\n",
       "<p>5 rows × 21 columns</p>\n",
       "</div>"
      ],
      "text/plain": [
       "      Odor_a  Odor_p  Odor_l  Odor_n  Odor_f  Odor_c  Odor_y  Odor_s  Odor_m  \\\n",
       "6253       0       0       0       0       0       0       0       1       0   \n",
       "2739       0       0       0       1       0       0       0       0       0   \n",
       "7436       0       0       0       0       0       0       1       0       0   \n",
       "6339       0       0       0       0       1       0       0       0       0   \n",
       "4654       0       0       0       0       1       0       0       0       0   \n",
       "\n",
       "      Gill_Color_k  ...  Gill_Color_g  Gill_Color_p  Gill_Color_w  \\\n",
       "6253             0  ...             0             0             0   \n",
       "2739             0  ...             0             0             0   \n",
       "7436             0  ...             0             0             0   \n",
       "6339             0  ...             0             0             0   \n",
       "4654             0  ...             0             0             0   \n",
       "\n",
       "      Gill_Color_h  Gill_Color_u  Gill_Color_e  Gill_Color_b  Gill_Color_r  \\\n",
       "6253             0             0             0             1             0   \n",
       "2739             0             1             0             0             0   \n",
       "7436             0             0             0             1             0   \n",
       "6339             0             0             0             1             0   \n",
       "4654             1             0             0             0             0   \n",
       "\n",
       "      Gill_Color_y  Gill_Color_o  \n",
       "6253             0             0  \n",
       "2739             0             0  \n",
       "7436             0             0  \n",
       "6339             0             0  \n",
       "4654             0             0  \n",
       "\n",
       "[5 rows x 21 columns]"
      ]
     },
     "execution_count": 240,
     "metadata": {},
     "output_type": "execute_result"
    }
   ],
   "source": [
    "# To split train set and test set\n",
    "train_x,test_x,train_y,test_y = train_test_split(x2, y, random_state=1)\n",
    "\n",
    "train_x.head(5)"
   ]
  },
  {
   "cell_type": "code",
   "execution_count": 241,
   "metadata": {},
   "outputs": [
    {
     "data": {
      "text/html": [
       "<div>\n",
       "<style scoped>\n",
       "    .dataframe tbody tr th:only-of-type {\n",
       "        vertical-align: middle;\n",
       "    }\n",
       "\n",
       "    .dataframe tbody tr th {\n",
       "        vertical-align: top;\n",
       "    }\n",
       "\n",
       "    .dataframe thead th {\n",
       "        text-align: right;\n",
       "    }\n",
       "</style>\n",
       "<table border=\"1\" class=\"dataframe\">\n",
       "  <thead>\n",
       "    <tr style=\"text-align: right;\">\n",
       "      <th></th>\n",
       "      <th>Odor_a</th>\n",
       "      <th>Odor_p</th>\n",
       "      <th>Odor_l</th>\n",
       "      <th>Odor_n</th>\n",
       "      <th>Odor_f</th>\n",
       "      <th>Odor_c</th>\n",
       "      <th>Odor_y</th>\n",
       "      <th>Odor_s</th>\n",
       "      <th>Odor_m</th>\n",
       "      <th>Gill_Color_k</th>\n",
       "      <th>...</th>\n",
       "      <th>Gill_Color_g</th>\n",
       "      <th>Gill_Color_p</th>\n",
       "      <th>Gill_Color_w</th>\n",
       "      <th>Gill_Color_h</th>\n",
       "      <th>Gill_Color_u</th>\n",
       "      <th>Gill_Color_e</th>\n",
       "      <th>Gill_Color_b</th>\n",
       "      <th>Gill_Color_r</th>\n",
       "      <th>Gill_Color_y</th>\n",
       "      <th>Gill_Color_o</th>\n",
       "    </tr>\n",
       "  </thead>\n",
       "  <tbody>\n",
       "    <tr>\n",
       "      <th>1392</th>\n",
       "      <td>0</td>\n",
       "      <td>0</td>\n",
       "      <td>0</td>\n",
       "      <td>1</td>\n",
       "      <td>0</td>\n",
       "      <td>0</td>\n",
       "      <td>0</td>\n",
       "      <td>0</td>\n",
       "      <td>0</td>\n",
       "      <td>0</td>\n",
       "      <td>...</td>\n",
       "      <td>0</td>\n",
       "      <td>0</td>\n",
       "      <td>0</td>\n",
       "      <td>1</td>\n",
       "      <td>0</td>\n",
       "      <td>0</td>\n",
       "      <td>0</td>\n",
       "      <td>0</td>\n",
       "      <td>0</td>\n",
       "      <td>0</td>\n",
       "    </tr>\n",
       "    <tr>\n",
       "      <th>4051</th>\n",
       "      <td>0</td>\n",
       "      <td>0</td>\n",
       "      <td>0</td>\n",
       "      <td>0</td>\n",
       "      <td>0</td>\n",
       "      <td>1</td>\n",
       "      <td>0</td>\n",
       "      <td>0</td>\n",
       "      <td>0</td>\n",
       "      <td>0</td>\n",
       "      <td>...</td>\n",
       "      <td>0</td>\n",
       "      <td>0</td>\n",
       "      <td>0</td>\n",
       "      <td>0</td>\n",
       "      <td>1</td>\n",
       "      <td>0</td>\n",
       "      <td>0</td>\n",
       "      <td>0</td>\n",
       "      <td>0</td>\n",
       "      <td>0</td>\n",
       "    </tr>\n",
       "    <tr>\n",
       "      <th>3725</th>\n",
       "      <td>0</td>\n",
       "      <td>0</td>\n",
       "      <td>0</td>\n",
       "      <td>0</td>\n",
       "      <td>0</td>\n",
       "      <td>1</td>\n",
       "      <td>0</td>\n",
       "      <td>0</td>\n",
       "      <td>0</td>\n",
       "      <td>0</td>\n",
       "      <td>...</td>\n",
       "      <td>1</td>\n",
       "      <td>0</td>\n",
       "      <td>0</td>\n",
       "      <td>0</td>\n",
       "      <td>0</td>\n",
       "      <td>0</td>\n",
       "      <td>0</td>\n",
       "      <td>0</td>\n",
       "      <td>0</td>\n",
       "      <td>0</td>\n",
       "    </tr>\n",
       "    <tr>\n",
       "      <th>7177</th>\n",
       "      <td>0</td>\n",
       "      <td>0</td>\n",
       "      <td>0</td>\n",
       "      <td>0</td>\n",
       "      <td>1</td>\n",
       "      <td>0</td>\n",
       "      <td>0</td>\n",
       "      <td>0</td>\n",
       "      <td>0</td>\n",
       "      <td>0</td>\n",
       "      <td>...</td>\n",
       "      <td>0</td>\n",
       "      <td>0</td>\n",
       "      <td>0</td>\n",
       "      <td>0</td>\n",
       "      <td>0</td>\n",
       "      <td>0</td>\n",
       "      <td>1</td>\n",
       "      <td>0</td>\n",
       "      <td>0</td>\n",
       "      <td>0</td>\n",
       "    </tr>\n",
       "    <tr>\n",
       "      <th>103</th>\n",
       "      <td>1</td>\n",
       "      <td>0</td>\n",
       "      <td>0</td>\n",
       "      <td>0</td>\n",
       "      <td>0</td>\n",
       "      <td>0</td>\n",
       "      <td>0</td>\n",
       "      <td>0</td>\n",
       "      <td>0</td>\n",
       "      <td>0</td>\n",
       "      <td>...</td>\n",
       "      <td>0</td>\n",
       "      <td>0</td>\n",
       "      <td>0</td>\n",
       "      <td>0</td>\n",
       "      <td>0</td>\n",
       "      <td>0</td>\n",
       "      <td>0</td>\n",
       "      <td>0</td>\n",
       "      <td>0</td>\n",
       "      <td>0</td>\n",
       "    </tr>\n",
       "  </tbody>\n",
       "</table>\n",
       "<p>5 rows × 21 columns</p>\n",
       "</div>"
      ],
      "text/plain": [
       "      Odor_a  Odor_p  Odor_l  Odor_n  Odor_f  Odor_c  Odor_y  Odor_s  Odor_m  \\\n",
       "1392       0       0       0       1       0       0       0       0       0   \n",
       "4051       0       0       0       0       0       1       0       0       0   \n",
       "3725       0       0       0       0       0       1       0       0       0   \n",
       "7177       0       0       0       0       1       0       0       0       0   \n",
       "103        1       0       0       0       0       0       0       0       0   \n",
       "\n",
       "      Gill_Color_k  ...  Gill_Color_g  Gill_Color_p  Gill_Color_w  \\\n",
       "1392             0  ...             0             0             0   \n",
       "4051             0  ...             0             0             0   \n",
       "3725             0  ...             1             0             0   \n",
       "7177             0  ...             0             0             0   \n",
       "103              0  ...             0             0             0   \n",
       "\n",
       "      Gill_Color_h  Gill_Color_u  Gill_Color_e  Gill_Color_b  Gill_Color_r  \\\n",
       "1392             1             0             0             0             0   \n",
       "4051             0             1             0             0             0   \n",
       "3725             0             0             0             0             0   \n",
       "7177             0             0             0             1             0   \n",
       "103              0             0             0             0             0   \n",
       "\n",
       "      Gill_Color_y  Gill_Color_o  \n",
       "1392             0             0  \n",
       "4051             0             0  \n",
       "3725             0             0  \n",
       "7177             0             0  \n",
       "103              0             0  \n",
       "\n",
       "[5 rows x 21 columns]"
      ]
     },
     "execution_count": 241,
     "metadata": {},
     "output_type": "execute_result"
    }
   ],
   "source": [
    "test_x.head(5)"
   ]
  },
  {
   "cell_type": "code",
   "execution_count": 242,
   "metadata": {},
   "outputs": [
    {
     "data": {
      "text/plain": [
       "LogisticRegression()"
      ]
     },
     "execution_count": 242,
     "metadata": {},
     "output_type": "execute_result"
    }
   ],
   "source": [
    "# instantiate a logistic regression model, and fit with X and y\n",
    "odor_gillcolor_model = LogisticRegression()\n",
    "\n",
    "#training the model\n",
    "odor_gillcolor_model = odor_gillcolor_model.fit(train_x, train_y)\n",
    "\n",
    "odor_gillcolor_model"
   ]
  },
  {
   "cell_type": "code",
   "execution_count": 243,
   "metadata": {},
   "outputs": [
    {
     "data": {
      "text/plain": [
       "0.9894961431150501"
      ]
     },
     "execution_count": 243,
     "metadata": {},
     "output_type": "execute_result"
    }
   ],
   "source": [
    "# check the accuracy on the training set\n",
    "odor_gillcolor_model.score(train_x, train_y)"
   ]
  },
  {
   "cell_type": "code",
   "execution_count": 244,
   "metadata": {},
   "outputs": [
    {
     "data": {
      "text/plain": [
       "0.9842442146725751"
      ]
     },
     "execution_count": 244,
     "metadata": {},
     "output_type": "execute_result"
    }
   ],
   "source": [
    "# check the accuracy on the training set\n",
    "odor_gillcolor_model.score(test_x, test_y)"
   ]
  },
  {
   "cell_type": "code",
   "execution_count": 245,
   "metadata": {
    "scrolled": true
   },
   "outputs": [
    {
     "name": "stdout",
     "output_type": "stream",
     "text": [
      "Index(['Odor_a', 'Odor_p', 'Odor_l', 'Odor_n', 'Odor_f', 'Odor_c', 'Odor_y',\n",
      "       'Odor_s', 'Odor_m', 'Gill_Color_k', 'Gill_Color_n', 'Gill_Color_g',\n",
      "       'Gill_Color_p', 'Gill_Color_w', 'Gill_Color_h', 'Gill_Color_u',\n",
      "       'Gill_Color_e', 'Gill_Color_b', 'Gill_Color_r', 'Gill_Color_y',\n",
      "       'Gill_Color_o'],\n",
      "      dtype='object')\n"
     ]
    },
    {
     "data": {
      "text/plain": [
       "array([[ 5.53676589, -3.68798893,  5.53523776,  4.71350299, -4.77886918,\n",
       "        -3.49118309, -1.34397323, -1.37335101, -1.11052469,  1.36917239,\n",
       "         1.78257675, -1.01478145,  1.43344611, -0.47552674,  0.9356227 ,\n",
       "         1.6645891 ,  1.07637547, -2.76620691, -4.39365922, -0.4295225 ,\n",
       "         0.8175308 ]])"
      ]
     },
     "execution_count": 245,
     "metadata": {},
     "output_type": "execute_result"
    }
   ],
   "source": [
    "# examine the model coefficients for the explanatory variables\n",
    "print(x2.columns[0:])\n",
    "odor_gillcolor_model.coef_"
   ]
  },
  {
   "cell_type": "markdown",
   "metadata": {},
   "source": [
    "#### The accuracy of this model based on odor and gill color is 98.9% in the training dataset and 98.4% in the testing dataset, which is more accurate than the other models including the highest performing which was the odor model. The gill color with odor attribute improved the model accuracy.¶"
   ]
  },
  {
   "cell_type": "markdown",
   "metadata": {},
   "source": [
    "## Model 2.3: Odor & Habitat"
   ]
  },
  {
   "cell_type": "code",
   "execution_count": 246,
   "metadata": {},
   "outputs": [],
   "source": [
    "# Choose the odor and habitat to do the predict with the edible as x\n",
    "\n",
    "x3 = dummy[['Odor_a','Odor_p','Odor_l','Odor_n','Odor_f','Odor_c','Odor_y','Odor_s','Odor_m',\n",
    "           'Habitat_u','Habitat_g','Habitat_m','Habitat_d','Habitat_p','Habitat_w','Habitat_l']]\n",
    "\n",
    "y = dummy['Class']"
   ]
  },
  {
   "cell_type": "code",
   "execution_count": 247,
   "metadata": {},
   "outputs": [
    {
     "data": {
      "text/html": [
       "<div>\n",
       "<style scoped>\n",
       "    .dataframe tbody tr th:only-of-type {\n",
       "        vertical-align: middle;\n",
       "    }\n",
       "\n",
       "    .dataframe tbody tr th {\n",
       "        vertical-align: top;\n",
       "    }\n",
       "\n",
       "    .dataframe thead th {\n",
       "        text-align: right;\n",
       "    }\n",
       "</style>\n",
       "<table border=\"1\" class=\"dataframe\">\n",
       "  <thead>\n",
       "    <tr style=\"text-align: right;\">\n",
       "      <th></th>\n",
       "      <th>Odor_a</th>\n",
       "      <th>Odor_p</th>\n",
       "      <th>Odor_l</th>\n",
       "      <th>Odor_n</th>\n",
       "      <th>Odor_f</th>\n",
       "      <th>Odor_c</th>\n",
       "      <th>Odor_y</th>\n",
       "      <th>Odor_s</th>\n",
       "      <th>Odor_m</th>\n",
       "      <th>Habitat_u</th>\n",
       "      <th>Habitat_g</th>\n",
       "      <th>Habitat_m</th>\n",
       "      <th>Habitat_d</th>\n",
       "      <th>Habitat_p</th>\n",
       "      <th>Habitat_w</th>\n",
       "      <th>Habitat_l</th>\n",
       "    </tr>\n",
       "  </thead>\n",
       "  <tbody>\n",
       "    <tr>\n",
       "      <th>6253</th>\n",
       "      <td>0</td>\n",
       "      <td>0</td>\n",
       "      <td>0</td>\n",
       "      <td>0</td>\n",
       "      <td>0</td>\n",
       "      <td>0</td>\n",
       "      <td>0</td>\n",
       "      <td>1</td>\n",
       "      <td>0</td>\n",
       "      <td>0</td>\n",
       "      <td>0</td>\n",
       "      <td>0</td>\n",
       "      <td>0</td>\n",
       "      <td>1</td>\n",
       "      <td>0</td>\n",
       "      <td>0</td>\n",
       "    </tr>\n",
       "    <tr>\n",
       "      <th>2739</th>\n",
       "      <td>0</td>\n",
       "      <td>0</td>\n",
       "      <td>0</td>\n",
       "      <td>1</td>\n",
       "      <td>0</td>\n",
       "      <td>0</td>\n",
       "      <td>0</td>\n",
       "      <td>0</td>\n",
       "      <td>0</td>\n",
       "      <td>0</td>\n",
       "      <td>0</td>\n",
       "      <td>0</td>\n",
       "      <td>1</td>\n",
       "      <td>0</td>\n",
       "      <td>0</td>\n",
       "      <td>0</td>\n",
       "    </tr>\n",
       "    <tr>\n",
       "      <th>7436</th>\n",
       "      <td>0</td>\n",
       "      <td>0</td>\n",
       "      <td>0</td>\n",
       "      <td>0</td>\n",
       "      <td>0</td>\n",
       "      <td>0</td>\n",
       "      <td>1</td>\n",
       "      <td>0</td>\n",
       "      <td>0</td>\n",
       "      <td>0</td>\n",
       "      <td>0</td>\n",
       "      <td>0</td>\n",
       "      <td>0</td>\n",
       "      <td>0</td>\n",
       "      <td>0</td>\n",
       "      <td>1</td>\n",
       "    </tr>\n",
       "    <tr>\n",
       "      <th>6339</th>\n",
       "      <td>0</td>\n",
       "      <td>0</td>\n",
       "      <td>0</td>\n",
       "      <td>0</td>\n",
       "      <td>1</td>\n",
       "      <td>0</td>\n",
       "      <td>0</td>\n",
       "      <td>0</td>\n",
       "      <td>0</td>\n",
       "      <td>0</td>\n",
       "      <td>0</td>\n",
       "      <td>0</td>\n",
       "      <td>0</td>\n",
       "      <td>0</td>\n",
       "      <td>0</td>\n",
       "      <td>1</td>\n",
       "    </tr>\n",
       "    <tr>\n",
       "      <th>4654</th>\n",
       "      <td>0</td>\n",
       "      <td>0</td>\n",
       "      <td>0</td>\n",
       "      <td>0</td>\n",
       "      <td>1</td>\n",
       "      <td>0</td>\n",
       "      <td>0</td>\n",
       "      <td>0</td>\n",
       "      <td>0</td>\n",
       "      <td>0</td>\n",
       "      <td>0</td>\n",
       "      <td>0</td>\n",
       "      <td>1</td>\n",
       "      <td>0</td>\n",
       "      <td>0</td>\n",
       "      <td>0</td>\n",
       "    </tr>\n",
       "  </tbody>\n",
       "</table>\n",
       "</div>"
      ],
      "text/plain": [
       "      Odor_a  Odor_p  Odor_l  Odor_n  Odor_f  Odor_c  Odor_y  Odor_s  Odor_m  \\\n",
       "6253       0       0       0       0       0       0       0       1       0   \n",
       "2739       0       0       0       1       0       0       0       0       0   \n",
       "7436       0       0       0       0       0       0       1       0       0   \n",
       "6339       0       0       0       0       1       0       0       0       0   \n",
       "4654       0       0       0       0       1       0       0       0       0   \n",
       "\n",
       "      Habitat_u  Habitat_g  Habitat_m  Habitat_d  Habitat_p  Habitat_w  \\\n",
       "6253          0          0          0          0          1          0   \n",
       "2739          0          0          0          1          0          0   \n",
       "7436          0          0          0          0          0          0   \n",
       "6339          0          0          0          0          0          0   \n",
       "4654          0          0          0          1          0          0   \n",
       "\n",
       "      Habitat_l  \n",
       "6253          0  \n",
       "2739          0  \n",
       "7436          1  \n",
       "6339          1  \n",
       "4654          0  "
      ]
     },
     "execution_count": 247,
     "metadata": {},
     "output_type": "execute_result"
    }
   ],
   "source": [
    "# To split train set and test set\n",
    "train_x,test_x,train_y,test_y = train_test_split(x3, y, random_state=1)\n",
    "\n",
    "train_x.head(5)"
   ]
  },
  {
   "cell_type": "code",
   "execution_count": 248,
   "metadata": {},
   "outputs": [
    {
     "data": {
      "text/html": [
       "<div>\n",
       "<style scoped>\n",
       "    .dataframe tbody tr th:only-of-type {\n",
       "        vertical-align: middle;\n",
       "    }\n",
       "\n",
       "    .dataframe tbody tr th {\n",
       "        vertical-align: top;\n",
       "    }\n",
       "\n",
       "    .dataframe thead th {\n",
       "        text-align: right;\n",
       "    }\n",
       "</style>\n",
       "<table border=\"1\" class=\"dataframe\">\n",
       "  <thead>\n",
       "    <tr style=\"text-align: right;\">\n",
       "      <th></th>\n",
       "      <th>Odor_a</th>\n",
       "      <th>Odor_p</th>\n",
       "      <th>Odor_l</th>\n",
       "      <th>Odor_n</th>\n",
       "      <th>Odor_f</th>\n",
       "      <th>Odor_c</th>\n",
       "      <th>Odor_y</th>\n",
       "      <th>Odor_s</th>\n",
       "      <th>Odor_m</th>\n",
       "      <th>Habitat_u</th>\n",
       "      <th>Habitat_g</th>\n",
       "      <th>Habitat_m</th>\n",
       "      <th>Habitat_d</th>\n",
       "      <th>Habitat_p</th>\n",
       "      <th>Habitat_w</th>\n",
       "      <th>Habitat_l</th>\n",
       "    </tr>\n",
       "  </thead>\n",
       "  <tbody>\n",
       "    <tr>\n",
       "      <th>1392</th>\n",
       "      <td>0</td>\n",
       "      <td>0</td>\n",
       "      <td>0</td>\n",
       "      <td>1</td>\n",
       "      <td>0</td>\n",
       "      <td>0</td>\n",
       "      <td>0</td>\n",
       "      <td>0</td>\n",
       "      <td>0</td>\n",
       "      <td>0</td>\n",
       "      <td>1</td>\n",
       "      <td>0</td>\n",
       "      <td>0</td>\n",
       "      <td>0</td>\n",
       "      <td>0</td>\n",
       "      <td>0</td>\n",
       "    </tr>\n",
       "    <tr>\n",
       "      <th>4051</th>\n",
       "      <td>0</td>\n",
       "      <td>0</td>\n",
       "      <td>0</td>\n",
       "      <td>0</td>\n",
       "      <td>0</td>\n",
       "      <td>1</td>\n",
       "      <td>0</td>\n",
       "      <td>0</td>\n",
       "      <td>0</td>\n",
       "      <td>0</td>\n",
       "      <td>0</td>\n",
       "      <td>0</td>\n",
       "      <td>1</td>\n",
       "      <td>0</td>\n",
       "      <td>0</td>\n",
       "      <td>0</td>\n",
       "    </tr>\n",
       "    <tr>\n",
       "      <th>3725</th>\n",
       "      <td>0</td>\n",
       "      <td>0</td>\n",
       "      <td>0</td>\n",
       "      <td>0</td>\n",
       "      <td>0</td>\n",
       "      <td>1</td>\n",
       "      <td>0</td>\n",
       "      <td>0</td>\n",
       "      <td>0</td>\n",
       "      <td>0</td>\n",
       "      <td>0</td>\n",
       "      <td>0</td>\n",
       "      <td>1</td>\n",
       "      <td>0</td>\n",
       "      <td>0</td>\n",
       "      <td>0</td>\n",
       "    </tr>\n",
       "    <tr>\n",
       "      <th>7177</th>\n",
       "      <td>0</td>\n",
       "      <td>0</td>\n",
       "      <td>0</td>\n",
       "      <td>0</td>\n",
       "      <td>1</td>\n",
       "      <td>0</td>\n",
       "      <td>0</td>\n",
       "      <td>0</td>\n",
       "      <td>0</td>\n",
       "      <td>0</td>\n",
       "      <td>0</td>\n",
       "      <td>0</td>\n",
       "      <td>0</td>\n",
       "      <td>0</td>\n",
       "      <td>0</td>\n",
       "      <td>1</td>\n",
       "    </tr>\n",
       "    <tr>\n",
       "      <th>103</th>\n",
       "      <td>1</td>\n",
       "      <td>0</td>\n",
       "      <td>0</td>\n",
       "      <td>0</td>\n",
       "      <td>0</td>\n",
       "      <td>0</td>\n",
       "      <td>0</td>\n",
       "      <td>0</td>\n",
       "      <td>0</td>\n",
       "      <td>0</td>\n",
       "      <td>0</td>\n",
       "      <td>0</td>\n",
       "      <td>0</td>\n",
       "      <td>1</td>\n",
       "      <td>0</td>\n",
       "      <td>0</td>\n",
       "    </tr>\n",
       "  </tbody>\n",
       "</table>\n",
       "</div>"
      ],
      "text/plain": [
       "      Odor_a  Odor_p  Odor_l  Odor_n  Odor_f  Odor_c  Odor_y  Odor_s  Odor_m  \\\n",
       "1392       0       0       0       1       0       0       0       0       0   \n",
       "4051       0       0       0       0       0       1       0       0       0   \n",
       "3725       0       0       0       0       0       1       0       0       0   \n",
       "7177       0       0       0       0       1       0       0       0       0   \n",
       "103        1       0       0       0       0       0       0       0       0   \n",
       "\n",
       "      Habitat_u  Habitat_g  Habitat_m  Habitat_d  Habitat_p  Habitat_w  \\\n",
       "1392          0          1          0          0          0          0   \n",
       "4051          0          0          0          1          0          0   \n",
       "3725          0          0          0          1          0          0   \n",
       "7177          0          0          0          0          0          0   \n",
       "103           0          0          0          0          1          0   \n",
       "\n",
       "      Habitat_l  \n",
       "1392          0  \n",
       "4051          0  \n",
       "3725          0  \n",
       "7177          1  \n",
       "103           0  "
      ]
     },
     "execution_count": 248,
     "metadata": {},
     "output_type": "execute_result"
    }
   ],
   "source": [
    "test_x.head(5)"
   ]
  },
  {
   "cell_type": "code",
   "execution_count": 249,
   "metadata": {},
   "outputs": [
    {
     "data": {
      "text/plain": [
       "LogisticRegression()"
      ]
     },
     "execution_count": 249,
     "metadata": {},
     "output_type": "execute_result"
    }
   ],
   "source": [
    "# instantiate a logistic regression model, and fit with X and y\n",
    "odor_habitat_model = LogisticRegression()\n",
    "\n",
    "#training the model\n",
    "odor_habitat_model = odor_habitat_model.fit(train_x, train_y)\n",
    "\n",
    "odor_habitat_model"
   ]
  },
  {
   "cell_type": "code",
   "execution_count": 250,
   "metadata": {},
   "outputs": [
    {
     "data": {
      "text/plain": [
       "0.9862136878385032"
      ]
     },
     "execution_count": 250,
     "metadata": {},
     "output_type": "execute_result"
    }
   ],
   "source": [
    "# check the accuracy on the training set\n",
    "odor_habitat_model.score(train_x, train_y)"
   ]
  },
  {
   "cell_type": "code",
   "execution_count": 251,
   "metadata": {},
   "outputs": [
    {
     "data": {
      "text/plain": [
       "0.982274741506647"
      ]
     },
     "execution_count": 251,
     "metadata": {},
     "output_type": "execute_result"
    }
   ],
   "source": [
    "# check the accuracy on the testing set\n",
    "odor_habitat_model.score(test_x, test_y)"
   ]
  },
  {
   "cell_type": "code",
   "execution_count": 252,
   "metadata": {},
   "outputs": [
    {
     "name": "stdout",
     "output_type": "stream",
     "text": [
      "Index(['Odor_a', 'Odor_p', 'Odor_l', 'Odor_n', 'Odor_f', 'Odor_c', 'Odor_y',\n",
      "       'Odor_s', 'Odor_m', 'Habitat_u', 'Habitat_g', 'Habitat_m', 'Habitat_d',\n",
      "       'Habitat_p', 'Habitat_w', 'Habitat_l'],\n",
      "      dtype='object')\n"
     ]
    },
    {
     "data": {
      "text/plain": [
       "array([[ 7.00436857, -2.91069526,  7.03659895,  4.68615721, -4.51649375,\n",
       "        -2.90207876, -3.32384796, -3.35430038, -1.71976898,  0.44574638,\n",
       "         0.32334413, -2.65203519,  0.72049649, -0.16881413,  1.49901083,\n",
       "        -0.16780888]])"
      ]
     },
     "execution_count": 252,
     "metadata": {},
     "output_type": "execute_result"
    }
   ],
   "source": [
    "# examine the model coefficients for the explanatory variables\n",
    "print(x3.columns[0:])\n",
    "odor_habitat_model.coef_"
   ]
  },
  {
   "cell_type": "markdown",
   "metadata": {},
   "source": [
    "#### The accuracy of this model based on odor and habitat is 98.6% in the training dataset and 98.2% in the testing dataset, which pretty has the same accuracy as the model based on odor. The habitat does not improve model accuracy.¶\n"
   ]
  },
  {
   "cell_type": "markdown",
   "metadata": {},
   "source": [
    "## Model 2.4: Cap_Color, Gill_Color, Habitat"
   ]
  },
  {
   "cell_type": "code",
   "execution_count": 253,
   "metadata": {},
   "outputs": [],
   "source": [
    "# Choose the  cap color , Gill_Color, and Habitat to do the predict with the edible as x\n",
    "\n",
    "x4 = dummy[['Cap_Color_n','Cap_Color_y','Cap_Color_w','Cap_Color_g','Cap_Color_e','Cap_Color_p','Cap_Color_b','Cap_Color_u','Cap_Color_c','Cap_Color_r',\n",
    "        'Gill_Color_k','Gill_Color_n','Gill_Color_g','Gill_Color_p','Gill_Color_w','Gill_Color_h','Gill_Color_u',\n",
    "           'Gill_Color_e','Gill_Color_b','Gill_Color_r','Gill_Color_y','Gill_Color_o','Habitat_u','Habitat_g',\n",
    "            'Habitat_m','Habitat_d','Habitat_p','Habitat_w','Habitat_l']]\n",
    "\n",
    "y = dummy['Class']"
   ]
  },
  {
   "cell_type": "code",
   "execution_count": 254,
   "metadata": {},
   "outputs": [
    {
     "data": {
      "text/html": [
       "<div>\n",
       "<style scoped>\n",
       "    .dataframe tbody tr th:only-of-type {\n",
       "        vertical-align: middle;\n",
       "    }\n",
       "\n",
       "    .dataframe tbody tr th {\n",
       "        vertical-align: top;\n",
       "    }\n",
       "\n",
       "    .dataframe thead th {\n",
       "        text-align: right;\n",
       "    }\n",
       "</style>\n",
       "<table border=\"1\" class=\"dataframe\">\n",
       "  <thead>\n",
       "    <tr style=\"text-align: right;\">\n",
       "      <th></th>\n",
       "      <th>Cap_Color_n</th>\n",
       "      <th>Cap_Color_y</th>\n",
       "      <th>Cap_Color_w</th>\n",
       "      <th>Cap_Color_g</th>\n",
       "      <th>Cap_Color_e</th>\n",
       "      <th>Cap_Color_p</th>\n",
       "      <th>Cap_Color_b</th>\n",
       "      <th>Cap_Color_u</th>\n",
       "      <th>Cap_Color_c</th>\n",
       "      <th>Cap_Color_r</th>\n",
       "      <th>...</th>\n",
       "      <th>Gill_Color_r</th>\n",
       "      <th>Gill_Color_y</th>\n",
       "      <th>Gill_Color_o</th>\n",
       "      <th>Habitat_u</th>\n",
       "      <th>Habitat_g</th>\n",
       "      <th>Habitat_m</th>\n",
       "      <th>Habitat_d</th>\n",
       "      <th>Habitat_p</th>\n",
       "      <th>Habitat_w</th>\n",
       "      <th>Habitat_l</th>\n",
       "    </tr>\n",
       "  </thead>\n",
       "  <tbody>\n",
       "    <tr>\n",
       "      <th>6253</th>\n",
       "      <td>0</td>\n",
       "      <td>0</td>\n",
       "      <td>0</td>\n",
       "      <td>0</td>\n",
       "      <td>1</td>\n",
       "      <td>0</td>\n",
       "      <td>0</td>\n",
       "      <td>0</td>\n",
       "      <td>0</td>\n",
       "      <td>0</td>\n",
       "      <td>...</td>\n",
       "      <td>0</td>\n",
       "      <td>0</td>\n",
       "      <td>0</td>\n",
       "      <td>0</td>\n",
       "      <td>0</td>\n",
       "      <td>0</td>\n",
       "      <td>0</td>\n",
       "      <td>1</td>\n",
       "      <td>0</td>\n",
       "      <td>0</td>\n",
       "    </tr>\n",
       "    <tr>\n",
       "      <th>2739</th>\n",
       "      <td>0</td>\n",
       "      <td>0</td>\n",
       "      <td>0</td>\n",
       "      <td>0</td>\n",
       "      <td>1</td>\n",
       "      <td>0</td>\n",
       "      <td>0</td>\n",
       "      <td>0</td>\n",
       "      <td>0</td>\n",
       "      <td>0</td>\n",
       "      <td>...</td>\n",
       "      <td>0</td>\n",
       "      <td>0</td>\n",
       "      <td>0</td>\n",
       "      <td>0</td>\n",
       "      <td>0</td>\n",
       "      <td>0</td>\n",
       "      <td>1</td>\n",
       "      <td>0</td>\n",
       "      <td>0</td>\n",
       "      <td>0</td>\n",
       "    </tr>\n",
       "    <tr>\n",
       "      <th>7436</th>\n",
       "      <td>0</td>\n",
       "      <td>0</td>\n",
       "      <td>0</td>\n",
       "      <td>0</td>\n",
       "      <td>1</td>\n",
       "      <td>0</td>\n",
       "      <td>0</td>\n",
       "      <td>0</td>\n",
       "      <td>0</td>\n",
       "      <td>0</td>\n",
       "      <td>...</td>\n",
       "      <td>0</td>\n",
       "      <td>0</td>\n",
       "      <td>0</td>\n",
       "      <td>0</td>\n",
       "      <td>0</td>\n",
       "      <td>0</td>\n",
       "      <td>0</td>\n",
       "      <td>0</td>\n",
       "      <td>0</td>\n",
       "      <td>1</td>\n",
       "    </tr>\n",
       "    <tr>\n",
       "      <th>6339</th>\n",
       "      <td>0</td>\n",
       "      <td>0</td>\n",
       "      <td>0</td>\n",
       "      <td>0</td>\n",
       "      <td>1</td>\n",
       "      <td>0</td>\n",
       "      <td>0</td>\n",
       "      <td>0</td>\n",
       "      <td>0</td>\n",
       "      <td>0</td>\n",
       "      <td>...</td>\n",
       "      <td>0</td>\n",
       "      <td>0</td>\n",
       "      <td>0</td>\n",
       "      <td>0</td>\n",
       "      <td>0</td>\n",
       "      <td>0</td>\n",
       "      <td>0</td>\n",
       "      <td>0</td>\n",
       "      <td>0</td>\n",
       "      <td>1</td>\n",
       "    </tr>\n",
       "    <tr>\n",
       "      <th>4654</th>\n",
       "      <td>0</td>\n",
       "      <td>0</td>\n",
       "      <td>0</td>\n",
       "      <td>1</td>\n",
       "      <td>0</td>\n",
       "      <td>0</td>\n",
       "      <td>0</td>\n",
       "      <td>0</td>\n",
       "      <td>0</td>\n",
       "      <td>0</td>\n",
       "      <td>...</td>\n",
       "      <td>0</td>\n",
       "      <td>0</td>\n",
       "      <td>0</td>\n",
       "      <td>0</td>\n",
       "      <td>0</td>\n",
       "      <td>0</td>\n",
       "      <td>1</td>\n",
       "      <td>0</td>\n",
       "      <td>0</td>\n",
       "      <td>0</td>\n",
       "    </tr>\n",
       "  </tbody>\n",
       "</table>\n",
       "<p>5 rows × 29 columns</p>\n",
       "</div>"
      ],
      "text/plain": [
       "      Cap_Color_n  Cap_Color_y  Cap_Color_w  Cap_Color_g  Cap_Color_e  \\\n",
       "6253            0            0            0            0            1   \n",
       "2739            0            0            0            0            1   \n",
       "7436            0            0            0            0            1   \n",
       "6339            0            0            0            0            1   \n",
       "4654            0            0            0            1            0   \n",
       "\n",
       "      Cap_Color_p  Cap_Color_b  Cap_Color_u  Cap_Color_c  Cap_Color_r  ...  \\\n",
       "6253            0            0            0            0            0  ...   \n",
       "2739            0            0            0            0            0  ...   \n",
       "7436            0            0            0            0            0  ...   \n",
       "6339            0            0            0            0            0  ...   \n",
       "4654            0            0            0            0            0  ...   \n",
       "\n",
       "      Gill_Color_r  Gill_Color_y  Gill_Color_o  Habitat_u  Habitat_g  \\\n",
       "6253             0             0             0          0          0   \n",
       "2739             0             0             0          0          0   \n",
       "7436             0             0             0          0          0   \n",
       "6339             0             0             0          0          0   \n",
       "4654             0             0             0          0          0   \n",
       "\n",
       "      Habitat_m  Habitat_d  Habitat_p  Habitat_w  Habitat_l  \n",
       "6253          0          0          1          0          0  \n",
       "2739          0          1          0          0          0  \n",
       "7436          0          0          0          0          1  \n",
       "6339          0          0          0          0          1  \n",
       "4654          0          1          0          0          0  \n",
       "\n",
       "[5 rows x 29 columns]"
      ]
     },
     "execution_count": 254,
     "metadata": {},
     "output_type": "execute_result"
    }
   ],
   "source": [
    "# To split train set and test set\n",
    "train_x,test_x,train_y,test_y = train_test_split(x4, y, random_state=1)\n",
    "\n",
    "train_x.head(5)"
   ]
  },
  {
   "cell_type": "code",
   "execution_count": 255,
   "metadata": {},
   "outputs": [
    {
     "data": {
      "text/html": [
       "<div>\n",
       "<style scoped>\n",
       "    .dataframe tbody tr th:only-of-type {\n",
       "        vertical-align: middle;\n",
       "    }\n",
       "\n",
       "    .dataframe tbody tr th {\n",
       "        vertical-align: top;\n",
       "    }\n",
       "\n",
       "    .dataframe thead th {\n",
       "        text-align: right;\n",
       "    }\n",
       "</style>\n",
       "<table border=\"1\" class=\"dataframe\">\n",
       "  <thead>\n",
       "    <tr style=\"text-align: right;\">\n",
       "      <th></th>\n",
       "      <th>Cap_Color_n</th>\n",
       "      <th>Cap_Color_y</th>\n",
       "      <th>Cap_Color_w</th>\n",
       "      <th>Cap_Color_g</th>\n",
       "      <th>Cap_Color_e</th>\n",
       "      <th>Cap_Color_p</th>\n",
       "      <th>Cap_Color_b</th>\n",
       "      <th>Cap_Color_u</th>\n",
       "      <th>Cap_Color_c</th>\n",
       "      <th>Cap_Color_r</th>\n",
       "      <th>...</th>\n",
       "      <th>Gill_Color_r</th>\n",
       "      <th>Gill_Color_y</th>\n",
       "      <th>Gill_Color_o</th>\n",
       "      <th>Habitat_u</th>\n",
       "      <th>Habitat_g</th>\n",
       "      <th>Habitat_m</th>\n",
       "      <th>Habitat_d</th>\n",
       "      <th>Habitat_p</th>\n",
       "      <th>Habitat_w</th>\n",
       "      <th>Habitat_l</th>\n",
       "    </tr>\n",
       "  </thead>\n",
       "  <tbody>\n",
       "    <tr>\n",
       "      <th>1392</th>\n",
       "      <td>0</td>\n",
       "      <td>0</td>\n",
       "      <td>1</td>\n",
       "      <td>0</td>\n",
       "      <td>0</td>\n",
       "      <td>0</td>\n",
       "      <td>0</td>\n",
       "      <td>0</td>\n",
       "      <td>0</td>\n",
       "      <td>0</td>\n",
       "      <td>...</td>\n",
       "      <td>0</td>\n",
       "      <td>0</td>\n",
       "      <td>0</td>\n",
       "      <td>0</td>\n",
       "      <td>1</td>\n",
       "      <td>0</td>\n",
       "      <td>0</td>\n",
       "      <td>0</td>\n",
       "      <td>0</td>\n",
       "      <td>0</td>\n",
       "    </tr>\n",
       "    <tr>\n",
       "      <th>4051</th>\n",
       "      <td>0</td>\n",
       "      <td>0</td>\n",
       "      <td>0</td>\n",
       "      <td>0</td>\n",
       "      <td>0</td>\n",
       "      <td>1</td>\n",
       "      <td>0</td>\n",
       "      <td>0</td>\n",
       "      <td>0</td>\n",
       "      <td>0</td>\n",
       "      <td>...</td>\n",
       "      <td>0</td>\n",
       "      <td>0</td>\n",
       "      <td>0</td>\n",
       "      <td>0</td>\n",
       "      <td>0</td>\n",
       "      <td>0</td>\n",
       "      <td>1</td>\n",
       "      <td>0</td>\n",
       "      <td>0</td>\n",
       "      <td>0</td>\n",
       "    </tr>\n",
       "    <tr>\n",
       "      <th>3725</th>\n",
       "      <td>0</td>\n",
       "      <td>0</td>\n",
       "      <td>1</td>\n",
       "      <td>0</td>\n",
       "      <td>0</td>\n",
       "      <td>0</td>\n",
       "      <td>0</td>\n",
       "      <td>0</td>\n",
       "      <td>0</td>\n",
       "      <td>0</td>\n",
       "      <td>...</td>\n",
       "      <td>0</td>\n",
       "      <td>0</td>\n",
       "      <td>0</td>\n",
       "      <td>0</td>\n",
       "      <td>0</td>\n",
       "      <td>0</td>\n",
       "      <td>1</td>\n",
       "      <td>0</td>\n",
       "      <td>0</td>\n",
       "      <td>0</td>\n",
       "    </tr>\n",
       "    <tr>\n",
       "      <th>7177</th>\n",
       "      <td>1</td>\n",
       "      <td>0</td>\n",
       "      <td>0</td>\n",
       "      <td>0</td>\n",
       "      <td>0</td>\n",
       "      <td>0</td>\n",
       "      <td>0</td>\n",
       "      <td>0</td>\n",
       "      <td>0</td>\n",
       "      <td>0</td>\n",
       "      <td>...</td>\n",
       "      <td>0</td>\n",
       "      <td>0</td>\n",
       "      <td>0</td>\n",
       "      <td>0</td>\n",
       "      <td>0</td>\n",
       "      <td>0</td>\n",
       "      <td>0</td>\n",
       "      <td>0</td>\n",
       "      <td>0</td>\n",
       "      <td>1</td>\n",
       "    </tr>\n",
       "    <tr>\n",
       "      <th>103</th>\n",
       "      <td>0</td>\n",
       "      <td>1</td>\n",
       "      <td>0</td>\n",
       "      <td>0</td>\n",
       "      <td>0</td>\n",
       "      <td>0</td>\n",
       "      <td>0</td>\n",
       "      <td>0</td>\n",
       "      <td>0</td>\n",
       "      <td>0</td>\n",
       "      <td>...</td>\n",
       "      <td>0</td>\n",
       "      <td>0</td>\n",
       "      <td>0</td>\n",
       "      <td>0</td>\n",
       "      <td>0</td>\n",
       "      <td>0</td>\n",
       "      <td>0</td>\n",
       "      <td>1</td>\n",
       "      <td>0</td>\n",
       "      <td>0</td>\n",
       "    </tr>\n",
       "  </tbody>\n",
       "</table>\n",
       "<p>5 rows × 29 columns</p>\n",
       "</div>"
      ],
      "text/plain": [
       "      Cap_Color_n  Cap_Color_y  Cap_Color_w  Cap_Color_g  Cap_Color_e  \\\n",
       "1392            0            0            1            0            0   \n",
       "4051            0            0            0            0            0   \n",
       "3725            0            0            1            0            0   \n",
       "7177            1            0            0            0            0   \n",
       "103             0            1            0            0            0   \n",
       "\n",
       "      Cap_Color_p  Cap_Color_b  Cap_Color_u  Cap_Color_c  Cap_Color_r  ...  \\\n",
       "1392            0            0            0            0            0  ...   \n",
       "4051            1            0            0            0            0  ...   \n",
       "3725            0            0            0            0            0  ...   \n",
       "7177            0            0            0            0            0  ...   \n",
       "103             0            0            0            0            0  ...   \n",
       "\n",
       "      Gill_Color_r  Gill_Color_y  Gill_Color_o  Habitat_u  Habitat_g  \\\n",
       "1392             0             0             0          0          1   \n",
       "4051             0             0             0          0          0   \n",
       "3725             0             0             0          0          0   \n",
       "7177             0             0             0          0          0   \n",
       "103              0             0             0          0          0   \n",
       "\n",
       "      Habitat_m  Habitat_d  Habitat_p  Habitat_w  Habitat_l  \n",
       "1392          0          0          0          0          0  \n",
       "4051          0          1          0          0          0  \n",
       "3725          0          1          0          0          0  \n",
       "7177          0          0          0          0          1  \n",
       "103           0          0          1          0          0  \n",
       "\n",
       "[5 rows x 29 columns]"
      ]
     },
     "execution_count": 255,
     "metadata": {},
     "output_type": "execute_result"
    }
   ],
   "source": [
    "test_x.head(5)"
   ]
  },
  {
   "cell_type": "code",
   "execution_count": 256,
   "metadata": {},
   "outputs": [
    {
     "data": {
      "text/plain": [
       "LogisticRegression()"
      ]
     },
     "execution_count": 256,
     "metadata": {},
     "output_type": "execute_result"
    }
   ],
   "source": [
    "# instantiate a logistic regression model, and fit with X and y\n",
    "colors_habitat_model = LogisticRegression()\n",
    "\n",
    "#training the model\n",
    "colors_habitat_model = colors_habitat_model.fit(train_x, train_y)\n",
    "\n",
    "colors_habitat_model"
   ]
  },
  {
   "cell_type": "code",
   "execution_count": 257,
   "metadata": {},
   "outputs": [
    {
     "data": {
      "text/plain": [
       "0.8828163466272771"
      ]
     },
     "execution_count": 257,
     "metadata": {},
     "output_type": "execute_result"
    }
   ],
   "source": [
    "# check the accuracy on the training set\n",
    "colors_habitat_model.score(train_x, train_y)"
   ]
  },
  {
   "cell_type": "code",
   "execution_count": 258,
   "metadata": {},
   "outputs": [
    {
     "data": {
      "text/plain": [
       "0.8818316100443131"
      ]
     },
     "execution_count": 258,
     "metadata": {},
     "output_type": "execute_result"
    }
   ],
   "source": [
    "# check the accuracy on the testing set\n",
    "colors_habitat_model.score(test_x, test_y)"
   ]
  },
  {
   "cell_type": "code",
   "execution_count": 259,
   "metadata": {},
   "outputs": [
    {
     "name": "stdout",
     "output_type": "stream",
     "text": [
      "Index(['Cap_Color_n', 'Cap_Color_y', 'Cap_Color_w', 'Cap_Color_g',\n",
      "       'Cap_Color_e', 'Cap_Color_p', 'Cap_Color_b', 'Cap_Color_u',\n",
      "       'Cap_Color_c', 'Cap_Color_r', 'Gill_Color_k', 'Gill_Color_n',\n",
      "       'Gill_Color_g', 'Gill_Color_p', 'Gill_Color_w', 'Gill_Color_h',\n",
      "       'Gill_Color_u', 'Gill_Color_e', 'Gill_Color_b', 'Gill_Color_r',\n",
      "       'Gill_Color_y', 'Gill_Color_o', 'Habitat_u', 'Habitat_g', 'Habitat_m',\n",
      "       'Habitat_d', 'Habitat_p', 'Habitat_w', 'Habitat_l'],\n",
      "      dtype='object')\n"
     ]
    },
    {
     "data": {
      "text/plain": [
       "array([[ 1.40350245, -0.96267688,  0.1662634 , -0.03174389,  2.20858373,\n",
       "        -2.90765329, -3.45664235,  1.48743034,  0.35094512,  1.74015646,\n",
       "         1.66518584,  2.1805742 , -0.26677194,  0.56971907,  1.49332061,\n",
       "        -0.52224468,  2.01074706,  1.79009907, -7.17131971, -2.25061375,\n",
       "        -0.73272275,  1.23219208, -3.05266092, -0.33559925,  1.77192388,\n",
       "        -0.80099857, -1.89914071,  3.87627198,  0.43836868]])"
      ]
     },
     "execution_count": 259,
     "metadata": {},
     "output_type": "execute_result"
    }
   ],
   "source": [
    "# examine the model coefficients for the explanatory variables\n",
    "print(x4.columns[0:])\n",
    "colors_habitat_model.coef_"
   ]
  },
  {
   "cell_type": "markdown",
   "metadata": {},
   "source": [
    "#### The accuracy of this model that based on cap color, gill color, and habitat is 88.3% in the training dataset and 88.2% in the testing dataset, which is not as accurate as the model based on odor.\n",
    "#### By combining the three attributes in one model we created the highest score in case we did not have the odor information, the three attributes could help create a better performing model."
   ]
  },
  {
   "cell_type": "markdown",
   "metadata": {},
   "source": [
    "## Model 2.5: Odor, Cap_Color, Gill_Color & Habitat"
   ]
  },
  {
   "cell_type": "code",
   "execution_count": 260,
   "metadata": {},
   "outputs": [],
   "source": [
    "# Choose the odor,  cap color , gill color, and habitat to do the predict with the edible as x\n",
    "\n",
    "x5 = dummy[['Odor_a','Odor_p','Odor_l','Odor_n','Odor_f','Odor_c','Odor_y','Odor_s','Odor_m','Cap_Color_n','Cap_Color_y','Cap_Color_w','Cap_Color_g','Cap_Color_e','Cap_Color_p','Cap_Color_b','Cap_Color_u','Cap_Color_c','Cap_Color_r',\n",
    "        'Gill_Color_k','Gill_Color_n','Gill_Color_g','Gill_Color_p','Gill_Color_w','Gill_Color_h','Gill_Color_u',\n",
    "           'Gill_Color_e','Gill_Color_b','Gill_Color_r','Gill_Color_y','Gill_Color_o','Habitat_u','Habitat_g',\n",
    "            'Habitat_m','Habitat_d','Habitat_p','Habitat_w','Habitat_l']]\n",
    "\n",
    "y = dummy['Class']"
   ]
  },
  {
   "cell_type": "code",
   "execution_count": 261,
   "metadata": {},
   "outputs": [
    {
     "data": {
      "text/html": [
       "<div>\n",
       "<style scoped>\n",
       "    .dataframe tbody tr th:only-of-type {\n",
       "        vertical-align: middle;\n",
       "    }\n",
       "\n",
       "    .dataframe tbody tr th {\n",
       "        vertical-align: top;\n",
       "    }\n",
       "\n",
       "    .dataframe thead th {\n",
       "        text-align: right;\n",
       "    }\n",
       "</style>\n",
       "<table border=\"1\" class=\"dataframe\">\n",
       "  <thead>\n",
       "    <tr style=\"text-align: right;\">\n",
       "      <th></th>\n",
       "      <th>Odor_a</th>\n",
       "      <th>Odor_p</th>\n",
       "      <th>Odor_l</th>\n",
       "      <th>Odor_n</th>\n",
       "      <th>Odor_f</th>\n",
       "      <th>Odor_c</th>\n",
       "      <th>Odor_y</th>\n",
       "      <th>Odor_s</th>\n",
       "      <th>Odor_m</th>\n",
       "      <th>Cap_Color_n</th>\n",
       "      <th>...</th>\n",
       "      <th>Gill_Color_r</th>\n",
       "      <th>Gill_Color_y</th>\n",
       "      <th>Gill_Color_o</th>\n",
       "      <th>Habitat_u</th>\n",
       "      <th>Habitat_g</th>\n",
       "      <th>Habitat_m</th>\n",
       "      <th>Habitat_d</th>\n",
       "      <th>Habitat_p</th>\n",
       "      <th>Habitat_w</th>\n",
       "      <th>Habitat_l</th>\n",
       "    </tr>\n",
       "  </thead>\n",
       "  <tbody>\n",
       "    <tr>\n",
       "      <th>6253</th>\n",
       "      <td>0</td>\n",
       "      <td>0</td>\n",
       "      <td>0</td>\n",
       "      <td>0</td>\n",
       "      <td>0</td>\n",
       "      <td>0</td>\n",
       "      <td>0</td>\n",
       "      <td>1</td>\n",
       "      <td>0</td>\n",
       "      <td>0</td>\n",
       "      <td>...</td>\n",
       "      <td>0</td>\n",
       "      <td>0</td>\n",
       "      <td>0</td>\n",
       "      <td>0</td>\n",
       "      <td>0</td>\n",
       "      <td>0</td>\n",
       "      <td>0</td>\n",
       "      <td>1</td>\n",
       "      <td>0</td>\n",
       "      <td>0</td>\n",
       "    </tr>\n",
       "    <tr>\n",
       "      <th>2739</th>\n",
       "      <td>0</td>\n",
       "      <td>0</td>\n",
       "      <td>0</td>\n",
       "      <td>1</td>\n",
       "      <td>0</td>\n",
       "      <td>0</td>\n",
       "      <td>0</td>\n",
       "      <td>0</td>\n",
       "      <td>0</td>\n",
       "      <td>0</td>\n",
       "      <td>...</td>\n",
       "      <td>0</td>\n",
       "      <td>0</td>\n",
       "      <td>0</td>\n",
       "      <td>0</td>\n",
       "      <td>0</td>\n",
       "      <td>0</td>\n",
       "      <td>1</td>\n",
       "      <td>0</td>\n",
       "      <td>0</td>\n",
       "      <td>0</td>\n",
       "    </tr>\n",
       "    <tr>\n",
       "      <th>7436</th>\n",
       "      <td>0</td>\n",
       "      <td>0</td>\n",
       "      <td>0</td>\n",
       "      <td>0</td>\n",
       "      <td>0</td>\n",
       "      <td>0</td>\n",
       "      <td>1</td>\n",
       "      <td>0</td>\n",
       "      <td>0</td>\n",
       "      <td>0</td>\n",
       "      <td>...</td>\n",
       "      <td>0</td>\n",
       "      <td>0</td>\n",
       "      <td>0</td>\n",
       "      <td>0</td>\n",
       "      <td>0</td>\n",
       "      <td>0</td>\n",
       "      <td>0</td>\n",
       "      <td>0</td>\n",
       "      <td>0</td>\n",
       "      <td>1</td>\n",
       "    </tr>\n",
       "    <tr>\n",
       "      <th>6339</th>\n",
       "      <td>0</td>\n",
       "      <td>0</td>\n",
       "      <td>0</td>\n",
       "      <td>0</td>\n",
       "      <td>1</td>\n",
       "      <td>0</td>\n",
       "      <td>0</td>\n",
       "      <td>0</td>\n",
       "      <td>0</td>\n",
       "      <td>0</td>\n",
       "      <td>...</td>\n",
       "      <td>0</td>\n",
       "      <td>0</td>\n",
       "      <td>0</td>\n",
       "      <td>0</td>\n",
       "      <td>0</td>\n",
       "      <td>0</td>\n",
       "      <td>0</td>\n",
       "      <td>0</td>\n",
       "      <td>0</td>\n",
       "      <td>1</td>\n",
       "    </tr>\n",
       "    <tr>\n",
       "      <th>4654</th>\n",
       "      <td>0</td>\n",
       "      <td>0</td>\n",
       "      <td>0</td>\n",
       "      <td>0</td>\n",
       "      <td>1</td>\n",
       "      <td>0</td>\n",
       "      <td>0</td>\n",
       "      <td>0</td>\n",
       "      <td>0</td>\n",
       "      <td>0</td>\n",
       "      <td>...</td>\n",
       "      <td>0</td>\n",
       "      <td>0</td>\n",
       "      <td>0</td>\n",
       "      <td>0</td>\n",
       "      <td>0</td>\n",
       "      <td>0</td>\n",
       "      <td>1</td>\n",
       "      <td>0</td>\n",
       "      <td>0</td>\n",
       "      <td>0</td>\n",
       "    </tr>\n",
       "  </tbody>\n",
       "</table>\n",
       "<p>5 rows × 38 columns</p>\n",
       "</div>"
      ],
      "text/plain": [
       "      Odor_a  Odor_p  Odor_l  Odor_n  Odor_f  Odor_c  Odor_y  Odor_s  Odor_m  \\\n",
       "6253       0       0       0       0       0       0       0       1       0   \n",
       "2739       0       0       0       1       0       0       0       0       0   \n",
       "7436       0       0       0       0       0       0       1       0       0   \n",
       "6339       0       0       0       0       1       0       0       0       0   \n",
       "4654       0       0       0       0       1       0       0       0       0   \n",
       "\n",
       "      Cap_Color_n  ...  Gill_Color_r  Gill_Color_y  Gill_Color_o  Habitat_u  \\\n",
       "6253            0  ...             0             0             0          0   \n",
       "2739            0  ...             0             0             0          0   \n",
       "7436            0  ...             0             0             0          0   \n",
       "6339            0  ...             0             0             0          0   \n",
       "4654            0  ...             0             0             0          0   \n",
       "\n",
       "      Habitat_g  Habitat_m  Habitat_d  Habitat_p  Habitat_w  Habitat_l  \n",
       "6253          0          0          0          1          0          0  \n",
       "2739          0          0          1          0          0          0  \n",
       "7436          0          0          0          0          0          1  \n",
       "6339          0          0          0          0          0          1  \n",
       "4654          0          0          1          0          0          0  \n",
       "\n",
       "[5 rows x 38 columns]"
      ]
     },
     "execution_count": 261,
     "metadata": {},
     "output_type": "execute_result"
    }
   ],
   "source": [
    "# To split train set and test set\n",
    "train_x,test_x,train_y,test_y = train_test_split(x5, y, random_state=1)\n",
    "\n",
    "train_x.head(5)"
   ]
  },
  {
   "cell_type": "code",
   "execution_count": 262,
   "metadata": {},
   "outputs": [
    {
     "data": {
      "text/html": [
       "<div>\n",
       "<style scoped>\n",
       "    .dataframe tbody tr th:only-of-type {\n",
       "        vertical-align: middle;\n",
       "    }\n",
       "\n",
       "    .dataframe tbody tr th {\n",
       "        vertical-align: top;\n",
       "    }\n",
       "\n",
       "    .dataframe thead th {\n",
       "        text-align: right;\n",
       "    }\n",
       "</style>\n",
       "<table border=\"1\" class=\"dataframe\">\n",
       "  <thead>\n",
       "    <tr style=\"text-align: right;\">\n",
       "      <th></th>\n",
       "      <th>Odor_a</th>\n",
       "      <th>Odor_p</th>\n",
       "      <th>Odor_l</th>\n",
       "      <th>Odor_n</th>\n",
       "      <th>Odor_f</th>\n",
       "      <th>Odor_c</th>\n",
       "      <th>Odor_y</th>\n",
       "      <th>Odor_s</th>\n",
       "      <th>Odor_m</th>\n",
       "      <th>Cap_Color_n</th>\n",
       "      <th>...</th>\n",
       "      <th>Gill_Color_r</th>\n",
       "      <th>Gill_Color_y</th>\n",
       "      <th>Gill_Color_o</th>\n",
       "      <th>Habitat_u</th>\n",
       "      <th>Habitat_g</th>\n",
       "      <th>Habitat_m</th>\n",
       "      <th>Habitat_d</th>\n",
       "      <th>Habitat_p</th>\n",
       "      <th>Habitat_w</th>\n",
       "      <th>Habitat_l</th>\n",
       "    </tr>\n",
       "  </thead>\n",
       "  <tbody>\n",
       "    <tr>\n",
       "      <th>1392</th>\n",
       "      <td>0</td>\n",
       "      <td>0</td>\n",
       "      <td>0</td>\n",
       "      <td>1</td>\n",
       "      <td>0</td>\n",
       "      <td>0</td>\n",
       "      <td>0</td>\n",
       "      <td>0</td>\n",
       "      <td>0</td>\n",
       "      <td>0</td>\n",
       "      <td>...</td>\n",
       "      <td>0</td>\n",
       "      <td>0</td>\n",
       "      <td>0</td>\n",
       "      <td>0</td>\n",
       "      <td>1</td>\n",
       "      <td>0</td>\n",
       "      <td>0</td>\n",
       "      <td>0</td>\n",
       "      <td>0</td>\n",
       "      <td>0</td>\n",
       "    </tr>\n",
       "    <tr>\n",
       "      <th>4051</th>\n",
       "      <td>0</td>\n",
       "      <td>0</td>\n",
       "      <td>0</td>\n",
       "      <td>0</td>\n",
       "      <td>0</td>\n",
       "      <td>1</td>\n",
       "      <td>0</td>\n",
       "      <td>0</td>\n",
       "      <td>0</td>\n",
       "      <td>0</td>\n",
       "      <td>...</td>\n",
       "      <td>0</td>\n",
       "      <td>0</td>\n",
       "      <td>0</td>\n",
       "      <td>0</td>\n",
       "      <td>0</td>\n",
       "      <td>0</td>\n",
       "      <td>1</td>\n",
       "      <td>0</td>\n",
       "      <td>0</td>\n",
       "      <td>0</td>\n",
       "    </tr>\n",
       "    <tr>\n",
       "      <th>3725</th>\n",
       "      <td>0</td>\n",
       "      <td>0</td>\n",
       "      <td>0</td>\n",
       "      <td>0</td>\n",
       "      <td>0</td>\n",
       "      <td>1</td>\n",
       "      <td>0</td>\n",
       "      <td>0</td>\n",
       "      <td>0</td>\n",
       "      <td>0</td>\n",
       "      <td>...</td>\n",
       "      <td>0</td>\n",
       "      <td>0</td>\n",
       "      <td>0</td>\n",
       "      <td>0</td>\n",
       "      <td>0</td>\n",
       "      <td>0</td>\n",
       "      <td>1</td>\n",
       "      <td>0</td>\n",
       "      <td>0</td>\n",
       "      <td>0</td>\n",
       "    </tr>\n",
       "    <tr>\n",
       "      <th>7177</th>\n",
       "      <td>0</td>\n",
       "      <td>0</td>\n",
       "      <td>0</td>\n",
       "      <td>0</td>\n",
       "      <td>1</td>\n",
       "      <td>0</td>\n",
       "      <td>0</td>\n",
       "      <td>0</td>\n",
       "      <td>0</td>\n",
       "      <td>1</td>\n",
       "      <td>...</td>\n",
       "      <td>0</td>\n",
       "      <td>0</td>\n",
       "      <td>0</td>\n",
       "      <td>0</td>\n",
       "      <td>0</td>\n",
       "      <td>0</td>\n",
       "      <td>0</td>\n",
       "      <td>0</td>\n",
       "      <td>0</td>\n",
       "      <td>1</td>\n",
       "    </tr>\n",
       "    <tr>\n",
       "      <th>103</th>\n",
       "      <td>1</td>\n",
       "      <td>0</td>\n",
       "      <td>0</td>\n",
       "      <td>0</td>\n",
       "      <td>0</td>\n",
       "      <td>0</td>\n",
       "      <td>0</td>\n",
       "      <td>0</td>\n",
       "      <td>0</td>\n",
       "      <td>0</td>\n",
       "      <td>...</td>\n",
       "      <td>0</td>\n",
       "      <td>0</td>\n",
       "      <td>0</td>\n",
       "      <td>0</td>\n",
       "      <td>0</td>\n",
       "      <td>0</td>\n",
       "      <td>0</td>\n",
       "      <td>1</td>\n",
       "      <td>0</td>\n",
       "      <td>0</td>\n",
       "    </tr>\n",
       "  </tbody>\n",
       "</table>\n",
       "<p>5 rows × 38 columns</p>\n",
       "</div>"
      ],
      "text/plain": [
       "      Odor_a  Odor_p  Odor_l  Odor_n  Odor_f  Odor_c  Odor_y  Odor_s  Odor_m  \\\n",
       "1392       0       0       0       1       0       0       0       0       0   \n",
       "4051       0       0       0       0       0       1       0       0       0   \n",
       "3725       0       0       0       0       0       1       0       0       0   \n",
       "7177       0       0       0       0       1       0       0       0       0   \n",
       "103        1       0       0       0       0       0       0       0       0   \n",
       "\n",
       "      Cap_Color_n  ...  Gill_Color_r  Gill_Color_y  Gill_Color_o  Habitat_u  \\\n",
       "1392            0  ...             0             0             0          0   \n",
       "4051            0  ...             0             0             0          0   \n",
       "3725            0  ...             0             0             0          0   \n",
       "7177            1  ...             0             0             0          0   \n",
       "103             0  ...             0             0             0          0   \n",
       "\n",
       "      Habitat_g  Habitat_m  Habitat_d  Habitat_p  Habitat_w  Habitat_l  \n",
       "1392          1          0          0          0          0          0  \n",
       "4051          0          0          1          0          0          0  \n",
       "3725          0          0          1          0          0          0  \n",
       "7177          0          0          0          0          0          1  \n",
       "103           0          0          0          1          0          0  \n",
       "\n",
       "[5 rows x 38 columns]"
      ]
     },
     "execution_count": 262,
     "metadata": {},
     "output_type": "execute_result"
    }
   ],
   "source": [
    "test_x.head(5)"
   ]
  },
  {
   "cell_type": "code",
   "execution_count": 263,
   "metadata": {},
   "outputs": [
    {
     "data": {
      "text/plain": [
       "LogisticRegression()"
      ]
     },
     "execution_count": 263,
     "metadata": {},
     "output_type": "execute_result"
    }
   ],
   "source": [
    "# instantiate a logistic regression model, and fit with X and y\n",
    "final_model = LogisticRegression()\n",
    "\n",
    "#training the model\n",
    "final_model = final_model.fit(train_x, train_y)\n",
    "\n",
    "final_model"
   ]
  },
  {
   "cell_type": "code",
   "execution_count": 264,
   "metadata": {},
   "outputs": [
    {
     "data": {
      "text/plain": [
       "0.9926144756277696"
      ]
     },
     "execution_count": 264,
     "metadata": {},
     "output_type": "execute_result"
    }
   ],
   "source": [
    "# check the accuracy on the training set\n",
    "final_model.score(train_x, train_y)"
   ]
  },
  {
   "cell_type": "code",
   "execution_count": 265,
   "metadata": {},
   "outputs": [
    {
     "data": {
      "text/plain": [
       "0.9867060561299852"
      ]
     },
     "execution_count": 265,
     "metadata": {},
     "output_type": "execute_result"
    }
   ],
   "source": [
    "# check the accuracy on the testing set\n",
    "final_model.score(test_x, test_y)"
   ]
  },
  {
   "cell_type": "code",
   "execution_count": 266,
   "metadata": {},
   "outputs": [
    {
     "name": "stdout",
     "output_type": "stream",
     "text": [
      "Index(['Odor_a', 'Odor_p', 'Odor_l', 'Odor_n', 'Odor_f', 'Odor_c', 'Odor_y',\n",
      "       'Odor_s', 'Odor_m', 'Cap_Color_n', 'Cap_Color_y', 'Cap_Color_w',\n",
      "       'Cap_Color_g', 'Cap_Color_e', 'Cap_Color_p', 'Cap_Color_b',\n",
      "       'Cap_Color_u', 'Cap_Color_c', 'Cap_Color_r', 'Gill_Color_k',\n",
      "       'Gill_Color_n', 'Gill_Color_g', 'Gill_Color_p', 'Gill_Color_w',\n",
      "       'Gill_Color_h', 'Gill_Color_u', 'Gill_Color_e', 'Gill_Color_b',\n",
      "       'Gill_Color_r', 'Gill_Color_y', 'Gill_Color_o', 'Habitat_u',\n",
      "       'Habitat_g', 'Habitat_m', 'Habitat_d', 'Habitat_p', 'Habitat_w',\n",
      "       'Habitat_l'],\n",
      "      dtype='object')\n"
     ]
    },
    {
     "data": {
      "text/plain": [
       "array([[ 6.45154445, -4.00173085,  6.46647122,  4.42234207, -5.20084513,\n",
       "        -3.22602381, -1.63373604, -1.68374286, -1.59500067,  1.13777832,\n",
       "        -1.31202646, -0.06832224,  1.45721434,  1.68516747, -2.14129445,\n",
       "        -2.83403482,  0.45810062,  1.06913953,  0.54755609,  1.19887126,\n",
       "         1.549713  , -0.55914045,  1.14122397, -0.32320826,  0.67735809,\n",
       "         1.37819977,  0.76972181, -3.36888763, -2.99324051, -0.26479069,\n",
       "         0.79345803, -0.49713461,  0.12308482, -0.9317807 , -0.68035109,\n",
       "         0.10829112,  2.69986159, -0.82269274]])"
      ]
     },
     "execution_count": 266,
     "metadata": {},
     "output_type": "execute_result"
    }
   ],
   "source": [
    "# examine the model coefficients for the explanatory variables\n",
    "print(x5.columns[0:])\n",
    "final_model.coef_"
   ]
  },
  {
   "cell_type": "markdown",
   "metadata": {},
   "source": [
    "#### The accuracy of this model based on odor, cap color, gill color, and habitat is 99.26% in the training dataset and 98.67% in the testing dataset, which is the most accurate model. The accuracy is 99.26%, which means it is a very accurate model that can be used to predict the mushroom is edible or poisonous.¶\n",
    "\n",
    "\n",
    "#### Based on the coefficients, if the mushroom grows in waste(w) habitat, or it does not have an odor (n), or it has almond (a) or anise (l) odor, it likely is an edible mushroom. If mushroom has the odor of foul (f), pungent (p),  fishy (y) ,  or it has buff(b) cap color, or it has green(r) or buff(b) as its gill color, it likely to be poisonous. \n",
    "\n",
    "\n"
   ]
  },
  {
   "cell_type": "code",
   "execution_count": 267,
   "metadata": {},
   "outputs": [
    {
     "name": "stdout",
     "output_type": "stream",
     "text": [
      "                            OLS Regression Results                            \n",
      "==============================================================================\n",
      "Dep. Variable:                  Class   R-squared:                       0.957\n",
      "Model:                            OLS   Adj. R-squared:                  0.957\n",
      "Method:                 Least Squares   F-statistic:                     5143.\n",
      "Date:                Sun, 13 Dec 2020   Prob (F-statistic):               0.00\n",
      "Time:                        21:08:42   Log-Likelihood:                 6890.1\n",
      "No. Observations:                8124   AIC:                        -1.371e+04\n",
      "Df Residuals:                    8088   BIC:                        -1.346e+04\n",
      "Df Model:                          35                                         \n",
      "Covariance Type:            nonrobust                                         \n",
      "================================================================================\n",
      "                   coef    std err          t      P>|t|      [0.025      0.975]\n",
      "--------------------------------------------------------------------------------\n",
      "Intercept     2.684e+10   5.75e+10      0.467      0.641   -8.59e+10     1.4e+11\n",
      "Odor_a        7.005e+08   4.27e+10      0.016      0.987   -8.29e+10    8.43e+10\n",
      "Odor_p        7.005e+08   4.27e+10      0.016      0.987   -8.29e+10    8.43e+10\n",
      "Odor_l        7.005e+08   4.27e+10      0.016      0.987   -8.29e+10    8.43e+10\n",
      "Odor_n        7.005e+08   4.27e+10      0.016      0.987   -8.29e+10    8.43e+10\n",
      "Odor_f        7.005e+08   4.27e+10      0.016      0.987   -8.29e+10    8.43e+10\n",
      "Odor_c        7.005e+08   4.27e+10      0.016      0.987   -8.29e+10    8.43e+10\n",
      "Odor_y        7.005e+08   4.27e+10      0.016      0.987   -8.29e+10    8.43e+10\n",
      "Odor_s        7.005e+08   4.27e+10      0.016      0.987   -8.29e+10    8.43e+10\n",
      "Odor_m        7.005e+08   4.27e+10      0.016      0.987   -8.29e+10    8.43e+10\n",
      "Cap_Color_n  -5.628e+08   1.19e+11     -0.005      0.996   -2.33e+11    2.32e+11\n",
      "Cap_Color_y  -5.628e+08   1.19e+11     -0.005      0.996   -2.33e+11    2.32e+11\n",
      "Cap_Color_w  -5.628e+08   1.19e+11     -0.005      0.996   -2.33e+11    2.32e+11\n",
      "Cap_Color_g  -5.628e+08   1.19e+11     -0.005      0.996   -2.33e+11    2.32e+11\n",
      "Cap_Color_e  -5.628e+08   1.19e+11     -0.005      0.996   -2.33e+11    2.32e+11\n",
      "Cap_Color_p  -5.628e+08   1.19e+11     -0.005      0.996   -2.33e+11    2.32e+11\n",
      "Cap_Color_b  -5.628e+08   1.19e+11     -0.005      0.996   -2.33e+11    2.32e+11\n",
      "Cap_Color_u  -5.628e+08   1.19e+11     -0.005      0.996   -2.33e+11    2.32e+11\n",
      "Cap_Color_c  -5.628e+08   1.19e+11     -0.005      0.996   -2.33e+11    2.32e+11\n",
      "Cap_Color_r  -5.628e+08   1.19e+11     -0.005      0.996   -2.33e+11    2.32e+11\n",
      "Gill_Color_k  3.196e+10   1.31e+11      0.244      0.808   -2.25e+11    2.89e+11\n",
      "Gill_Color_n  3.196e+10   1.31e+11      0.244      0.808   -2.25e+11    2.89e+11\n",
      "Gill_Color_g  3.196e+10   1.31e+11      0.244      0.808   -2.25e+11    2.89e+11\n",
      "Gill_Color_p  3.196e+10   1.31e+11      0.244      0.808   -2.25e+11    2.89e+11\n",
      "Gill_Color_w  3.196e+10   1.31e+11      0.244      0.808   -2.25e+11    2.89e+11\n",
      "Gill_Color_h  3.196e+10   1.31e+11      0.244      0.808   -2.25e+11    2.89e+11\n",
      "Gill_Color_u  3.196e+10   1.31e+11      0.244      0.808   -2.25e+11    2.89e+11\n",
      "Gill_Color_e  3.196e+10   1.31e+11      0.244      0.808   -2.25e+11    2.89e+11\n",
      "Gill_Color_b  3.196e+10   1.31e+11      0.244      0.808   -2.25e+11    2.89e+11\n",
      "Gill_Color_r  3.196e+10   1.31e+11      0.244      0.808   -2.25e+11    2.89e+11\n",
      "Gill_Color_y  3.196e+10   1.31e+11      0.244      0.808   -2.25e+11    2.89e+11\n",
      "Gill_Color_o  3.196e+10   1.31e+11      0.244      0.808   -2.25e+11    2.89e+11\n",
      "Habitat_u    -5.894e+10   1.12e+11     -0.528      0.597   -2.78e+11     1.6e+11\n",
      "Habitat_g    -5.894e+10   1.12e+11     -0.528      0.597   -2.78e+11     1.6e+11\n",
      "Habitat_m    -5.894e+10   1.12e+11     -0.528      0.597   -2.78e+11     1.6e+11\n",
      "Habitat_d    -5.894e+10   1.12e+11     -0.528      0.597   -2.78e+11     1.6e+11\n",
      "Habitat_p    -5.894e+10   1.12e+11     -0.528      0.597   -2.78e+11     1.6e+11\n",
      "Habitat_w    -5.894e+10   1.12e+11     -0.528      0.597   -2.78e+11     1.6e+11\n",
      "Habitat_l    -5.894e+10   1.12e+11     -0.528      0.597   -2.78e+11     1.6e+11\n",
      "==============================================================================\n",
      "Omnibus:                     9526.845   Durbin-Watson:                   1.977\n",
      "Prob(Omnibus):                  0.000   Jarque-Bera (JB):           909508.682\n",
      "Skew:                          -6.313   Prob(JB):                         0.00\n",
      "Kurtosis:                      53.274   Cond. No.                     6.45e+14\n",
      "==============================================================================\n",
      "\n",
      "Warnings:\n",
      "[1] Standard Errors assume that the covariance matrix of the errors is correctly specified.\n",
      "[2] The smallest eigenvalue is 3.72e-26. This might indicate that there are\n",
      "strong multicollinearity problems or that the design matrix is singular.\n"
     ]
    }
   ],
   "source": [
    "# Calculating the t-test, and R-squared\n",
    "\n",
    "results = smf.ols('Class ~ Odor_a + Odor_p + Odor_l + Odor_n + Odor_f + Odor_c + Odor_y + Odor_s + Odor_m + Cap_Color_n + Cap_Color_y + Cap_Color_w + Cap_Color_g + Cap_Color_e + Cap_Color_p + Cap_Color_b + Cap_Color_u + Cap_Color_c + Cap_Color_r + Gill_Color_k + Gill_Color_n + Gill_Color_g + Gill_Color_p + Gill_Color_w + Gill_Color_h + Gill_Color_u + Gill_Color_e + Gill_Color_b + Gill_Color_r + Gill_Color_y + Gill_Color_o + Habitat_u + Habitat_g + Habitat_m+Habitat_d+Habitat_p+Habitat_w+Habitat_l', data = dummy).fit()\n",
    "\n",
    "print(results.summary())\n",
    "\n"
   ]
  },
  {
   "cell_type": "markdown",
   "metadata": {},
   "source": [
    "#### The R-squared value is 0.957, which is a very high R-squared, which means this model can be used to predict if the mushroom is edible or poisonous. "
   ]
  },
  {
   "cell_type": "markdown",
   "metadata": {},
   "source": [
    "# Conclusion: "
   ]
  },
  {
   "cell_type": "markdown",
   "metadata": {},
   "source": [
    "The goal of this project is to find the attributes from the odor, cap color, gill color, and habitat that could predict whether a mushroom is edible or poisonous. After comparing each distribution of each attribute and analyzed the model based on each attribute, the odor can create a logistic regression model with an accuracy of 98.6%. The best model we found based on the attributes we had been worked on, was an odor, cap color, gill color, and habitat combined. The accuracy of this model is 99.26%. Therefore, if people want to make a scientific prediction of mushrooms, they could use this model to determine the mushrooms are edible or not based on the odor, cap color, gill color, and habitat. \n",
    "\n",
    "* Individually odor most accurately predicted if they were edible or not, following from gill color, habitat and cap color.\n",
    "\n",
    "* Because cap color is the worst performer it can be substituted in further analysis with an attribute with a better performance.\n",
    "\n",
    "Additional information can be drawn from the individual characteristics described on the attributes.\n",
    "\n",
    "* Habitat: Mushrooms that grown in an urban (u) environment or amongst leaves (l) and paths (p) show a relationship to being poisonous.\n",
    "* Gill Color: Mushrooms with gray (g), chocolate (h), buff (b), or green (r) gill color are more likely to be poisonous.\n",
    "* Cap Color: Mushrooms that have yellow (y), red (e), pink (p), or buff (b) cap color show a relationship to being poisonous.\n",
    "* Odor: All mushrooms with no odor in this model were a characteristic of edible mushrooms and all mushrooms with foul (f), pungent (p) and fishy (y) or musty (m) odor were an indicator of a poisonous mushroom.\n",
    "\n",
    "For further analysis, more than one predictor should be taken into consideration to increase the score. Model 2.5 with all the attributes chosen for this analysis was the best performer.\n"
   ]
  },
  {
   "cell_type": "code",
   "execution_count": null,
   "metadata": {},
   "outputs": [],
   "source": []
  }
 ],
 "metadata": {
  "kernelspec": {
   "display_name": "Python 3",
   "language": "python",
   "name": "python3"
  },
  "language_info": {
   "codemirror_mode": {
    "name": "ipython",
    "version": 3
   },
   "file_extension": ".py",
   "mimetype": "text/x-python",
   "name": "python",
   "nbconvert_exporter": "python",
   "pygments_lexer": "ipython3",
   "version": "3.8.3"
  }
 },
 "nbformat": 4,
 "nbformat_minor": 4
}
