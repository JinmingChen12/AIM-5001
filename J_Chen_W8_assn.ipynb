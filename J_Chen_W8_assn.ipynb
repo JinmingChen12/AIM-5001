{
 "cells": [
  {
   "cell_type": "markdown",
   "metadata": {},
   "source": [
    "# AIM 5001 Week 8 Assignment : Regular Expressions"
   ]
  },
  {
   "cell_type": "code",
   "execution_count": 20,
   "metadata": {},
   "outputs": [],
   "source": [
    "# load the re module\n",
    "import re\n"
   ]
  },
  {
   "cell_type": "code",
   "execution_count": 21,
   "metadata": {},
   "outputs": [
    {
     "data": {
      "text/plain": [
       "'555-1239Moe Szyslak(636) 555-0113Burns, C. Montgomery555 -6542Rev. Timothy Lovejoy555 89 04Ned Flanders636-555-3226Simpson, Homer5553642Dr. Julius Hibbert'"
      ]
     },
     "execution_count": 21,
     "metadata": {},
     "output_type": "execute_result"
    }
   ],
   "source": [
    "# named below text data \"a\"\n",
    "\n",
    "a= \"555-1239Moe Szyslak(636) 555-0113Burns, C. Montgomery555 -6542Rev. Timothy Lovejoy555 89 04Ned Flanders636-555-3226Simpson, Homer5553642Dr. Julius Hibbert\" \n",
    "a"
   ]
  },
  {
   "cell_type": "markdown",
   "metadata": {},
   "source": [
    "### 1. (6 Points) Extract the names of each individual from the unformatted text string and store them in a vector of some sort. When complete, your vector should contain the following entries:"
   ]
  },
  {
   "cell_type": "code",
   "execution_count": 22,
   "metadata": {
    "scrolled": true
   },
   "outputs": [
    {
     "name": "stdout",
     "output_type": "stream",
     "text": [
      "['Moe Szyslak', 'Burns, C. Montgomery', 'Rev. Timothy Lovejoy', 'Ned Flanders', 'Simpson, Homer', 'Dr. Julius Hibbert']\n"
     ]
    }
   ],
   "source": [
    "# Using findall to return all matches of pattern in string\n",
    "# the pattern: letter from A to Z , then comma, then dot, then space, then letter from A to Z, then comma, then dot, then space, and then letter from A to Z\n",
    "# Using '*' to causes the resulting RE to match 0 or more repetitions of the preceding RE\n",
    "# print the result\n",
    "\n",
    "new_name = re.findall(r'[A-Za-z]+,*\\.*\\s*[A-Za-z]+,*\\.*\\s*[A-Za-z]*', a)\n",
    "print (new_name) "
   ]
  },
  {
   "cell_type": "markdown",
   "metadata": {},
   "source": [
    "Reference: https://docs.python.org/3/library/re.html"
   ]
  },
  {
   "cell_type": "markdown",
   "metadata": {},
   "source": [
    "### 2. Using your new vector containing only the names of the six individuals, complete the following tasks:"
   ]
  },
  {
   "cell_type": "markdown",
   "metadata": {},
   "source": [
    "#### a. (4 Points) Use your regex skills to rearrange the vector so that all elements conform to the standard “firstname lastname”, preserving any titles (e.g., “Rev.”, “Dr.”, etc) or middle/second names.\n"
   ]
  },
  {
   "cell_type": "code",
   "execution_count": 23,
   "metadata": {
    "scrolled": true
   },
   "outputs": [
    {
     "name": "stdout",
     "output_type": "stream",
     "text": [
      "Moe Szyslak\n",
      "Montgomery C. Burns\n",
      "Rev. Timothy Lovejoy\n",
      "Ned Flanders\n",
      "Homer Simpson\n",
      "Dr. Julius Hibbert\n"
     ]
    }
   ],
   "source": [
    "# The data \n",
    "new_name = re.findall(r'[A-Za-z]+,*\\.*\\s*[A-Za-z]+,*\\.*\\s*[A-Za-z]*', a)\n",
    "\n",
    "# Create a loop\n",
    "for i in range(len(new_name)):\n",
    "    \n",
    "# If the element has \",\" then it will go through loop \n",
    "    if ',' in new_name[i]:\n",
    "        \n",
    "# Delete the  \", \" by re.sub,  and based on the space, divides to each elements to slices by re.splict\n",
    "        new_name[i] = re.split(r' ', re.sub(r',', '', new_name[i]))\n",
    "        \n",
    "# Change the position of last name and first name that the orginal data has \",\"  \n",
    "        new_name[i][0], new_name[i][-1] = new_name[i][-1], new_name[i][0]\n",
    "\n",
    "# Using \"join\" to convert list to string, and  print the result\n",
    "        print (' '.join(new_name[i]))\n",
    "        \n",
    "# Also, print the rest of elements that do not have \",\" \n",
    "    else: print (new_name[i])"
   ]
  },
  {
   "cell_type": "markdown",
   "metadata": {},
   "source": [
    "Reference: https://docs.python.org/2/library/re.html"
   ]
  },
  {
   "cell_type": "markdown",
   "metadata": {},
   "source": [
    "#### b. (4 Points) Construct a logical vector indicating whether a character has a title (i.e., Rev. and Dr.)"
   ]
  },
  {
   "cell_type": "code",
   "execution_count": 24,
   "metadata": {
    "scrolled": true
   },
   "outputs": [
    {
     "name": "stdout",
     "output_type": "stream",
     "text": [
      "Moe Szyslak : False\n",
      "Burns, C. Montgomery : False\n",
      "Rev. Timothy Lovejoy : True\n",
      "Ned Flanders : False\n",
      "Simpson, Homer : False\n",
      "Dr. Julius Hibbert : True\n"
     ]
    }
   ],
   "source": [
    "# The data\n",
    "new_name = re.findall(r'[A-Za-z]+,*\\.*\\s*[A-Za-z]+,*\\.*\\s*[A-Za-z]*', a)\n",
    "\n",
    "# Check each name has title or not \n",
    "for i in new_name: print (i, ':', ('Dr'in i) or ('Rev'in i))"
   ]
  },
  {
   "cell_type": "markdown",
   "metadata": {},
   "source": [
    "#### c. (4 Points) Construct a logical vector indicating whether a character has a middle/second name."
   ]
  },
  {
   "cell_type": "code",
   "execution_count": 31,
   "metadata": {},
   "outputs": [
    {
     "name": "stdout",
     "output_type": "stream",
     "text": [
      "Moe Szyslak : false\n",
      "Burns, C. Montgomery : true\n",
      "Rev. Timothy Lovejoy : false\n",
      "Ned Flanders : false\n",
      "Simpson, Homer : false\n",
      "Dr. Julius Hibbert : false\n"
     ]
    }
   ],
   "source": [
    "# The data\n",
    "new_name = re.findall(r'[A-Za-z]+,*\\.*\\s*[A-Za-z]+,*\\.*\\s*[A-Za-z]*', a)\n",
    "\n",
    "# Create a loop\n",
    "for i in range(len(new_name)):\n",
    "\n",
    "# If the element that does not have 'Dr' or 'Rev', then it will go through loop \n",
    "    if ('Dr' not in new_name[i]) and ('Rev' not in new_name[i]):\n",
    "        \n",
    "# Divides to each elements to slices by re.splict      \n",
    "        new_name[i] = re.split(' ', new_name[i])\n",
    "\n",
    "for i in new_name:\n",
    "\n",
    "# If the slice length is 3, then print 'True', which mean has a middle/second name \n",
    "# Using \"join\" to convert list to string\n",
    "    if len(i) == 3: print(' '.join(i), ':', 'true')\n",
    "        \n",
    "# If the elements has the title, then print them 'flase' directly without the space betwen each letter\n",
    "# Makes the result more organized and prettier\n",
    "    elif ('Dr' in i) or ('Rev' in i): print (i, ':', 'false')\n",
    "\n",
    "# Also, print the rest of elements that does not have a middle/second name  \n",
    "    else: print (' '.join(i),':', 'false')"
   ]
  },
  {
   "cell_type": "markdown",
   "metadata": {},
   "source": [
    "Reference: https://docs.python.org/3/library/re.html"
   ]
  },
  {
   "cell_type": "markdown",
   "metadata": {},
   "source": [
    "### 3. (6 Points) Consider the HTML string  We would like to extract the first HTML tag. To do so we write the regular expression “<.+>”. Explain why this fails and correct the expression.\n"
   ]
  },
  {
   "cell_type": "code",
   "execution_count": 26,
   "metadata": {},
   "outputs": [
    {
     "data": {
      "text/plain": [
       "['<title>+++BREAKING NEWS+++<title>']"
      ]
     },
     "execution_count": 26,
     "metadata": {},
     "output_type": "execute_result"
    }
   ],
   "source": [
    "\n",
    "# Using regular expression\n",
    "# Print the result\n",
    "\n",
    "title = '<title>+++BREAKING NEWS+++<title>'\n",
    "re1 = (re.findall(r'<.+>',title))\n",
    "re1\n"
   ]
  },
  {
   "cell_type": "markdown",
   "metadata": {},
   "source": [
    "'<.+>' can select any string that starts with '<' and ends with '>', and  \"+\" to causes the resulting re to match 1 or more repetitions of the preceding regression, \".\" matches any character except newline; therefore, r'<.+>' can select any string that  starts with '<' and ends with '>', which prints out above result. \n"
   ]
  },
  {
   "cell_type": "code",
   "execution_count": 27,
   "metadata": {},
   "outputs": [
    {
     "data": {
      "text/plain": [
       "['<title>', '<title>']"
      ]
     },
     "execution_count": 27,
     "metadata": {},
     "output_type": "execute_result"
    }
   ],
   "source": [
    "\n",
    "# Using regular expression '<\\w+>' to get all the elements that have 1 or more repetitions and starts with '<' and ends with '>'\n",
    "# Using \"+\" to causes the resulting RE to match 1 or more repetitions of the preceding RE\n",
    "# Print the result\n",
    "\n",
    "\n",
    "title_new = '<title>+++BREAKING NEWS+++<title>'\n",
    "re2 = (re.findall(r'<\\w+>',title_new))\n",
    "re2"
   ]
  },
  {
   "cell_type": "code",
   "execution_count": 28,
   "metadata": {},
   "outputs": [
    {
     "data": {
      "text/plain": [
       "'<title>'"
      ]
     },
     "execution_count": 28,
     "metadata": {},
     "output_type": "execute_result"
    }
   ],
   "source": [
    "# Using regular expression '<\\w+>' to get all the letter\n",
    "# Using \"+\" to causes the resulting RE to match 1 or more repetitions of the preceding RE\n",
    "# Using '[0]' to get the first <title>\n",
    "# Print the result\n",
    "\n",
    "\n",
    "title_2 = '<title>+++BREAKING NEWS+++<title>'\n",
    "re3 = (re.findall(r'<\\w+>',title_2)[0])\n",
    "re3"
   ]
  },
  {
   "cell_type": "markdown",
   "metadata": {},
   "source": [
    "### 4. (6 Points) Consider the string “(5-3)^2=5^2-2*5*3+3^2” conforms to the binomial theorem. We would like to extract the formula in the string. To do so we write the regular expression “[^0-9=+*()]+”. Explain why this fails and correct the expression."
   ]
  },
  {
   "cell_type": "code",
   "execution_count": 29,
   "metadata": {},
   "outputs": [
    {
     "data": {
      "text/plain": [
       "['-', '^', '^', '-', '^']"
      ]
     },
     "execution_count": 29,
     "metadata": {},
     "output_type": "execute_result"
    }
   ],
   "source": [
    "# The string\n",
    "# Using regular expression\n",
    "# Print the result\n",
    "\n",
    "binomial = '(5-3)^2=5^2-2*5*3+3^2'\n",
    "formula  = re.findall(r'[^0-9=+*()]+',new_binomial)\n",
    "formula"
   ]
  },
  {
   "cell_type": "markdown",
   "metadata": {},
   "source": [
    "There are two reasons that fails:  \n",
    "\n",
    "1. There is no '-' sign in “[^0-9=+*()]+”, we need to add '-' to make the binomial works. \n",
    "2. “[^0-9=+*()]+” strats with '^', but '(5-3)^2=5^2-2*5*3+3^2' all the characters that are not matched. Therefore, no digit shows in the result. \n",
    "\n"
   ]
  },
  {
   "cell_type": "code",
   "execution_count": 30,
   "metadata": {},
   "outputs": [
    {
     "data": {
      "text/plain": [
       "['(5-3)^2=5^2-2*5*3+3^2']"
      ]
     },
     "execution_count": 30,
     "metadata": {},
     "output_type": "execute_result"
    }
   ],
   "source": [
    "# The string\n",
    "# Using regular expression\n",
    "# r'[0-9^()*+-=]+' get the elements that in the bracket\n",
    "# Print the result\n",
    "\n",
    "new_binomial = '(5-3)^2=5^2-2*5*3+3^2'\n",
    "new_formula  = re.findall(r'[0-9^()*+-=]+',new_binomial)\n",
    "new_formula"
   ]
  }
 ],
 "metadata": {
  "kernelspec": {
   "display_name": "Python 3",
   "language": "python",
   "name": "python3"
  },
  "language_info": {
   "codemirror_mode": {
    "name": "ipython",
    "version": 3
   },
   "file_extension": ".py",
   "mimetype": "text/x-python",
   "name": "python",
   "nbconvert_exporter": "python",
   "pygments_lexer": "ipython3",
   "version": "3.8.3"
  }
 },
 "nbformat": 4,
 "nbformat_minor": 4
}
