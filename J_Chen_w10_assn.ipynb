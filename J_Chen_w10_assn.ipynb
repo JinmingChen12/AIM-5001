{
 "cells": [
  {
   "cell_type": "markdown",
   "metadata": {},
   "source": [
    "# AIM 5001 Week 10 Assignment: Tidying and Transforming Data"
   ]
  },
  {
   "cell_type": "code",
   "execution_count": 163,
   "metadata": {},
   "outputs": [],
   "source": [
    "\n",
    "# import pandas library\n",
    "import pandas as pd\n",
    "# import numpy\n",
    "import numpy as np\n",
    "# import matplotlib.pyplot\n",
    "import matplotlib.pyplot as plt\n",
    "# import seaborn\n",
    "import seaborn as sns"
   ]
  },
  {
   "cell_type": "markdown",
   "metadata": {},
   "source": [
    "## Q1: \n",
    "(1) (4 Points) Create a .CSV file that includes all of the information shown above. You are required to use a\n",
    "“wide” structure similar to how the information appears above, so that you can practice both data tidying and\n",
    "the data wrangling transformations described in Chapter 8 of the “Python for Data Analysis” textbook. Be sure\n",
    "to include any blank cells or rows shown in the above graphic. Load your .CSV file into you GitHub repository.\n"
   ]
  },
  {
   "cell_type": "code",
   "execution_count": 183,
   "metadata": {},
   "outputs": [
    {
     "data": {
      "text/html": [
       "<div>\n",
       "<style scoped>\n",
       "    .dataframe tbody tr th:only-of-type {\n",
       "        vertical-align: middle;\n",
       "    }\n",
       "\n",
       "    .dataframe tbody tr th {\n",
       "        vertical-align: top;\n",
       "    }\n",
       "\n",
       "    .dataframe thead th {\n",
       "        text-align: right;\n",
       "    }\n",
       "</style>\n",
       "<table border=\"1\" class=\"dataframe\">\n",
       "  <thead>\n",
       "    <tr style=\"text-align: right;\">\n",
       "      <th></th>\n",
       "      <th></th>\n",
       "      <th>Los Angeles</th>\n",
       "      <th>Phoenix</th>\n",
       "      <th>San Diego</th>\n",
       "      <th>San Francisco</th>\n",
       "      <th>Seattle</th>\n",
       "    </tr>\n",
       "  </thead>\n",
       "  <tbody>\n",
       "    <tr>\n",
       "      <th rowspan=\"2\" valign=\"top\">ALASKA</th>\n",
       "      <th>on time</th>\n",
       "      <td>497.0</td>\n",
       "      <td>221.0</td>\n",
       "      <td>212.0</td>\n",
       "      <td>503.0</td>\n",
       "      <td>1841.0</td>\n",
       "    </tr>\n",
       "    <tr>\n",
       "      <th>delayed</th>\n",
       "      <td>62.0</td>\n",
       "      <td>12.0</td>\n",
       "      <td>20.0</td>\n",
       "      <td>102.0</td>\n",
       "      <td>305.0</td>\n",
       "    </tr>\n",
       "    <tr>\n",
       "      <th></th>\n",
       "      <th></th>\n",
       "      <td>NaN</td>\n",
       "      <td>NaN</td>\n",
       "      <td>NaN</td>\n",
       "      <td>NaN</td>\n",
       "      <td>NaN</td>\n",
       "    </tr>\n",
       "    <tr>\n",
       "      <th rowspan=\"2\" valign=\"top\">AM WEST</th>\n",
       "      <th>on time</th>\n",
       "      <td>694.0</td>\n",
       "      <td>4840.0</td>\n",
       "      <td>383.0</td>\n",
       "      <td>320.0</td>\n",
       "      <td>201.0</td>\n",
       "    </tr>\n",
       "    <tr>\n",
       "      <th>delayed</th>\n",
       "      <td>117.0</td>\n",
       "      <td>415.0</td>\n",
       "      <td>65.0</td>\n",
       "      <td>129.0</td>\n",
       "      <td>61.0</td>\n",
       "    </tr>\n",
       "  </tbody>\n",
       "</table>\n",
       "</div>"
      ],
      "text/plain": [
       "                 Los Angeles  Phoenix  San Diego  San Francisco  Seattle\n",
       "ALASKA  on time        497.0    221.0      212.0          503.0   1841.0\n",
       "        delayed         62.0     12.0       20.0          102.0    305.0\n",
       "                         NaN      NaN        NaN            NaN      NaN\n",
       "AM WEST on time        694.0   4840.0      383.0          320.0    201.0\n",
       "        delayed        117.0    415.0       65.0          129.0     61.0"
      ]
     },
     "execution_count": 183,
     "metadata": {},
     "output_type": "execute_result"
    }
   ],
   "source": [
    "# By using \"np.nan\" to include any blank cells or rows\n",
    "# Reference is about \"np.nan\"\n",
    "# Creating the data in pandas\n",
    "\n",
    "file = pd.DataFrame([[497.0,221.0,212.0,503.0,1841.0], [62.0,12.0,20.0,102.0,305.0], [np.nan,np.nan,np.nan,np.nan,np.nan],[694.0,4840.0,383.0,320.0,201.0],[117.0,415.0,65.0,129.0,61.0]],\n",
    "                    \n",
    "                    index = [['ALASKA', 'ALASKA', '' , 'AM WEST', 'AM WEST'], ['on time', 'delayed', '' , 'on time', 'delayed']],\n",
    "                   \n",
    "                    columns=['Los Angeles','Phoenix','San Diego','San Francisco','Seattle'])\n",
    "\n",
    "\n",
    "file"
   ]
  },
  {
   "cell_type": "code",
   "execution_count": 165,
   "metadata": {},
   "outputs": [],
   "source": [
    "file.to_csv('./J_Chen_W10_data.csv')"
   ]
  },
  {
   "cell_type": "markdown",
   "metadata": {},
   "source": [
    "#### The .CSV file I loaded to my GitHub repository: https://github.com/JinmingChen12/AIM-5001/blob/master/J_Chen_W10_data.csv"
   ]
  },
  {
   "cell_type": "markdown",
   "metadata": {},
   "source": [
    "    "
   ]
  },
  {
   "cell_type": "markdown",
   "metadata": {},
   "source": [
    "Reference: https://stackoverflow.com/questions/29314033/drop-rows-containing-empty-cells-from-a-pandas-dataframe"
   ]
  },
  {
   "cell_type": "markdown",
   "metadata": {},
   "source": [
    "    "
   ]
  },
  {
   "cell_type": "markdown",
   "metadata": {},
   "source": [
    "\n",
    "## Q2: \n",
    "(2) (12 Points) Read your .CSV file from your GitHub repository into a Jupyter Notebook, and use your\n",
    "knowledge of combining and reshaping data in Pandas to tidy and transform your data. To get started, think\n",
    "about how you would want the data to appear if it were converted to “long” format, \n",
    "\n",
    "e.g., how would you define a “single observation” for the data shown in the graphic?;<br>\n",
    "How many key values are associated with each data value?;<br>\n",
    "How many columns should your long format structure contain based on the information provided in the graphic shown above?<br>\n",
    "What would the column headings for the long structure be?; etc. <br>\n",
    "\n",
    "Use your answers to these questions to guide your reshaping/transformational work on the data. Your\n",
    "reshaping/transformational steps must include converting the above table to a “tidy” long format.\n",
    "Additional transformational steps (e.g., filling in missing data values, renaming columns, etc.) should be\n",
    "performed as needed to ensure that your data is, in fact, “tidy”. \n",
    "\n",
    "### Read the .CSV file"
   ]
  },
  {
   "cell_type": "code",
   "execution_count": 188,
   "metadata": {},
   "outputs": [
    {
     "data": {
      "text/html": [
       "<div>\n",
       "<style scoped>\n",
       "    .dataframe tbody tr th:only-of-type {\n",
       "        vertical-align: middle;\n",
       "    }\n",
       "\n",
       "    .dataframe tbody tr th {\n",
       "        vertical-align: top;\n",
       "    }\n",
       "\n",
       "    .dataframe thead th {\n",
       "        text-align: right;\n",
       "    }\n",
       "</style>\n",
       "<table border=\"1\" class=\"dataframe\">\n",
       "  <thead>\n",
       "    <tr style=\"text-align: right;\">\n",
       "      <th></th>\n",
       "      <th>Unnamed: 0</th>\n",
       "      <th>Unnamed: 1</th>\n",
       "      <th>Los Angeles</th>\n",
       "      <th>Phoenix</th>\n",
       "      <th>San Diego</th>\n",
       "      <th>San Francisco</th>\n",
       "      <th>Seattle</th>\n",
       "    </tr>\n",
       "  </thead>\n",
       "  <tbody>\n",
       "    <tr>\n",
       "      <th>0</th>\n",
       "      <td>ALASKA</td>\n",
       "      <td>on time</td>\n",
       "      <td>497.0</td>\n",
       "      <td>221.0</td>\n",
       "      <td>212.0</td>\n",
       "      <td>503.0</td>\n",
       "      <td>1841.0</td>\n",
       "    </tr>\n",
       "    <tr>\n",
       "      <th>1</th>\n",
       "      <td>ALASKA</td>\n",
       "      <td>delayed</td>\n",
       "      <td>62.0</td>\n",
       "      <td>12.0</td>\n",
       "      <td>20.0</td>\n",
       "      <td>102.0</td>\n",
       "      <td>305.0</td>\n",
       "    </tr>\n",
       "    <tr>\n",
       "      <th>2</th>\n",
       "      <td>NaN</td>\n",
       "      <td>NaN</td>\n",
       "      <td>NaN</td>\n",
       "      <td>NaN</td>\n",
       "      <td>NaN</td>\n",
       "      <td>NaN</td>\n",
       "      <td>NaN</td>\n",
       "    </tr>\n",
       "    <tr>\n",
       "      <th>3</th>\n",
       "      <td>AM WEST</td>\n",
       "      <td>on time</td>\n",
       "      <td>694.0</td>\n",
       "      <td>4840.0</td>\n",
       "      <td>383.0</td>\n",
       "      <td>320.0</td>\n",
       "      <td>201.0</td>\n",
       "    </tr>\n",
       "    <tr>\n",
       "      <th>4</th>\n",
       "      <td>AM WEST</td>\n",
       "      <td>delayed</td>\n",
       "      <td>117.0</td>\n",
       "      <td>415.0</td>\n",
       "      <td>65.0</td>\n",
       "      <td>129.0</td>\n",
       "      <td>61.0</td>\n",
       "    </tr>\n",
       "  </tbody>\n",
       "</table>\n",
       "</div>"
      ],
      "text/plain": [
       "  Unnamed: 0 Unnamed: 1  Los Angeles  Phoenix  San Diego  San Francisco  \\\n",
       "0     ALASKA    on time        497.0    221.0      212.0          503.0   \n",
       "1     ALASKA    delayed         62.0     12.0       20.0          102.0   \n",
       "2        NaN        NaN          NaN      NaN        NaN            NaN   \n",
       "3    AM WEST    on time        694.0   4840.0      383.0          320.0   \n",
       "4    AM WEST    delayed        117.0    415.0       65.0          129.0   \n",
       "\n",
       "   Seattle  \n",
       "0   1841.0  \n",
       "1    305.0  \n",
       "2      NaN  \n",
       "3    201.0  \n",
       "4     61.0  "
      ]
     },
     "execution_count": 188,
     "metadata": {},
     "output_type": "execute_result"
    }
   ],
   "source": [
    "df= \"https://raw.githubusercontent.com/JinmingChen12/AIM-5001/master/J_Chen_W10_data.csv\"\n",
    "df1 = pd.read_csv(df)\n",
    "df1"
   ]
  },
  {
   "cell_type": "markdown",
   "metadata": {},
   "source": [
    "### Data Cleaning: \n",
    "\n",
    "#### 1. Removing the blank cells or rows"
   ]
  },
  {
   "cell_type": "code",
   "execution_count": 189,
   "metadata": {},
   "outputs": [
    {
     "data": {
      "text/html": [
       "<div>\n",
       "<style scoped>\n",
       "    .dataframe tbody tr th:only-of-type {\n",
       "        vertical-align: middle;\n",
       "    }\n",
       "\n",
       "    .dataframe tbody tr th {\n",
       "        vertical-align: top;\n",
       "    }\n",
       "\n",
       "    .dataframe thead th {\n",
       "        text-align: right;\n",
       "    }\n",
       "</style>\n",
       "<table border=\"1\" class=\"dataframe\">\n",
       "  <thead>\n",
       "    <tr style=\"text-align: right;\">\n",
       "      <th></th>\n",
       "      <th>Unnamed: 0</th>\n",
       "      <th>Unnamed: 1</th>\n",
       "      <th>Los Angeles</th>\n",
       "      <th>Phoenix</th>\n",
       "      <th>San Diego</th>\n",
       "      <th>San Francisco</th>\n",
       "      <th>Seattle</th>\n",
       "    </tr>\n",
       "  </thead>\n",
       "  <tbody>\n",
       "    <tr>\n",
       "      <th>0</th>\n",
       "      <td>ALASKA</td>\n",
       "      <td>on time</td>\n",
       "      <td>497.0</td>\n",
       "      <td>221.0</td>\n",
       "      <td>212.0</td>\n",
       "      <td>503.0</td>\n",
       "      <td>1841.0</td>\n",
       "    </tr>\n",
       "    <tr>\n",
       "      <th>1</th>\n",
       "      <td>ALASKA</td>\n",
       "      <td>delayed</td>\n",
       "      <td>62.0</td>\n",
       "      <td>12.0</td>\n",
       "      <td>20.0</td>\n",
       "      <td>102.0</td>\n",
       "      <td>305.0</td>\n",
       "    </tr>\n",
       "    <tr>\n",
       "      <th>3</th>\n",
       "      <td>AM WEST</td>\n",
       "      <td>on time</td>\n",
       "      <td>694.0</td>\n",
       "      <td>4840.0</td>\n",
       "      <td>383.0</td>\n",
       "      <td>320.0</td>\n",
       "      <td>201.0</td>\n",
       "    </tr>\n",
       "    <tr>\n",
       "      <th>4</th>\n",
       "      <td>AM WEST</td>\n",
       "      <td>delayed</td>\n",
       "      <td>117.0</td>\n",
       "      <td>415.0</td>\n",
       "      <td>65.0</td>\n",
       "      <td>129.0</td>\n",
       "      <td>61.0</td>\n",
       "    </tr>\n",
       "  </tbody>\n",
       "</table>\n",
       "</div>"
      ],
      "text/plain": [
       "  Unnamed: 0 Unnamed: 1  Los Angeles  Phoenix  San Diego  San Francisco  \\\n",
       "0     ALASKA    on time        497.0    221.0      212.0          503.0   \n",
       "1     ALASKA    delayed         62.0     12.0       20.0          102.0   \n",
       "3    AM WEST    on time        694.0   4840.0      383.0          320.0   \n",
       "4    AM WEST    delayed        117.0    415.0       65.0          129.0   \n",
       "\n",
       "   Seattle  \n",
       "0   1841.0  \n",
       "1    305.0  \n",
       "3    201.0  \n",
       "4     61.0  "
      ]
     },
     "execution_count": 189,
     "metadata": {},
     "output_type": "execute_result"
    }
   ],
   "source": [
    "df1 = df1.dropna()\n",
    "df1"
   ]
  },
  {
   "cell_type": "markdown",
   "metadata": {},
   "source": [
    "#### 2. Renaming columns"
   ]
  },
  {
   "cell_type": "code",
   "execution_count": 190,
   "metadata": {},
   "outputs": [
    {
     "data": {
      "text/html": [
       "<div>\n",
       "<style scoped>\n",
       "    .dataframe tbody tr th:only-of-type {\n",
       "        vertical-align: middle;\n",
       "    }\n",
       "\n",
       "    .dataframe tbody tr th {\n",
       "        vertical-align: top;\n",
       "    }\n",
       "\n",
       "    .dataframe thead th {\n",
       "        text-align: right;\n",
       "    }\n",
       "</style>\n",
       "<table border=\"1\" class=\"dataframe\">\n",
       "  <thead>\n",
       "    <tr style=\"text-align: right;\">\n",
       "      <th></th>\n",
       "      <th>Airline</th>\n",
       "      <th>Performance</th>\n",
       "      <th>Los Angeles</th>\n",
       "      <th>Phoenix</th>\n",
       "      <th>San Diego</th>\n",
       "      <th>San Francisco</th>\n",
       "      <th>Seattle</th>\n",
       "    </tr>\n",
       "  </thead>\n",
       "  <tbody>\n",
       "    <tr>\n",
       "      <th>0</th>\n",
       "      <td>ALASKA</td>\n",
       "      <td>on time</td>\n",
       "      <td>497.0</td>\n",
       "      <td>221.0</td>\n",
       "      <td>212.0</td>\n",
       "      <td>503.0</td>\n",
       "      <td>1841.0</td>\n",
       "    </tr>\n",
       "    <tr>\n",
       "      <th>1</th>\n",
       "      <td>ALASKA</td>\n",
       "      <td>delayed</td>\n",
       "      <td>62.0</td>\n",
       "      <td>12.0</td>\n",
       "      <td>20.0</td>\n",
       "      <td>102.0</td>\n",
       "      <td>305.0</td>\n",
       "    </tr>\n",
       "    <tr>\n",
       "      <th>3</th>\n",
       "      <td>AM WEST</td>\n",
       "      <td>on time</td>\n",
       "      <td>694.0</td>\n",
       "      <td>4840.0</td>\n",
       "      <td>383.0</td>\n",
       "      <td>320.0</td>\n",
       "      <td>201.0</td>\n",
       "    </tr>\n",
       "    <tr>\n",
       "      <th>4</th>\n",
       "      <td>AM WEST</td>\n",
       "      <td>delayed</td>\n",
       "      <td>117.0</td>\n",
       "      <td>415.0</td>\n",
       "      <td>65.0</td>\n",
       "      <td>129.0</td>\n",
       "      <td>61.0</td>\n",
       "    </tr>\n",
       "  </tbody>\n",
       "</table>\n",
       "</div>"
      ],
      "text/plain": [
       "   Airline Performance  Los Angeles  Phoenix  San Diego  San Francisco  \\\n",
       "0   ALASKA     on time        497.0    221.0      212.0          503.0   \n",
       "1   ALASKA     delayed         62.0     12.0       20.0          102.0   \n",
       "3  AM WEST     on time        694.0   4840.0      383.0          320.0   \n",
       "4  AM WEST     delayed        117.0    415.0       65.0          129.0   \n",
       "\n",
       "   Seattle  \n",
       "0   1841.0  \n",
       "1    305.0  \n",
       "3    201.0  \n",
       "4     61.0  "
      ]
     },
     "execution_count": 190,
     "metadata": {},
     "output_type": "execute_result"
    }
   ],
   "source": [
    "df1 = df1.rename(columns={'Unnamed: 0':'Airline', 'Unnamed: 1':'Performance'})\n",
    "df1"
   ]
  },
  {
   "cell_type": "markdown",
   "metadata": {},
   "source": [
    "#### 3.Adding multiple index for  'Airline' and\t'Performance'"
   ]
  },
  {
   "cell_type": "code",
   "execution_count": 191,
   "metadata": {},
   "outputs": [
    {
     "data": {
      "text/html": [
       "<div>\n",
       "<style scoped>\n",
       "    .dataframe tbody tr th:only-of-type {\n",
       "        vertical-align: middle;\n",
       "    }\n",
       "\n",
       "    .dataframe tbody tr th {\n",
       "        vertical-align: top;\n",
       "    }\n",
       "\n",
       "    .dataframe thead th {\n",
       "        text-align: right;\n",
       "    }\n",
       "</style>\n",
       "<table border=\"1\" class=\"dataframe\">\n",
       "  <thead>\n",
       "    <tr style=\"text-align: right;\">\n",
       "      <th></th>\n",
       "      <th></th>\n",
       "      <th>Los Angeles</th>\n",
       "      <th>Phoenix</th>\n",
       "      <th>San Diego</th>\n",
       "      <th>San Francisco</th>\n",
       "      <th>Seattle</th>\n",
       "    </tr>\n",
       "    <tr>\n",
       "      <th>Airline</th>\n",
       "      <th>Performance</th>\n",
       "      <th></th>\n",
       "      <th></th>\n",
       "      <th></th>\n",
       "      <th></th>\n",
       "      <th></th>\n",
       "    </tr>\n",
       "  </thead>\n",
       "  <tbody>\n",
       "    <tr>\n",
       "      <th rowspan=\"2\" valign=\"top\">ALASKA</th>\n",
       "      <th>on time</th>\n",
       "      <td>497.0</td>\n",
       "      <td>221.0</td>\n",
       "      <td>212.0</td>\n",
       "      <td>503.0</td>\n",
       "      <td>1841.0</td>\n",
       "    </tr>\n",
       "    <tr>\n",
       "      <th>delayed</th>\n",
       "      <td>62.0</td>\n",
       "      <td>12.0</td>\n",
       "      <td>20.0</td>\n",
       "      <td>102.0</td>\n",
       "      <td>305.0</td>\n",
       "    </tr>\n",
       "    <tr>\n",
       "      <th rowspan=\"2\" valign=\"top\">AM WEST</th>\n",
       "      <th>on time</th>\n",
       "      <td>694.0</td>\n",
       "      <td>4840.0</td>\n",
       "      <td>383.0</td>\n",
       "      <td>320.0</td>\n",
       "      <td>201.0</td>\n",
       "    </tr>\n",
       "    <tr>\n",
       "      <th>delayed</th>\n",
       "      <td>117.0</td>\n",
       "      <td>415.0</td>\n",
       "      <td>65.0</td>\n",
       "      <td>129.0</td>\n",
       "      <td>61.0</td>\n",
       "    </tr>\n",
       "  </tbody>\n",
       "</table>\n",
       "</div>"
      ],
      "text/plain": [
       "                     Los Angeles  Phoenix  San Diego  San Francisco  Seattle\n",
       "Airline Performance                                                         \n",
       "ALASKA  on time            497.0    221.0      212.0          503.0   1841.0\n",
       "        delayed             62.0     12.0       20.0          102.0    305.0\n",
       "AM WEST on time            694.0   4840.0      383.0          320.0    201.0\n",
       "        delayed            117.0    415.0       65.0          129.0     61.0"
      ]
     },
     "execution_count": 191,
     "metadata": {},
     "output_type": "execute_result"
    }
   ],
   "source": [
    "df2 = df1.set_index(['Airline', 'Performance'])\n",
    "df2"
   ]
  },
  {
   "cell_type": "markdown",
   "metadata": {},
   "source": [
    "#### 4.  Converting the table to long format"
   ]
  },
  {
   "cell_type": "code",
   "execution_count": 192,
   "metadata": {},
   "outputs": [
    {
     "data": {
      "text/html": [
       "<div>\n",
       "<style scoped>\n",
       "    .dataframe tbody tr th:only-of-type {\n",
       "        vertical-align: middle;\n",
       "    }\n",
       "\n",
       "    .dataframe tbody tr th {\n",
       "        vertical-align: top;\n",
       "    }\n",
       "\n",
       "    .dataframe thead th {\n",
       "        text-align: right;\n",
       "    }\n",
       "</style>\n",
       "<table border=\"1\" class=\"dataframe\">\n",
       "  <thead>\n",
       "    <tr style=\"text-align: right;\">\n",
       "      <th></th>\n",
       "      <th></th>\n",
       "      <th></th>\n",
       "      <th>0</th>\n",
       "    </tr>\n",
       "    <tr>\n",
       "      <th>Airline</th>\n",
       "      <th>Performance</th>\n",
       "      <th></th>\n",
       "      <th></th>\n",
       "    </tr>\n",
       "  </thead>\n",
       "  <tbody>\n",
       "    <tr>\n",
       "      <th rowspan=\"10\" valign=\"top\">ALASKA</th>\n",
       "      <th rowspan=\"5\" valign=\"top\">on time</th>\n",
       "      <th>Los Angeles</th>\n",
       "      <td>497.0</td>\n",
       "    </tr>\n",
       "    <tr>\n",
       "      <th>Phoenix</th>\n",
       "      <td>221.0</td>\n",
       "    </tr>\n",
       "    <tr>\n",
       "      <th>San Diego</th>\n",
       "      <td>212.0</td>\n",
       "    </tr>\n",
       "    <tr>\n",
       "      <th>San Francisco</th>\n",
       "      <td>503.0</td>\n",
       "    </tr>\n",
       "    <tr>\n",
       "      <th>Seattle</th>\n",
       "      <td>1841.0</td>\n",
       "    </tr>\n",
       "    <tr>\n",
       "      <th rowspan=\"5\" valign=\"top\">delayed</th>\n",
       "      <th>Los Angeles</th>\n",
       "      <td>62.0</td>\n",
       "    </tr>\n",
       "    <tr>\n",
       "      <th>Phoenix</th>\n",
       "      <td>12.0</td>\n",
       "    </tr>\n",
       "    <tr>\n",
       "      <th>San Diego</th>\n",
       "      <td>20.0</td>\n",
       "    </tr>\n",
       "    <tr>\n",
       "      <th>San Francisco</th>\n",
       "      <td>102.0</td>\n",
       "    </tr>\n",
       "    <tr>\n",
       "      <th>Seattle</th>\n",
       "      <td>305.0</td>\n",
       "    </tr>\n",
       "    <tr>\n",
       "      <th rowspan=\"10\" valign=\"top\">AM WEST</th>\n",
       "      <th rowspan=\"5\" valign=\"top\">on time</th>\n",
       "      <th>Los Angeles</th>\n",
       "      <td>694.0</td>\n",
       "    </tr>\n",
       "    <tr>\n",
       "      <th>Phoenix</th>\n",
       "      <td>4840.0</td>\n",
       "    </tr>\n",
       "    <tr>\n",
       "      <th>San Diego</th>\n",
       "      <td>383.0</td>\n",
       "    </tr>\n",
       "    <tr>\n",
       "      <th>San Francisco</th>\n",
       "      <td>320.0</td>\n",
       "    </tr>\n",
       "    <tr>\n",
       "      <th>Seattle</th>\n",
       "      <td>201.0</td>\n",
       "    </tr>\n",
       "    <tr>\n",
       "      <th rowspan=\"5\" valign=\"top\">delayed</th>\n",
       "      <th>Los Angeles</th>\n",
       "      <td>117.0</td>\n",
       "    </tr>\n",
       "    <tr>\n",
       "      <th>Phoenix</th>\n",
       "      <td>415.0</td>\n",
       "    </tr>\n",
       "    <tr>\n",
       "      <th>San Diego</th>\n",
       "      <td>65.0</td>\n",
       "    </tr>\n",
       "    <tr>\n",
       "      <th>San Francisco</th>\n",
       "      <td>129.0</td>\n",
       "    </tr>\n",
       "    <tr>\n",
       "      <th>Seattle</th>\n",
       "      <td>61.0</td>\n",
       "    </tr>\n",
       "  </tbody>\n",
       "</table>\n",
       "</div>"
      ],
      "text/plain": [
       "                                        0\n",
       "Airline Performance                      \n",
       "ALASKA  on time     Los Angeles     497.0\n",
       "                    Phoenix         221.0\n",
       "                    San Diego       212.0\n",
       "                    San Francisco   503.0\n",
       "                    Seattle        1841.0\n",
       "        delayed     Los Angeles      62.0\n",
       "                    Phoenix          12.0\n",
       "                    San Diego        20.0\n",
       "                    San Francisco   102.0\n",
       "                    Seattle         305.0\n",
       "AM WEST on time     Los Angeles     694.0\n",
       "                    Phoenix        4840.0\n",
       "                    San Diego       383.0\n",
       "                    San Francisco   320.0\n",
       "                    Seattle         201.0\n",
       "        delayed     Los Angeles     117.0\n",
       "                    Phoenix         415.0\n",
       "                    San Diego        65.0\n",
       "                    San Francisco   129.0\n",
       "                    Seattle          61.0"
      ]
     },
     "execution_count": 192,
     "metadata": {},
     "output_type": "execute_result"
    }
   ],
   "source": [
    "df_long = df2.stack()\n",
    "long = pd.DataFrame(df_long)\n",
    "long"
   ]
  },
  {
   "cell_type": "code",
   "execution_count": 193,
   "metadata": {},
   "outputs": [
    {
     "data": {
      "text/html": [
       "<div>\n",
       "<style scoped>\n",
       "    .dataframe tbody tr th:only-of-type {\n",
       "        vertical-align: middle;\n",
       "    }\n",
       "\n",
       "    .dataframe tbody tr th {\n",
       "        vertical-align: top;\n",
       "    }\n",
       "\n",
       "    .dataframe thead th {\n",
       "        text-align: right;\n",
       "    }\n",
       "</style>\n",
       "<table border=\"1\" class=\"dataframe\">\n",
       "  <thead>\n",
       "    <tr style=\"text-align: right;\">\n",
       "      <th></th>\n",
       "      <th>Airline</th>\n",
       "      <th>Performance</th>\n",
       "      <th>variable</th>\n",
       "      <th>value</th>\n",
       "    </tr>\n",
       "  </thead>\n",
       "  <tbody>\n",
       "    <tr>\n",
       "      <th>0</th>\n",
       "      <td>ALASKA</td>\n",
       "      <td>on time</td>\n",
       "      <td>Los Angeles</td>\n",
       "      <td>497.0</td>\n",
       "    </tr>\n",
       "    <tr>\n",
       "      <th>1</th>\n",
       "      <td>ALASKA</td>\n",
       "      <td>delayed</td>\n",
       "      <td>Los Angeles</td>\n",
       "      <td>62.0</td>\n",
       "    </tr>\n",
       "    <tr>\n",
       "      <th>2</th>\n",
       "      <td>AM WEST</td>\n",
       "      <td>on time</td>\n",
       "      <td>Los Angeles</td>\n",
       "      <td>694.0</td>\n",
       "    </tr>\n",
       "    <tr>\n",
       "      <th>3</th>\n",
       "      <td>AM WEST</td>\n",
       "      <td>delayed</td>\n",
       "      <td>Los Angeles</td>\n",
       "      <td>117.0</td>\n",
       "    </tr>\n",
       "    <tr>\n",
       "      <th>4</th>\n",
       "      <td>ALASKA</td>\n",
       "      <td>on time</td>\n",
       "      <td>Phoenix</td>\n",
       "      <td>221.0</td>\n",
       "    </tr>\n",
       "    <tr>\n",
       "      <th>5</th>\n",
       "      <td>ALASKA</td>\n",
       "      <td>delayed</td>\n",
       "      <td>Phoenix</td>\n",
       "      <td>12.0</td>\n",
       "    </tr>\n",
       "    <tr>\n",
       "      <th>6</th>\n",
       "      <td>AM WEST</td>\n",
       "      <td>on time</td>\n",
       "      <td>Phoenix</td>\n",
       "      <td>4840.0</td>\n",
       "    </tr>\n",
       "    <tr>\n",
       "      <th>7</th>\n",
       "      <td>AM WEST</td>\n",
       "      <td>delayed</td>\n",
       "      <td>Phoenix</td>\n",
       "      <td>415.0</td>\n",
       "    </tr>\n",
       "    <tr>\n",
       "      <th>8</th>\n",
       "      <td>ALASKA</td>\n",
       "      <td>on time</td>\n",
       "      <td>San Diego</td>\n",
       "      <td>212.0</td>\n",
       "    </tr>\n",
       "    <tr>\n",
       "      <th>9</th>\n",
       "      <td>ALASKA</td>\n",
       "      <td>delayed</td>\n",
       "      <td>San Diego</td>\n",
       "      <td>20.0</td>\n",
       "    </tr>\n",
       "    <tr>\n",
       "      <th>10</th>\n",
       "      <td>AM WEST</td>\n",
       "      <td>on time</td>\n",
       "      <td>San Diego</td>\n",
       "      <td>383.0</td>\n",
       "    </tr>\n",
       "    <tr>\n",
       "      <th>11</th>\n",
       "      <td>AM WEST</td>\n",
       "      <td>delayed</td>\n",
       "      <td>San Diego</td>\n",
       "      <td>65.0</td>\n",
       "    </tr>\n",
       "    <tr>\n",
       "      <th>12</th>\n",
       "      <td>ALASKA</td>\n",
       "      <td>on time</td>\n",
       "      <td>San Francisco</td>\n",
       "      <td>503.0</td>\n",
       "    </tr>\n",
       "    <tr>\n",
       "      <th>13</th>\n",
       "      <td>ALASKA</td>\n",
       "      <td>delayed</td>\n",
       "      <td>San Francisco</td>\n",
       "      <td>102.0</td>\n",
       "    </tr>\n",
       "    <tr>\n",
       "      <th>14</th>\n",
       "      <td>AM WEST</td>\n",
       "      <td>on time</td>\n",
       "      <td>San Francisco</td>\n",
       "      <td>320.0</td>\n",
       "    </tr>\n",
       "    <tr>\n",
       "      <th>15</th>\n",
       "      <td>AM WEST</td>\n",
       "      <td>delayed</td>\n",
       "      <td>San Francisco</td>\n",
       "      <td>129.0</td>\n",
       "    </tr>\n",
       "    <tr>\n",
       "      <th>16</th>\n",
       "      <td>ALASKA</td>\n",
       "      <td>on time</td>\n",
       "      <td>Seattle</td>\n",
       "      <td>1841.0</td>\n",
       "    </tr>\n",
       "    <tr>\n",
       "      <th>17</th>\n",
       "      <td>ALASKA</td>\n",
       "      <td>delayed</td>\n",
       "      <td>Seattle</td>\n",
       "      <td>305.0</td>\n",
       "    </tr>\n",
       "    <tr>\n",
       "      <th>18</th>\n",
       "      <td>AM WEST</td>\n",
       "      <td>on time</td>\n",
       "      <td>Seattle</td>\n",
       "      <td>201.0</td>\n",
       "    </tr>\n",
       "    <tr>\n",
       "      <th>19</th>\n",
       "      <td>AM WEST</td>\n",
       "      <td>delayed</td>\n",
       "      <td>Seattle</td>\n",
       "      <td>61.0</td>\n",
       "    </tr>\n",
       "  </tbody>\n",
       "</table>\n",
       "</div>"
      ],
      "text/plain": [
       "    Airline Performance       variable   value\n",
       "0    ALASKA     on time    Los Angeles   497.0\n",
       "1    ALASKA     delayed    Los Angeles    62.0\n",
       "2   AM WEST     on time    Los Angeles   694.0\n",
       "3   AM WEST     delayed    Los Angeles   117.0\n",
       "4    ALASKA     on time        Phoenix   221.0\n",
       "5    ALASKA     delayed        Phoenix    12.0\n",
       "6   AM WEST     on time        Phoenix  4840.0\n",
       "7   AM WEST     delayed        Phoenix   415.0\n",
       "8    ALASKA     on time      San Diego   212.0\n",
       "9    ALASKA     delayed      San Diego    20.0\n",
       "10  AM WEST     on time      San Diego   383.0\n",
       "11  AM WEST     delayed      San Diego    65.0\n",
       "12   ALASKA     on time  San Francisco   503.0\n",
       "13   ALASKA     delayed  San Francisco   102.0\n",
       "14  AM WEST     on time  San Francisco   320.0\n",
       "15  AM WEST     delayed  San Francisco   129.0\n",
       "16   ALASKA     on time        Seattle  1841.0\n",
       "17   ALASKA     delayed        Seattle   305.0\n",
       "18  AM WEST     on time        Seattle   201.0\n",
       "19  AM WEST     delayed        Seattle    61.0"
      ]
     },
     "execution_count": 193,
     "metadata": {},
     "output_type": "execute_result"
    }
   ],
   "source": [
    "long1 = pd.melt(df1, id_vars=['Airline','Performance'])\n",
    "long1"
   ]
  },
  {
   "cell_type": "markdown",
   "metadata": {},
   "source": [
    "#### Above table is a long format table.  \n",
    "\n",
    "\n"
   ]
  },
  {
   "cell_type": "markdown",
   "metadata": {},
   "source": [
    "Reference: \n",
    "1. https://pandas.pydata.org/pandas-docs/stable/user_guide/reshaping.html\n",
    "2. https://pandas.pydata.org/pandas-docs/stable/user_guide/advanced.html"
   ]
  },
  {
   "cell_type": "markdown",
   "metadata": {},
   "source": [
    "## Q3: \n",
    "\n",
    "(3) (10 Points) Using your reshaped/transformed data, perform analysis to compare the arrival delays for the\n",
    "two airlines. Two questions you must answer: \n",
    "\n",
    "### 1. For each city, which airline had the best on time performance?;<br>"
   ]
  },
  {
   "cell_type": "code",
   "execution_count": 194,
   "metadata": {},
   "outputs": [
    {
     "data": {
      "text/html": [
       "<div>\n",
       "<style scoped>\n",
       "    .dataframe tbody tr th:only-of-type {\n",
       "        vertical-align: middle;\n",
       "    }\n",
       "\n",
       "    .dataframe tbody tr th {\n",
       "        vertical-align: top;\n",
       "    }\n",
       "\n",
       "    .dataframe thead th {\n",
       "        text-align: right;\n",
       "    }\n",
       "</style>\n",
       "<table border=\"1\" class=\"dataframe\">\n",
       "  <thead>\n",
       "    <tr style=\"text-align: right;\">\n",
       "      <th></th>\n",
       "      <th>Airline</th>\n",
       "      <th>Performance</th>\n",
       "      <th>variable</th>\n",
       "      <th>value</th>\n",
       "    </tr>\n",
       "  </thead>\n",
       "  <tbody>\n",
       "    <tr>\n",
       "      <th>0</th>\n",
       "      <td>ALASKA</td>\n",
       "      <td>on time</td>\n",
       "      <td>Los Angeles</td>\n",
       "      <td>497.0</td>\n",
       "    </tr>\n",
       "    <tr>\n",
       "      <th>2</th>\n",
       "      <td>AM WEST</td>\n",
       "      <td>on time</td>\n",
       "      <td>Los Angeles</td>\n",
       "      <td>694.0</td>\n",
       "    </tr>\n",
       "    <tr>\n",
       "      <th>4</th>\n",
       "      <td>ALASKA</td>\n",
       "      <td>on time</td>\n",
       "      <td>Phoenix</td>\n",
       "      <td>221.0</td>\n",
       "    </tr>\n",
       "    <tr>\n",
       "      <th>6</th>\n",
       "      <td>AM WEST</td>\n",
       "      <td>on time</td>\n",
       "      <td>Phoenix</td>\n",
       "      <td>4840.0</td>\n",
       "    </tr>\n",
       "    <tr>\n",
       "      <th>8</th>\n",
       "      <td>ALASKA</td>\n",
       "      <td>on time</td>\n",
       "      <td>San Diego</td>\n",
       "      <td>212.0</td>\n",
       "    </tr>\n",
       "    <tr>\n",
       "      <th>10</th>\n",
       "      <td>AM WEST</td>\n",
       "      <td>on time</td>\n",
       "      <td>San Diego</td>\n",
       "      <td>383.0</td>\n",
       "    </tr>\n",
       "    <tr>\n",
       "      <th>12</th>\n",
       "      <td>ALASKA</td>\n",
       "      <td>on time</td>\n",
       "      <td>San Francisco</td>\n",
       "      <td>503.0</td>\n",
       "    </tr>\n",
       "    <tr>\n",
       "      <th>14</th>\n",
       "      <td>AM WEST</td>\n",
       "      <td>on time</td>\n",
       "      <td>San Francisco</td>\n",
       "      <td>320.0</td>\n",
       "    </tr>\n",
       "    <tr>\n",
       "      <th>16</th>\n",
       "      <td>ALASKA</td>\n",
       "      <td>on time</td>\n",
       "      <td>Seattle</td>\n",
       "      <td>1841.0</td>\n",
       "    </tr>\n",
       "    <tr>\n",
       "      <th>18</th>\n",
       "      <td>AM WEST</td>\n",
       "      <td>on time</td>\n",
       "      <td>Seattle</td>\n",
       "      <td>201.0</td>\n",
       "    </tr>\n",
       "  </tbody>\n",
       "</table>\n",
       "</div>"
      ],
      "text/plain": [
       "    Airline Performance       variable   value\n",
       "0    ALASKA     on time    Los Angeles   497.0\n",
       "2   AM WEST     on time    Los Angeles   694.0\n",
       "4    ALASKA     on time        Phoenix   221.0\n",
       "6   AM WEST     on time        Phoenix  4840.0\n",
       "8    ALASKA     on time      San Diego   212.0\n",
       "10  AM WEST     on time      San Diego   383.0\n",
       "12   ALASKA     on time  San Francisco   503.0\n",
       "14  AM WEST     on time  San Francisco   320.0\n",
       "16   ALASKA     on time        Seattle  1841.0\n",
       "18  AM WEST     on time        Seattle   201.0"
      ]
     },
     "execution_count": 194,
     "metadata": {},
     "output_type": "execute_result"
    }
   ],
   "source": [
    "# Finding the 'on time' data in the table\n",
    "\n",
    "ontime = long1[long1['Performance']=='on time']\n",
    "ontime"
   ]
  },
  {
   "cell_type": "code",
   "execution_count": 195,
   "metadata": {},
   "outputs": [
    {
     "data": {
      "text/plain": [
       "Text(0.5, 1.0, 'On Time Airline in Each City')"
      ]
     },
     "execution_count": 195,
     "metadata": {},
     "output_type": "execute_result"
    },
    {
     "data": {
      "image/png": "[encoded data removed]",
      "text/plain": [
       "<Figure size 432x288 with 1 Axes>"
      ]
     },
     "metadata": {
      "needs_background": "light"
     },
     "output_type": "display_data"
    }
   ],
   "source": [
    "# Graphing the on time data into a barplot. \n",
    "\n",
    "sns.barplot( x=\"variable\", y=\"value\", hue=\"Airline\", data=ontime)\n",
    "plt.title(\"On Time Airline in Each City\", fontsize=12) "
   ]
  },
  {
   "cell_type": "markdown",
   "metadata": {},
   "source": [
    "According to the graph above: \n",
    "1. For Los Angeles, \"AM WEST\" has the best on time performance. \n",
    "2. For Phoenix, \"AM WEST\" has the best on time performance. \n",
    "3. For San Diego, \"AM WEST\" has the best on time performance. \n",
    "4. For San Francisco, \"ALASKA\" has the best on time performance. \n",
    "5. For Seattle, \"ALASKA\" has the best on time performance. "
   ]
  },
  {
   "cell_type": "markdown",
   "metadata": {},
   "source": [
    "### 2. Which airline had the best overall on time performance?; etc.<br>"
   ]
  },
  {
   "cell_type": "code",
   "execution_count": 196,
   "metadata": {},
   "outputs": [
    {
     "name": "stdout",
     "output_type": "stream",
     "text": [
      "          value\n",
      "Airline        \n",
      "ALASKA    654.8\n",
      "AM WEST  1287.6\n"
     ]
    },
    {
     "data": {
      "text/plain": [
       "<matplotlib.axes._subplots.AxesSubplot at 0x19482051a90>"
      ]
     },
     "execution_count": 196,
     "metadata": {},
     "output_type": "execute_result"
    },
    {
     "data": {
      "image/png": "[encoded data removed]",
      "text/plain": [
       "<Figure size 432x288 with 1 Axes>"
      ]
     },
     "metadata": {
      "needs_background": "light"
     },
     "output_type": "display_data"
    }
   ],
   "source": [
    "# Calculating the mean of on-time value for each airline\n",
    "\n",
    "mean=ontime.groupby(['Airline']).mean()\n",
    "print(mean)\n",
    "\n",
    "# Graphing a barplot of the mean\n",
    "mean.plot.bar()"
   ]
  },
  {
   "cell_type": "code",
   "execution_count": 197,
   "metadata": {},
   "outputs": [
    {
     "name": "stdout",
     "output_type": "stream",
     "text": [
      "          value\n",
      "Airline        \n",
      "ALASKA   3274.0\n",
      "AM WEST  6438.0\n"
     ]
    },
    {
     "data": {
      "text/plain": [
       "<matplotlib.axes._subplots.AxesSubplot at 0x194820b04c0>"
      ]
     },
     "execution_count": 197,
     "metadata": {},
     "output_type": "execute_result"
    },
    {
     "data": {
      "image/png": "[encoded data removed]",
      "text/plain": [
       "<Figure size 432x288 with 1 Axes>"
      ]
     },
     "metadata": {
      "needs_background": "light"
     },
     "output_type": "display_data"
    }
   ],
   "source": [
    "# Calculating the sum of on-time value for each airline\n",
    "\n",
    "sum = ontime.groupby(['Airline']).sum()\n",
    "print(sum)\n",
    "\n",
    "# Graphing a barplot of  the sum\n",
    "sum.plot.bar()"
   ]
  },
  {
   "cell_type": "markdown",
   "metadata": {},
   "source": [
    "### Calculating the  percentage of on time flights for each airline"
   ]
  },
  {
   "cell_type": "code",
   "execution_count": 198,
   "metadata": {},
   "outputs": [
    {
     "name": "stdout",
     "output_type": "stream",
     "text": [
      "86.72847682119206\n"
     ]
    }
   ],
   "source": [
    "# Finding the flights that are  \"ALASKA\" airline\n",
    "# Finding the on time flights that are  \"ALASKA\" airline\n",
    "# Calculating the percentage of on time flights that are \"ALASKA\" airline \n",
    "# Using (on time flights that are  \"ALASKA\" airline) / (Total flightsthat are  \"ALASKA\" airline) to calculate the percentage \n",
    "\n",
    "Alaska =long1[long1['Airline'] =='ALASKA']\n",
    "\n",
    "Alaska_ontime = Alaska[Alaska['Performance'] =='on time']\n",
    "\n",
    "Percentage1 = ((Alaska_ontime['value'].sum())/(Alaska['value'].sum()))* 100\n",
    "\n",
    "print(Percentage1)"
   ]
  },
  {
   "cell_type": "markdown",
   "metadata": {},
   "source": [
    "As a result, 86.7% of Alaska's flights were on time. "
   ]
  },
  {
   "cell_type": "markdown",
   "metadata": {},
   "source": [
    "     "
   ]
  },
  {
   "cell_type": "code",
   "execution_count": 177,
   "metadata": {},
   "outputs": [
    {
     "name": "stdout",
     "output_type": "stream",
     "text": [
      "89.10726643598615\n"
     ]
    }
   ],
   "source": [
    "# Finding the flights that are  \"AM WEST\" airline\n",
    "# Finding the on time flights that are  \"AM WEST\" airline\n",
    "# Calculating the percentage of on time flights that are \"AM WEST\" airline \n",
    "# Using (on time flights that are  \"AM WEST\" airline) / (Total flightsthat are  \"AM WEST\" airline) to calculate the percentage \n",
    "\n",
    "Am_west =long1[long1['Airline'] == 'AM WEST']\n",
    "\n",
    "Am_west_ontime = Am_west[Am_west['Performance'] == 'on time']\n",
    "\n",
    "Percentage2 = ((Am_west_ontime['value'].sum())/(Am_west['value'].sum()))*100\n",
    "\n",
    "print(Percentage2)"
   ]
  },
  {
   "cell_type": "markdown",
   "metadata": {},
   "source": [
    "As a result, 89.1% of AM West's flights were on time."
   ]
  },
  {
   "cell_type": "markdown",
   "metadata": {},
   "source": [
    "    "
   ]
  },
  {
   "cell_type": "code",
   "execution_count": 201,
   "metadata": {},
   "outputs": [
    {
     "data": {
      "image/png": "[encoded data removed]",
      "text/plain": [
       "<Figure size 432x288 with 1 Axes>"
      ]
     },
     "metadata": {
      "needs_background": "light"
     },
     "output_type": "display_data"
    }
   ],
   "source": [
    "data = [[Percentage1], [Percentage2]]\n",
    "\n",
    "X = np.arange(1)\n",
    "plt.bar(X, data[0], color = 'b', width = 0.1)\n",
    "plt.bar(X + 0.115, data[1], color = 'g', width = 0.1)\n",
    "plt.xlabel(\"Airline\") \n",
    "plt.ylabel(\"Percentage\") \n",
    "plt.title(\"Percentage Comparison\", fontsize=16) \n",
    "\n",
    "plt.show()"
   ]
  },
  {
   "cell_type": "markdown",
   "metadata": {},
   "source": [
    "As above graph shows, the green bar, which represents the percentage of on time flights that are \"AM WEST\" airline, has higher number"
   ]
  },
  {
   "cell_type": "markdown",
   "metadata": {},
   "source": [
    "#### In conclusion, according to the above tables and bar plots show that AM WEST has the best overall on time performance. Because it has better percentage of on time flights, bigger mean of on time performance, and bigger number of overall on time performance. "
   ]
  },
  {
   "cell_type": "markdown",
   "metadata": {},
   "source": [
    "    "
   ]
  },
  {
   "cell_type": "markdown",
   "metadata": {},
   "source": [
    "### 3.  For each city, which airline had more delayed flights? \n"
   ]
  },
  {
   "cell_type": "code",
   "execution_count": 202,
   "metadata": {},
   "outputs": [
    {
     "data": {
      "text/html": [
       "<div>\n",
       "<style scoped>\n",
       "    .dataframe tbody tr th:only-of-type {\n",
       "        vertical-align: middle;\n",
       "    }\n",
       "\n",
       "    .dataframe tbody tr th {\n",
       "        vertical-align: top;\n",
       "    }\n",
       "\n",
       "    .dataframe thead th {\n",
       "        text-align: right;\n",
       "    }\n",
       "</style>\n",
       "<table border=\"1\" class=\"dataframe\">\n",
       "  <thead>\n",
       "    <tr style=\"text-align: right;\">\n",
       "      <th></th>\n",
       "      <th>Airline</th>\n",
       "      <th>Performance</th>\n",
       "      <th>variable</th>\n",
       "      <th>value</th>\n",
       "    </tr>\n",
       "  </thead>\n",
       "  <tbody>\n",
       "    <tr>\n",
       "      <th>1</th>\n",
       "      <td>ALASKA</td>\n",
       "      <td>delayed</td>\n",
       "      <td>Los Angeles</td>\n",
       "      <td>62.0</td>\n",
       "    </tr>\n",
       "    <tr>\n",
       "      <th>3</th>\n",
       "      <td>AM WEST</td>\n",
       "      <td>delayed</td>\n",
       "      <td>Los Angeles</td>\n",
       "      <td>117.0</td>\n",
       "    </tr>\n",
       "    <tr>\n",
       "      <th>5</th>\n",
       "      <td>ALASKA</td>\n",
       "      <td>delayed</td>\n",
       "      <td>Phoenix</td>\n",
       "      <td>12.0</td>\n",
       "    </tr>\n",
       "    <tr>\n",
       "      <th>7</th>\n",
       "      <td>AM WEST</td>\n",
       "      <td>delayed</td>\n",
       "      <td>Phoenix</td>\n",
       "      <td>415.0</td>\n",
       "    </tr>\n",
       "    <tr>\n",
       "      <th>9</th>\n",
       "      <td>ALASKA</td>\n",
       "      <td>delayed</td>\n",
       "      <td>San Diego</td>\n",
       "      <td>20.0</td>\n",
       "    </tr>\n",
       "    <tr>\n",
       "      <th>11</th>\n",
       "      <td>AM WEST</td>\n",
       "      <td>delayed</td>\n",
       "      <td>San Diego</td>\n",
       "      <td>65.0</td>\n",
       "    </tr>\n",
       "    <tr>\n",
       "      <th>13</th>\n",
       "      <td>ALASKA</td>\n",
       "      <td>delayed</td>\n",
       "      <td>San Francisco</td>\n",
       "      <td>102.0</td>\n",
       "    </tr>\n",
       "    <tr>\n",
       "      <th>15</th>\n",
       "      <td>AM WEST</td>\n",
       "      <td>delayed</td>\n",
       "      <td>San Francisco</td>\n",
       "      <td>129.0</td>\n",
       "    </tr>\n",
       "    <tr>\n",
       "      <th>17</th>\n",
       "      <td>ALASKA</td>\n",
       "      <td>delayed</td>\n",
       "      <td>Seattle</td>\n",
       "      <td>305.0</td>\n",
       "    </tr>\n",
       "    <tr>\n",
       "      <th>19</th>\n",
       "      <td>AM WEST</td>\n",
       "      <td>delayed</td>\n",
       "      <td>Seattle</td>\n",
       "      <td>61.0</td>\n",
       "    </tr>\n",
       "  </tbody>\n",
       "</table>\n",
       "</div>"
      ],
      "text/plain": [
       "    Airline Performance       variable  value\n",
       "1    ALASKA     delayed    Los Angeles   62.0\n",
       "3   AM WEST     delayed    Los Angeles  117.0\n",
       "5    ALASKA     delayed        Phoenix   12.0\n",
       "7   AM WEST     delayed        Phoenix  415.0\n",
       "9    ALASKA     delayed      San Diego   20.0\n",
       "11  AM WEST     delayed      San Diego   65.0\n",
       "13   ALASKA     delayed  San Francisco  102.0\n",
       "15  AM WEST     delayed  San Francisco  129.0\n",
       "17   ALASKA     delayed        Seattle  305.0\n",
       "19  AM WEST     delayed        Seattle   61.0"
      ]
     },
     "execution_count": 202,
     "metadata": {},
     "output_type": "execute_result"
    }
   ],
   "source": [
    "# Finding the 'delayed' data in the table\n",
    "\n",
    "delayed = long1[long1['Performance']=='delayed']\n",
    "delayed"
   ]
  },
  {
   "cell_type": "code",
   "execution_count": 203,
   "metadata": {},
   "outputs": [
    {
     "data": {
      "text/plain": [
       "Text(0.5, 1.0, 'Delayed Airline in Each City')"
      ]
     },
     "execution_count": 203,
     "metadata": {},
     "output_type": "execute_result"
    },
    {
     "data": {
      "image/png": "[encoded data removed]",
      "text/plain": [
       "<Figure size 432x288 with 1 Axes>"
      ]
     },
     "metadata": {
      "needs_background": "light"
     },
     "output_type": "display_data"
    }
   ],
   "source": [
    "# Graphing the delayed data into a barplot. \n",
    "\n",
    "sns.barplot( x=\"variable\", y=\"value\", hue=\"Airline\", data=delayed)\n",
    "plt.title(\"Delayed Airline in Each City\", fontsize=12) "
   ]
  },
  {
   "cell_type": "markdown",
   "metadata": {},
   "source": [
    "According to the graph above: \n",
    "1. For Los Angeles, \"AM WEST\" had more delayed flights.\n",
    "2. For Phoenix, \"AM WEST\" had more delayed flights. \n",
    "3. For San Diego, \"AM WEST\" had more delayed flights.\n",
    "4. For San Francisco,  \"AM WEST\" had more delayed flights.\n",
    "5. For Seattle, \"ALASKA\" had more delayed flights."
   ]
  },
  {
   "cell_type": "markdown",
   "metadata": {},
   "source": [
    "Reference: \n",
    "\n",
    "1. https://cmdlinetips.com/2020/06/pandas-melt-reshape-wide-data-to-long-tidy-data/"
   ]
  },
  {
   "cell_type": "markdown",
   "metadata": {},
   "source": [
    "## Q4: \n",
    "\n",
    "(4) (4 Points) Finally, given your “tidy” long format structure, consider what, if any, changes you would make\n",
    "to the visual presentation of the data if you were then asked to transform your “long” data back into a “wide”\n",
    "format: would you mimic the structure of the graphic shown above? \n",
    "\n",
    "\n",
    "\n",
    "To convert “long” data back into a “wide” format, I would use  \"variable\" that represents each city, and \"Performance\" as index; and use \"Airline\" as a column. The \"wide\" format makes it easier to compare each airline's performance in each city, which will make task 2 easier than the \"long\" format. Also, if there are too many airlines in the dataset, the \"wide\" format will organize the information better than the \"long\" format because we can compare each airline more directly. \n",
    "\n"
   ]
  },
  {
   "cell_type": "code",
   "execution_count": 204,
   "metadata": {},
   "outputs": [
    {
     "data": {
      "text/html": [
       "<div>\n",
       "<style scoped>\n",
       "    .dataframe tbody tr th:only-of-type {\n",
       "        vertical-align: middle;\n",
       "    }\n",
       "\n",
       "    .dataframe tbody tr th {\n",
       "        vertical-align: top;\n",
       "    }\n",
       "\n",
       "    .dataframe thead th {\n",
       "        text-align: right;\n",
       "    }\n",
       "</style>\n",
       "<table border=\"1\" class=\"dataframe\">\n",
       "  <thead>\n",
       "    <tr style=\"text-align: right;\">\n",
       "      <th>Airline</th>\n",
       "      <th>variable</th>\n",
       "      <th>Performance</th>\n",
       "      <th>ALASKA</th>\n",
       "      <th>AM WEST</th>\n",
       "    </tr>\n",
       "  </thead>\n",
       "  <tbody>\n",
       "    <tr>\n",
       "      <th>0</th>\n",
       "      <td>Los Angeles</td>\n",
       "      <td>delayed</td>\n",
       "      <td>62.0</td>\n",
       "      <td>117.0</td>\n",
       "    </tr>\n",
       "    <tr>\n",
       "      <th>1</th>\n",
       "      <td>Los Angeles</td>\n",
       "      <td>on time</td>\n",
       "      <td>497.0</td>\n",
       "      <td>694.0</td>\n",
       "    </tr>\n",
       "    <tr>\n",
       "      <th>2</th>\n",
       "      <td>Phoenix</td>\n",
       "      <td>delayed</td>\n",
       "      <td>12.0</td>\n",
       "      <td>415.0</td>\n",
       "    </tr>\n",
       "    <tr>\n",
       "      <th>3</th>\n",
       "      <td>Phoenix</td>\n",
       "      <td>on time</td>\n",
       "      <td>221.0</td>\n",
       "      <td>4840.0</td>\n",
       "    </tr>\n",
       "    <tr>\n",
       "      <th>4</th>\n",
       "      <td>San Diego</td>\n",
       "      <td>delayed</td>\n",
       "      <td>20.0</td>\n",
       "      <td>65.0</td>\n",
       "    </tr>\n",
       "    <tr>\n",
       "      <th>5</th>\n",
       "      <td>San Diego</td>\n",
       "      <td>on time</td>\n",
       "      <td>212.0</td>\n",
       "      <td>383.0</td>\n",
       "    </tr>\n",
       "    <tr>\n",
       "      <th>6</th>\n",
       "      <td>San Francisco</td>\n",
       "      <td>delayed</td>\n",
       "      <td>102.0</td>\n",
       "      <td>129.0</td>\n",
       "    </tr>\n",
       "    <tr>\n",
       "      <th>7</th>\n",
       "      <td>San Francisco</td>\n",
       "      <td>on time</td>\n",
       "      <td>503.0</td>\n",
       "      <td>320.0</td>\n",
       "    </tr>\n",
       "    <tr>\n",
       "      <th>8</th>\n",
       "      <td>Seattle</td>\n",
       "      <td>delayed</td>\n",
       "      <td>305.0</td>\n",
       "      <td>61.0</td>\n",
       "    </tr>\n",
       "    <tr>\n",
       "      <th>9</th>\n",
       "      <td>Seattle</td>\n",
       "      <td>on time</td>\n",
       "      <td>1841.0</td>\n",
       "      <td>201.0</td>\n",
       "    </tr>\n",
       "  </tbody>\n",
       "</table>\n",
       "</div>"
      ],
      "text/plain": [
       "Airline       variable Performance  ALASKA  AM WEST\n",
       "0          Los Angeles     delayed    62.0    117.0\n",
       "1          Los Angeles     on time   497.0    694.0\n",
       "2              Phoenix     delayed    12.0    415.0\n",
       "3              Phoenix     on time   221.0   4840.0\n",
       "4            San Diego     delayed    20.0     65.0\n",
       "5            San Diego     on time   212.0    383.0\n",
       "6        San Francisco     delayed   102.0    129.0\n",
       "7        San Francisco     on time   503.0    320.0\n",
       "8              Seattle     delayed   305.0     61.0\n",
       "9              Seattle     on time  1841.0    201.0"
      ]
     },
     "execution_count": 204,
     "metadata": {},
     "output_type": "execute_result"
    }
   ],
   "source": [
    "# By using 'pivot_table' to transform the “long” data back into a “wide” format\n",
    "# To get rid of the multi-index, use .reset_index()\n",
    "\n",
    "long1.pivot_table(index=['variable','Performance'], \n",
    "                    columns='Airline', \n",
    "                    values='value').reset_index()"
   ]
  },
  {
   "cell_type": "markdown",
   "metadata": {},
   "source": [
    "Reference: https://hausetutorials.netlify.app/posts/2020-05-17-reshape-python-pandas-dataframe-from-long-to-wide-with-pivottable/"
   ]
  },
  {
   "cell_type": "markdown",
   "metadata": {},
   "source": [
    "Therefore, the different format has its own pro and cons. It depends on what is the purpose and goal of the dataset, and choose the best format that could fit that goal. "
   ]
  }
 ],
 "metadata": {
  "kernelspec": {
   "display_name": "Python 3",
   "language": "python",
   "name": "python3"
  },
  "language_info": {
   "codemirror_mode": {
    "name": "ipython",
    "version": 3
   },
   "file_extension": ".py",
   "mimetype": "text/x-python",
   "name": "python",
   "nbconvert_exporter": "python",
   "pygments_lexer": "ipython3",
   "version": "3.8.3"
  }
 },
 "nbformat": 4,
 "nbformat_minor": 4
}
