{
 "cells": [
  {
   "cell_type": "code",
   "execution_count": null,
   "metadata": {},
   "outputs": [],
   "source": [
    "[\n",
    "  {\n",
    "    Book Name: \"How to American\",\n",
    "    Authors: Jimmy O. Yang,\n",
    "    Rating: 4/5,\n",
    "    Published Date: March 13, 2018,\n",
    "    Price: 15.95\n",
    "  },\n",
    "  {\n",
    "    Book Name: \"Beach Read\",\n",
    "    Authors: Emily Hener,\n",
    "    Rating: 4/5,\n",
    "    Published Date: May 18, 2020,\n",
    "    Price: 9.99\n",
    "  },\n",
    "  {\n",
    "    Book Name: \"The other side of the Ice\",\n",
    "    Authors:Sprague Theobald, Allan Kreda\n",
    "    Rating: 4.5/5,\n",
    "    Published Date: Augest 2012,\n",
    "    Price: 16.99\n",
    "]"
   ]
  },
  {
   "cell_type": "markdown",
   "metadata": {},
   "source": [
    "[\n",
    "  {\n",
    "    Book Name: \"How to American\",\n",
    "    Authors: Jimmy O. Yang,\n",
    "    Rating: 4/5,\n",
    "    Published Date: March 13, 2018,\n",
    "    Price: 15.95\n",
    "  },\n",
    "  {\n",
    "    Book Name: \"Beach Read\",\n",
    "    Authors: Emily Hener,\n",
    "    Rating: 4/5,\n",
    "    Published Date: May 18, 2020,\n",
    "    Price: 9.99\n",
    "  },\n",
    "  {\n",
    "    Book Name: \"The other side of the Ice\",\n",
    "    Authors:Sprague Theobald, Allan Kreda\n",
    "    Rating: 4.5/5,\n",
    "    Published Date: Augest 2012,\n",
    "    Price: 16.99\n",
    "]"
   ]
  }
 ],
 "metadata": {
  "kernelspec": {
   "display_name": "Python 3",
   "language": "python",
   "name": "python3"
  },
  "language_info": {
   "codemirror_mode": {
    "name": "ipython",
    "version": 3
   },
   "file_extension": ".py",
   "mimetype": "text/x-python",
   "name": "python",
   "nbconvert_exporter": "python",
   "pygments_lexer": "ipython3",
   "version": "3.8.3"
  }
 },
 "nbformat": 4,
 "nbformat_minor": 4
}
