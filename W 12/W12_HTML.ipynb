{
 "cells": [
  {
   "cell_type": "markdown",
   "metadata": {},
   "source": [
    "<table>\n",
    "<thead>\n",
    "<tr>\n",
    "<td>Book Name</td>\n",
    "<td>Authors</td>\n",
    "<td>Rating</td>\n",
    "<td>Published Date</td>\n",
    "<td>Price</td>\n",
    "</tr>\n",
    "</thead>\n",
    "<tbody>\n",
    "<tr>\n",
    "<td>How to American</td>\n",
    "<td>Jimmy O. Yang</td>\n",
    "<td>4/5</td>\n",
    "<td>March 13, 2018</td>\n",
    "<td>15.95</td>\n",
    "</tr>\n",
    "<tr>\n",
    "<td>Beach Read</td>\n",
    "<td>Emily Henery</td>\n",
    "<td>4/5</td>\n",
    "<td>May 18, 2020</td>\n",
    "<td>9.99</td>\n",
    "</tr>\n",
    "<tr>\n",
    "<td>The other side of the Ice</td>\n",
    "<td>Sprague Theobald, Allan Kreda</td>\n",
    "<td>4.5/5</td>\n",
    "<td>Augest 2012</td>\n",
    "<td>16.99</td>\n",
    "</tr>\n",
    "</tbody>\n",
    "</table>"
   ]
  }
 ],
 "metadata": {
  "kernelspec": {
   "display_name": "Python 3",
   "language": "python",
   "name": "python3"
  },
  "language_info": {
   "codemirror_mode": {
    "name": "ipython",
    "version": 3
   },
   "file_extension": ".py",
   "mimetype": "text/x-python",
   "name": "python",
   "nbconvert_exporter": "python",
   "pygments_lexer": "ipython3",
   "version": "3.8.3"
  }
 },
 "nbformat": 4,
 "nbformat_minor": 4
}
