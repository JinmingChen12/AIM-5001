{
 "cells": [
  {
   "cell_type": "code",
   "execution_count": null,
   "metadata": {},
   "outputs": [],
   "source": [
    "<books>\n",
    "    <book>\n",
    "        <Book Name>How to American</Book Name>\n",
    "        <Authors>Jimmy O. Yang</Authors>\n",
    "        <Rating>4/5</Rating>\n",
    "        <Published Date>>March 13, 2018</Published Date>\n",
    "        <Price>15.95</Price>\n",
    "    </book>\n",
    "    <book>\n",
    "        <Book Name>Beach Read</Book Name>\n",
    "        <Authors>Emily Henery</Authors>\n",
    "        <Rating>4/5</Rating>\n",
    "        <Published Date>May 18, 2020</Published Date>\n",
    "        <Price>9.99</Price>\n",
    "    </book>\n",
    "    <book>\n",
    "        <Book Name>The other side of the Ice</Book Name>\n",
    "        <Authors>Sprague Theobald, Allan Kreda</Authors>\n",
    "        <Rating>4.5/5</Rating>\n",
    "        <Published Date>Augest 2012</Published Date>\n",
    "        <Price>16.99</Price>\n",
    "    </book>\n",
    "</books>         "
   ]
  },
  {
   "cell_type": "markdown",
   "metadata": {},
   "source": [
    "<books>  \n",
    "\t<book>\n",
    "\t\t<Book Name>How to American</Book Name>\n",
    "\t\t<Authors>Jimmy O. Yang</Authors>\n",
    "\t\t<Rating>4/5</Rating>\n",
    "\t\t<Published Date>>March 13, 2018</Published Date>\n",
    "\t\t<Price>15.95</Price>\n",
    "\t</book>\n",
    "\t<book>\n",
    "\t\t<Book Name>Beach Read</Book Name>\n",
    "\t\t<Authors>Emily Henery</Authors>\n",
    "\t\t<Rating>4/5</Rating>\n",
    "\t\t<Published Date>May 18, 2020</Published Date>\n",
    "\t\t<Price>9.99</Price>\n",
    "\t</book>\n",
    "\t<book>\n",
    "\t\t<Book Name>The other side of the Ice</Book Name>\n",
    "\t\t<Authors>Sprague Theobald, Allan Kreda</Authors>\n",
    "\t\t<Rating>4.5/5</Rating>\n",
    "\t\t<Published Date>Augest 2012</Published Date>\n",
    "\t\t<Price>16.99</Price>\n",
    "\t</book>\n",
    "</books>  "
   ]
  },
  {
   "cell_type": "code",
   "execution_count": null,
   "metadata": {},
   "outputs": [],
   "source": []
  }
 ],
 "metadata": {
  "kernelspec": {
   "display_name": "Python 3",
   "language": "python",
   "name": "python3"
  },
  "language_info": {
   "codemirror_mode": {
    "name": "ipython",
    "version": 3
   },
   "file_extension": ".py",
   "mimetype": "text/x-python",
   "name": "python",
   "nbconvert_exporter": "python",
   "pygments_lexer": "ipython3",
   "version": "3.8.3"
  }
 },
 "nbformat": 4,
 "nbformat_minor": 4
}
