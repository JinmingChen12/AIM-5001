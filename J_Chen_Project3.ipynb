{
 "cells": [
  {
   "cell_type": "markdown",
   "metadata": {},
   "source": [
    "# Project 3 : Analyzing Chess Tournament Results\n",
    "\n",
    "## Jinming Chen, Alejandra Zapata"
   ]
  },
  {
   "cell_type": "markdown",
   "metadata": {},
   "source": [
    "# Introduction \n",
    "\n",
    "In this project, we will write the player name and total points into a pandas DataFrame, then into the .CSV file. Then we will  process the information from the second line for each player: state and pre-tournament rating. Finally, we will calculate and process the average pre-tournament rating for each player’s opponents."
   ]
  },
  {
   "cell_type": "code",
   "execution_count": 2,
   "metadata": {
    "scrolled": true
   },
   "outputs": [
    {
     "name": "stdout",
     "output_type": "stream",
     "text": [
      "-----------------------------------------------------------------------------------------\r\n",
      " Pair | Player Name                     |Total|Round|Round|Round|Round|Round|Round|Round| \r\n",
      " Num  | USCF ID / Rtg (Pre->Post)       | Pts |  1  |  2  |  3  |  4  |  5  |  6  |  7  | \r\n",
      "-----------------------------------------------------------------------------------------\r\n",
      "    1 | GARY HUA                        |6.0  |W  39|W  21|W  18|W  14|W   7|D  12|D   4|\r\n",
      "   ON | 15445895 / R: 1794   ->1817     |N:2  |W    |B    |W    |B    |W    |B    |W    |\r\n",
      "-----------------------------------------------------------------------------------------\r\n",
      "    2 | DAKSHESH DARURI                 |6.0  |W  63|W  58|L   4|W  17|W  16|W  20|W   7|\r\n",
      "   MI | 14598900 / R: 1553   ->1663     |N:2  |B    |W    |B    |W    |B    |W    |B    |\r\n",
      "-----------------------------------------------------------------------------------------\r\n",
      "    3 | ADITYA BAJAJ                    |6.0  |L   8|W  61|W  25|W  21|W  11|W  13|W  12|\r\n",
      "   MI | 14959604 / R: 1384   ->1640     |N:2  |W    |B    |W    |B    |W    |B    |W    |\r\n",
      "-----------------------------------------------------------------------------------------\r\n",
      "    4 | PATRICK H SCHILLING             |5.5  |W  23|D  28|W   2|W  26|D   5|W  19|D   1|\r\n",
      "   MI | 12616049 / R: 1716   ->1744     |N:2  |W    |B    |W    |B    |W    |B    |B    |\r\n",
      "-----------------------------------------------------------------------------------------\r\n",
      "    5 | HANSHI ZUO                      |5.5  |W  45|W  37|D  12|D  13|D   4|W  14|W  17|\r\n",
      "   MI | 14601533 / R: 1655   ->1690     |N:2  |B    |W    |B    |W    |B    |W    |B    |\r\n",
      "-----------------------------------------------------------------------------------------\r\n",
      "    6 | HANSEN SONG                     |5.0  |W  34|D  29|L  11|W  35|D  10|W  27|W  21|\r\n",
      "   OH | 15055204 / R: 1686   ->1687     |N:3  |W    |B    |W    |B    |B    |W    |B    |\r\n",
      "-----------------------------------------------------------------------------------------\r\n",
      "    7 | GARY DEE SWATHELL               |5.0  |W  57|W  46|W  13|W  11|L   1|W   9|L   2|\r\n",
      "   MI | 11146376 / R: 1649   ->1673     |N:3  |W    |B    |W    |B    |B    |W    |W    |\r\n",
      "-----------------------------------------------------------------------------------------\r\n",
      "    8 | EZEKIEL HOUGHTON                |5.0  |W   3|W  32|L  14|L   9|W  47|W  28|W  19|\r\n",
      "   MI | 15142253 / R: 1641P17->1657P24  |N:3  |B    |W    |B    |W    |B    |W    |W    |\r\n",
      "-----------------------------------------------------------------------------------------\r\n",
      "    9 | STEFANO LEE                     |5.0  |W  25|L  18|W  59|W   8|W  26|L   7|W  20|\r\n",
      "   ON | 14954524 / R: 1411   ->1564     |N:2  |W    |B    |W    |B    |W    |B    |B    |\r\n",
      "-----------------------------------------------------------------------------------------\r\n",
      "   10 | ANVIT RAO                       |5.0  |D  16|L  19|W  55|W  31|D   6|W  25|W  18|\r\n",
      "   MI | 14150362 / R: 1365   ->1544     |N:3  |W    |W    |B    |B    |W    |B    |W    |\r\n",
      "-----------------------------------------------------------------------------------------\r\n",
      "   11 | CAMERON WILLIAM MC LEMAN        |4.5  |D  38|W  56|W   6|L   7|L   3|W  34|W  26|\r\n",
      "   MI | 12581589 / R: 1712   ->1696     |N:3  |B    |W    |B    |W    |B    |W    |B    |\r\n",
      "-----------------------------------------------------------------------------------------\r\n",
      "   12 | KENNETH J TACK                  |4.5  |W  42|W  33|D   5|W  38|H    |D   1|L   3|\r\n",
      "   MI | 12681257 / R: 1663   ->1670     |N:3  |W    |B    |W    |B    |     |W    |B    |\r\n",
      "-----------------------------------------------------------------------------------------\r\n",
      "   13 | TORRANCE HENRY JR               |4.5  |W  36|W  27|L   7|D   5|W  33|L   3|W  32|\r\n",
      "   MI | 15082995 / R: 1666   ->1662     |N:3  |B    |W    |B    |B    |W    |W    |B    |\r\n",
      "-----------------------------------------------------------------------------------------\r\n",
      "   14 | BRADLEY SHAW                    |4.5  |W  54|W  44|W   8|L   1|D  27|L   5|W  31|\r\n",
      "   MI | 10131499 / R: 1610   ->1618     |N:3  |W    |B    |W    |W    |B    |B    |W    |\r\n",
      "-----------------------------------------------------------------------------------------\r\n",
      "   15 | ZACHARY JAMES HOUGHTON          |4.5  |D  19|L  16|W  30|L  22|W  54|W  33|W  38|\r\n",
      "   MI | 15619130 / R: 1220P13->1416P20  |N:3  |B    |B    |W    |W    |B    |B    |W    |\r\n",
      "-----------------------------------------------------------------------------------------\r\n",
      "   16 | MIKE NIKITIN                    |4.0  |D  10|W  15|H    |W  39|L   2|W  36|U    |\r\n",
      "   MI | 10295068 / R: 1604   ->1613     |N:3  |B    |W    |     |B    |W    |B    |     |\r\n",
      "-----------------------------------------------------------------------------------------\r\n",
      "   17 | RONALD GRZEGORCZYK              |4.0  |W  48|W  41|L  26|L   2|W  23|W  22|L   5|\r\n",
      "   MI | 10297702 / R: 1629   ->1610     |N:3  |W    |B    |W    |B    |W    |B    |W    |\r\n",
      "-----------------------------------------------------------------------------------------\r\n",
      "   18 | DAVID SUNDEEN                   |4.0  |W  47|W   9|L   1|W  32|L  19|W  38|L  10|\r\n",
      "   MI | 11342094 / R: 1600   ->1600     |N:3  |B    |W    |B    |W    |B    |W    |B    |\r\n",
      "-----------------------------------------------------------------------------------------\r\n",
      "   19 | DIPANKAR ROY                    |4.0  |D  15|W  10|W  52|D  28|W  18|L   4|L   8|\r\n",
      "   MI | 14862333 / R: 1564   ->1570     |N:3  |W    |B    |W    |B    |W    |W    |B    |\r\n",
      "-----------------------------------------------------------------------------------------\r\n",
      "   20 | JASON ZHENG                     |4.0  |L  40|W  49|W  23|W  41|W  28|L   2|L   9|\r\n",
      "   MI | 14529060 / R: 1595   ->1569     |N:4  |W    |B    |W    |B    |W    |B    |W    |\r\n",
      "-----------------------------------------------------------------------------------------\r\n",
      "   21 | DINH DANG BUI                   |4.0  |W  43|L   1|W  47|L   3|W  40|W  39|L   6|\r\n",
      "   ON | 15495066 / R: 1563P22->1562     |N:3  |B    |W    |B    |W    |W    |B    |W    |\r\n",
      "-----------------------------------------------------------------------------------------\r\n",
      "   22 | EUGENE L MCCLURE                |4.0  |W  64|D  52|L  28|W  15|H    |L  17|W  40|\r\n",
      "   MI | 12405534 / R: 1555   ->1529     |N:4  |W    |B    |W    |B    |     |W    |B    |\r\n",
      "-----------------------------------------------------------------------------------------\r\n",
      "   23 | ALAN BUI                        |4.0  |L   4|W  43|L  20|W  58|L  17|W  37|W  46|\r\n",
      "   ON | 15030142 / R: 1363   ->1371     |     |B    |W    |B    |W    |B    |W    |B    |\r\n",
      "-----------------------------------------------------------------------------------------\r\n",
      "   24 | MICHAEL R ALDRICH               |4.0  |L  28|L  47|W  43|L  25|W  60|W  44|W  39|\r\n",
      "   MI | 13469010 / R: 1229   ->1300     |N:4  |B    |W    |B    |B    |W    |W    |B    |\r\n",
      "-----------------------------------------------------------------------------------------\r\n",
      "   25 | LOREN SCHWIEBERT                |3.5  |L   9|W  53|L   3|W  24|D  34|L  10|W  47|\r\n",
      "   MI | 12486656 / R: 1745   ->1681     |N:4  |B    |W    |B    |W    |B    |W    |B    |\r\n",
      "-----------------------------------------------------------------------------------------\r\n",
      "   26 | MAX ZHU                         |3.5  |W  49|W  40|W  17|L   4|L   9|D  32|L  11|\r\n",
      "   ON | 15131520 / R: 1579   ->1564     |N:4  |B    |W    |B    |W    |B    |W    |W    |\r\n",
      "-----------------------------------------------------------------------------------------\r\n",
      "   27 | GAURAV GIDWANI                  |3.5  |W  51|L  13|W  46|W  37|D  14|L   6|U    |\r\n",
      "   MI | 14476567 / R: 1552   ->1539     |N:4  |W    |B    |W    |B    |W    |B    |     |\r\n",
      "-----------------------------------------------------------------------------------------\r\n",
      "   28 | SOFIA ADINA STANESCU-BELLU      |3.5  |W  24|D   4|W  22|D  19|L  20|L   8|D  36|\r\n",
      "   MI | 14882954 / R: 1507   ->1513     |N:3  |W    |W    |B    |W    |B    |B    |W    |\r\n",
      "-----------------------------------------------------------------------------------------\r\n",
      "   29 | CHIEDOZIE OKORIE                |3.5  |W  50|D   6|L  38|L  34|W  52|W  48|U    |\r\n",
      "   MI | 15323285 / R: 1602P6 ->1508P12  |N:4  |B    |W    |B    |W    |W    |B    |     |\r\n",
      "-----------------------------------------------------------------------------------------\r\n",
      "   30 | GEORGE AVERY JONES              |3.5  |L  52|D  64|L  15|W  55|L  31|W  61|W  50|\r\n",
      "   ON | 12577178 / R: 1522   ->1444     |     |W    |B    |B    |W    |W    |B    |B    |\r\n",
      "-----------------------------------------------------------------------------------------\r\n",
      "   31 | RISHI SHETTY                    |3.5  |L  58|D  55|W  64|L  10|W  30|W  50|L  14|\r\n",
      "   MI | 15131618 / R: 1494   ->1444     |     |B    |W    |B    |W    |B    |W    |B    |\r\n",
      "-----------------------------------------------------------------------------------------\r\n",
      "   32 | JOSHUA PHILIP MATHEWS           |3.5  |W  61|L   8|W  44|L  18|W  51|D  26|L  13|\r\n",
      "   ON | 14073750 / R: 1441   ->1433     |N:4  |W    |B    |W    |B    |W    |B    |W    |\r\n",
      "-----------------------------------------------------------------------------------------\r\n",
      "   33 | JADE GE                         |3.5  |W  60|L  12|W  50|D  36|L  13|L  15|W  51|\r\n",
      "   MI | 14691842 / R: 1449   ->1421     |     |B    |W    |B    |W    |B    |W    |B    |\r\n",
      "-----------------------------------------------------------------------------------------\r\n",
      "   34 | MICHAEL JEFFERY THOMAS          |3.5  |L   6|W  60|L  37|W  29|D  25|L  11|W  52|\r\n",
      "   MI | 15051807 / R: 1399   ->1400     |     |B    |W    |B    |B    |W    |B    |W    |\r\n",
      "-----------------------------------------------------------------------------------------\r\n",
      "   35 | JOSHUA DAVID LEE                |3.5  |L  46|L  38|W  56|L   6|W  57|D  52|W  48|\r\n",
      "   MI | 14601397 / R: 1438   ->1392     |     |W    |W    |B    |W    |B    |B    |W    |\r\n",
      "-----------------------------------------------------------------------------------------\r\n",
      "   36 | SIDDHARTH JHA                   |3.5  |L  13|W  57|W  51|D  33|H    |L  16|D  28|\r\n",
      "   MI | 14773163 / R: 1355   ->1367     |N:4  |W    |B    |W    |B    |     |W    |B    |\r\n",
      "-----------------------------------------------------------------------------------------\r\n",
      "   37 | AMIYATOSH PWNANANDAM            |3.5  |B    |L   5|W  34|L  27|H    |L  23|W  61|\r\n",
      "   MI | 15489571 / R:  980P12->1077P17  |     |     |B    |W    |W    |     |B    |W    |\r\n",
      "-----------------------------------------------------------------------------------------\r\n",
      "   38 | BRIAN LIU                       |3.0  |D  11|W  35|W  29|L  12|H    |L  18|L  15|\r\n",
      "   MI | 15108523 / R: 1423   ->1439     |N:4  |W    |B    |W    |W    |     |B    |B    |\r\n",
      "-----------------------------------------------------------------------------------------\r\n",
      "   39 | JOEL R HENDON                   |3.0  |L   1|W  54|W  40|L  16|W  44|L  21|L  24|\r\n",
      "   MI | 12923035 / R: 1436P23->1413     |N:4  |B    |W    |B    |W    |B    |W    |W    |\r\n",
      "-----------------------------------------------------------------------------------------\r\n",
      "   40 | FOREST ZHANG                    |3.0  |W  20|L  26|L  39|W  59|L  21|W  56|L  22|\r\n",
      "   MI | 14892710 / R: 1348   ->1346     |     |B    |B    |W    |W    |B    |W    |W    |\r\n",
      "-----------------------------------------------------------------------------------------\r\n",
      "   41 | KYLE WILLIAM MURPHY             |3.0  |W  59|L  17|W  58|L  20|X    |U    |U    |\r\n",
      "   MI | 15761443 / R: 1403P5 ->1341P9   |     |B    |W    |B    |W    |     |     |     |\r\n",
      "-----------------------------------------------------------------------------------------\r\n",
      "   42 | JARED GE                        |3.0  |L  12|L  50|L  57|D  60|D  61|W  64|W  56|\r\n",
      "   MI | 14462326 / R: 1332   ->1256     |     |B    |W    |B    |B    |W    |W    |B    |\r\n",
      "-----------------------------------------------------------------------------------------\r\n",
      "   43 | ROBERT GLEN VASEY               |3.0  |L  21|L  23|L  24|W  63|W  59|L  46|W  55|\r\n",
      "   MI | 14101068 / R: 1283   ->1244     |     |W    |B    |W    |W    |B    |B    |W    |\r\n",
      "-----------------------------------------------------------------------------------------\r\n",
      "   44 | JUSTIN D SCHILLING              |3.0  |B    |L  14|L  32|W  53|L  39|L  24|W  59|\r\n",
      "   MI | 15323504 / R: 1199   ->1199     |     |     |W    |B    |B    |W    |B    |W    |\r\n",
      "-----------------------------------------------------------------------------------------\r\n",
      "   45 | DEREK YAN                       |3.0  |L   5|L  51|D  60|L  56|W  63|D  55|W  58|\r\n",
      "   MI | 15372807 / R: 1242   ->1191     |     |W    |B    |W    |B    |W    |B    |W    |\r\n",
      "-----------------------------------------------------------------------------------------\r\n",
      "   46 | JACOB ALEXANDER LAVALLEY        |3.0  |W  35|L   7|L  27|L  50|W  64|W  43|L  23|\r\n",
      "   MI | 15490981 / R:  377P3 ->1076P10  |     |B    |W    |B    |W    |B    |W    |W    |\r\n",
      "-----------------------------------------------------------------------------------------\r\n",
      "   47 | ERIC WRIGHT                     |2.5  |L  18|W  24|L  21|W  61|L   8|D  51|L  25|\r\n",
      "   MI | 12533115 / R: 1362   ->1341     |     |W    |B    |W    |B    |W    |B    |W    |\r\n",
      "-----------------------------------------------------------------------------------------\r\n",
      "   48 | DANIEL KHAIN                    |2.5  |L  17|W  63|H    |D  52|H    |L  29|L  35|\r\n",
      "   MI | 14369165 / R: 1382   ->1335     |     |B    |W    |     |B    |     |W    |B    |\r\n",
      "-----------------------------------------------------------------------------------------\r\n",
      "   49 | MICHAEL J MARTIN                |2.5  |L  26|L  20|D  63|D  64|W  58|H    |U    |\r\n",
      "   MI | 12531685 / R: 1291P12->1259P17  |     |W    |W    |B    |W    |B    |     |     |\r\n",
      "-----------------------------------------------------------------------------------------\r\n",
      "   50 | SHIVAM JHA                      |2.5  |L  29|W  42|L  33|W  46|H    |L  31|L  30|\r\n",
      "   MI | 14773178 / R: 1056   ->1111     |     |W    |B    |W    |B    |     |B    |W    |\r\n",
      "-----------------------------------------------------------------------------------------\r\n",
      "   51 | TEJAS AYYAGARI                  |2.5  |L  27|W  45|L  36|W  57|L  32|D  47|L  33|\r\n",
      "   MI | 15205474 / R: 1011   ->1097     |     |B    |W    |B    |W    |B    |W    |W    |\r\n",
      "-----------------------------------------------------------------------------------------\r\n",
      "   52 | ETHAN GUO                       |2.5  |W  30|D  22|L  19|D  48|L  29|D  35|L  34|\r\n",
      "   MI | 14918803 / R:  935   ->1092     |N:4  |B    |W    |B    |W    |B    |W    |B    |\r\n",
      "-----------------------------------------------------------------------------------------\r\n",
      "   53 | JOSE C YBARRA                   |2.0  |H    |L  25|H    |L  44|U    |W  57|U    |\r\n",
      "   MI | 12578849 / R: 1393   ->1359     |     |     |B    |     |W    |     |W    |     |\r\n",
      "-----------------------------------------------------------------------------------------\r\n",
      "   54 | LARRY HODGE                     |2.0  |L  14|L  39|L  61|B    |L  15|L  59|W  64|\r\n",
      "   MI | 12836773 / R: 1270   ->1200     |     |B    |B    |W    |     |W    |B    |W    |\r\n",
      "-----------------------------------------------------------------------------------------\r\n",
      "   55 | ALEX KONG                       |2.0  |L  62|D  31|L  10|L  30|B    |D  45|L  43|\r\n",
      "   MI | 15412571 / R: 1186   ->1163     |     |W    |B    |W    |B    |     |W    |B    |\r\n",
      "-----------------------------------------------------------------------------------------\r\n",
      "   56 | MARISA RICCI                    |2.0  |H    |L  11|L  35|W  45|H    |L  40|L  42|\r\n",
      "   MI | 14679887 / R: 1153   ->1140     |     |     |B    |W    |W    |     |B    |W    |\r\n",
      "-----------------------------------------------------------------------------------------\r\n",
      "   57 | MICHAEL LU                      |2.0  |L   7|L  36|W  42|L  51|L  35|L  53|B    |\r\n",
      "   MI | 15113330 / R: 1092   ->1079     |     |B    |W    |W    |B    |W    |B    |     |\r\n",
      "-----------------------------------------------------------------------------------------\r\n",
      "   58 | VIRAJ MOHILE                    |2.0  |W  31|L   2|L  41|L  23|L  49|B    |L  45|\r\n",
      "   MI | 14700365 / R:  917   -> 941     |     |W    |B    |W    |B    |W    |     |B    |\r\n",
      "-----------------------------------------------------------------------------------------\r\n",
      "   59 | SEAN M MC CORMICK               |2.0  |L  41|B    |L   9|L  40|L  43|W  54|L  44|\r\n",
      "   MI | 12841036 / R:  853   -> 878     |     |W    |     |B    |B    |W    |W    |B    |\r\n",
      "-----------------------------------------------------------------------------------------\r\n",
      "   60 | JULIA SHEN                      |1.5  |L  33|L  34|D  45|D  42|L  24|H    |U    |\r\n",
      "   MI | 14579262 / R:  967   -> 984     |     |W    |B    |B    |W    |B    |     |     |\r\n",
      "-----------------------------------------------------------------------------------------\r\n",
      "   61 | JEZZEL FARKAS                   |1.5  |L  32|L   3|W  54|L  47|D  42|L  30|L  37|\r\n",
      "   ON | 15771592 / R:  955P11-> 979P18  |     |B    |W    |B    |W    |B    |W    |B    |\r\n",
      "-----------------------------------------------------------------------------------------\r\n",
      "   62 | ASHWIN BALAJI                   |1.0  |W  55|U    |U    |U    |U    |U    |U    |\r\n",
      "   MI | 15219542 / R: 1530   ->1535     |     |B    |     |     |     |     |     |     |\r\n",
      "-----------------------------------------------------------------------------------------\r\n",
      "   63 | THOMAS JOSEPH HOSMER            |1.0  |L   2|L  48|D  49|L  43|L  45|H    |U    |\r\n",
      "   MI | 15057092 / R: 1175   ->1125     |     |W    |B    |W    |B    |B    |     |     |\r\n",
      "-----------------------------------------------------------------------------------------\r\n",
      "   64 | BEN LI                          |1.0  |L  22|D  30|L  31|D  49|L  46|L  42|L  54|\r\n",
      "   MI | 15006561 / R: 1163   ->1112     |     |B    |W    |W    |B    |W    |B    |B    |\r\n",
      "-----------------------------------------------------------------------------------------\n"
     ]
    }
   ],
   "source": [
    "#import regex\n",
    "import re\n",
    "#import pandas library\n",
    "import pandas as pd\n",
    "#import urllib library to open data\n",
    "from urllib.request import urlopen\n",
    "#import numpy\n",
    "import numpy as np\n",
    "#uploaded data to github\n",
    "data = urlopen(\"https://raw.githubusercontent.com/AlejandraZS10/AIM-5001-Project-3/master/tournamentinfo.txt\")\n",
    "#make a string and use unicode transformation format\n",
    "dt=str(data.read(), \"utf-8\")\n",
    "#display data\n",
    "print(dt)"
   ]
  },
  {
   "cell_type": "markdown",
   "metadata": {},
   "source": [
    "## 1. Player Name \n",
    "\n",
    "* Approach: Find the pattern for names and use list comprehension to change from all uppercase to capitalized letters with title( )."
   ]
  },
  {
   "cell_type": "code",
   "execution_count": 3,
   "metadata": {},
   "outputs": [
    {
     "name": "stdout",
     "output_type": "stream",
     "text": [
      "['Gary Hua', 'Dakshesh Daruri', 'Aditya Bajaj', 'Patrick H Schilling', 'Hanshi Zuo', 'Hansen Song', 'Gary Dee Swathell', 'Ezekiel Houghton', 'Stefano Lee', 'Anvit Rao', 'William Mc Leman', 'Kenneth J Tack', 'Torrance Henry Jr', 'Bradley Shaw', 'Zachary James Houghton', 'Mike Nikitin', 'Ronald Grzegorczyk', 'David Sundeen', 'Dipankar Roy', 'Jason Zheng', 'Dinh Dang Bui', 'Eugene L Mcclure', 'Alan Bui', 'Michael R Aldrich', 'Loren Schwiebert', 'Max Zhu', 'Gaurav Gidwani', 'Sofia Adina Stanescu-Bellu', 'Chiedozie Okorie', 'George Avery Jones', 'Rishi Shetty', 'Joshua Philip Mathews', 'Jade Ge', 'Michael Jeffery Thomas', 'Joshua David Lee', 'Siddharth Jha', 'Amiyatosh Pwnanandam', 'Brian Liu', 'Joel R Hendon', 'Forest Zhang', 'Kyle William Murphy', 'Jared Ge', 'Robert Glen Vasey', 'Justin D Schilling', 'Derek Yan', 'Jacob Alexander Lavalley', 'Eric Wright', 'Daniel Khain', 'Michael J Martin', 'Shivam Jha', 'Tejas Ayyagari', 'Ethan Guo', 'Jose C Ybarra', 'Larry Hodge', 'Alex Kong', 'Marisa Ricci', 'Michael Lu', 'Viraj Mohile', 'M Mc Cormick', 'Julia Shen', 'Jezzel Farkas', 'Ashwin Balaji', 'Thomas Joseph Hosmer', 'Ben Li']\n"
     ]
    }
   ],
   "source": [
    "#find pattern that has up to four words in upper case, used ? for the cases where it's not four words.\n",
    "#Specify that after there is more than two white spaces to avoid any unwanted cases.\n",
    "pattern = r'([A-Z]+\\s?[A-Z]+\\s[A-Z\\-]+[A-Z]+)(?=\\s\\s)'\n",
    "\n",
    "regex= re.compile(pattern)\n",
    "names=regex.findall(dt)\n",
    "#names is the list of the uppercase\n",
    "names\n",
    "\n",
    "new_names = [name.title() for name in names]\n",
    "\n",
    "print(new_names)"
   ]
  },
  {
   "cell_type": "markdown",
   "metadata": {},
   "source": [
    " ## 2. States\n",
    " * Approach: Find the pattern and extract using regex"
   ]
  },
  {
   "cell_type": "code",
   "execution_count": 4,
   "metadata": {},
   "outputs": [
    {
     "name": "stdout",
     "output_type": "stream",
     "text": [
      "['ON', 'MI', 'MI', 'MI', 'MI', 'OH', 'MI', 'MI', 'ON', 'MI', 'MI', 'MI', 'MI', 'MI', 'MI', 'MI', 'MI', 'MI', 'MI', 'MI', 'ON', 'MI', 'ON', 'MI', 'MI', 'ON', 'MI', 'MI', 'MI', 'ON', 'MI', 'ON', 'MI', 'MI', 'MI', 'MI', 'MI', 'MI', 'MI', 'MI', 'MI', 'MI', 'MI', 'MI', 'MI', 'MI', 'MI', 'MI', 'MI', 'MI', 'MI', 'MI', 'MI', 'MI', 'MI', 'MI', 'MI', 'MI', 'MI', 'MI', 'ON', 'MI', 'MI', 'MI']\n"
     ]
    }
   ],
   "source": [
    "#find a pattern of two capital letters preceding two spaces and one space after as the specific pattern\n",
    "pattern = r'(?<=\\s\\s)([A-Z]{2})(?=\\s)'\n",
    "regex= re.compile(pattern)\n",
    "states=regex.findall(dt)\n",
    "#states is the list with the specifc value\n",
    "print(states)"
   ]
  },
  {
   "cell_type": "markdown",
   "metadata": {},
   "source": [
    "## 3. Total Number of Points Extraction\n",
    "* Approach: Find the pattern and extract using regex"
   ]
  },
  {
   "cell_type": "code",
   "execution_count": 5,
   "metadata": {},
   "outputs": [
    {
     "name": "stdout",
     "output_type": "stream",
     "text": [
      "['6.0', '6.0', '6.0', '5.5', '5.5', '5.0', '5.0', '5.0', '5.0', '5.0', '4.5', '4.5', '4.5', '4.5', '4.5', '4.0', '4.0', '4.0', '4.0', '4.0', '4.0', '4.0', '4.0', '4.0', '3.5', '3.5', '3.5', '3.5', '3.5', '3.5', '3.5', '3.5', '3.5', '3.5', '3.5', '3.5', '3.5', '3.0', '3.0', '3.0', '3.0', '3.0', '3.0', '3.0', '3.0', '3.0', '2.5', '2.5', '2.5', '2.5', '2.5', '2.5', '2.0', '2.0', '2.0', '2.0', '2.0', '2.0', '2.0', '1.5', '1.5', '1.0', '1.0', '1.0']\n"
     ]
    }
   ],
   "source": [
    "#find digits with float format\n",
    "pattern = r'[0-9]\\.[0-9]'\n",
    "regex= re.compile(pattern)\n",
    "total_points=regex.findall(dt)\n",
    "#total_points is the points total from all rounds\n",
    "print(total_points)"
   ]
  },
  {
   "cell_type": "markdown",
   "metadata": {},
   "source": [
    "## 4. Pre-Rating Extraction¶\n",
    "* Approach: Find the pattern and extract using regex"
   ]
  },
  {
   "cell_type": "code",
   "execution_count": 6,
   "metadata": {},
   "outputs": [
    {
     "name": "stdout",
     "output_type": "stream",
     "text": [
      "['1794', '1553', '1384', '1716', '1655', '1686', '1649', '1641', '1411', '1365', '1712', '1663', '1666', '1610', '1220', '1604', '1629', '1600', '1564', '1595', '1563', '1555', '1363', '1229', '1745', '1579', '1552', '1507', '1602', '1522', '1494', '1441', '1449', '1399', '1438', '1355', '980', '1423', '1436', '1348', '1403', '1332', '1283', '1199', '1242', '377', '1362', '1382', '1291', '1056', '1011', '935', '1393', '1270', '1186', '1153', '1092', '917', '853', '967', '955', '1530', '1175', '1163']\n"
     ]
    }
   ],
   "source": [
    "#find numbers and look behind for R: which is the rating\n",
    "pattern = r'((?<=R:\\s)[0-9]+|(?<=R:\\s\\s)[0-9]+)'\n",
    "regex= re.compile(pattern)\n",
    "prerating=regex.findall(dt)\n",
    "#prerating is the list of each players pre rating\n",
    "print(prerating)"
   ]
  },
  {
   "cell_type": "markdown",
   "metadata": {},
   "source": [
    "## 5.  The average pre-tournament rating for each player’s opponents\n",
    "* Approach: Use regex to extract the section of the text of the points."
   ]
  },
  {
   "cell_type": "code",
   "execution_count": 7,
   "metadata": {
    "scrolled": true
   },
   "outputs": [
    {
     "name": "stdout",
     "output_type": "stream",
     "text": [
      "['39', '21', '18', '14', '7', '12', '4', '63', '58', '4', '17', '16', '20', '7', '8', '61', '25', '21', '11', '13', '12', '23', '28', '2', '26', '5', '19', '1', '45', '37', '12', '13', '4', '14', '17', '34', '29', '11', '35', '10', '27', '21', '57', '46', '13', '11', '1', '9', '2', '3', '32', '14', '9', '47', '28', '19', '25', '18', '59', '8', '26', '7', '20', '16', '19', '55', '31', '6', '25', '18', '38', '56', '6', '7', '3', '34', '26', '42', '33', '5', '38', '    ', '1', '3', '36', '27', '7', '5', '33', '3', '32', '54', '44', '8', '1', '27', '5', '31', '19', '16', '30', '22', '54', '33', '38', '10', '15', '    ', '39', '2', '36', '    ', '48', '41', '26', '2', '23', '22', '5', '47', '9', '1', '32', '19', '38', '10', '15', '10', '52', '28', '18', '4', '8', '40', '49', '23', '41', '28', '2', '9', '43', '1', '47', '3', '40', '39', '6', '64', '52', '28', '15', '    ', '17', '40', '4', '43', '20', '58', '17', '37', '46', '28', '47', '43', '25', '60', '44', '39', '9', '53', '3', '24', '34', '10', '47', '49', '40', '17', '4', '9', '32', '11', '51', '13', '46', '37', '14', '6', '    ', '24', '4', '22', '19', '20', '8', '36', '50', '6', '38', '34', '52', '48', '    ', '52', '64', '15', '55', '31', '61', '50', '58', '55', '64', '10', '30', '50', '14', '61', '8', '44', '18', '51', '26', '13', '60', '12', '50', '36', '13', '15', '51', '6', '60', '37', '29', '25', '11', '52', '46', '38', '56', '6', '57', '52', '48', '13', '57', '51', '33', '    ', '16', '28', '    ', '5', '34', '27', '    ', '23', '61', '11', '35', '29', '12', '    ', '18', '15', '1', '54', '40', '16', '44', '21', '24', '20', '26', '39', '59', '21', '56', '22', '59', '17', '58', '20', '    ', '    ', '    ', '12', '50', '57', '60', '61', '64', '56', '21', '23', '24', '63', '59', '46', '55', '    ', '14', '32', '53', '39', '24', '59', '5', '51', '60', '56', '63', '55', '58', '35', '7', '27', '50', '64', '43', '23', '18', '24', '21', '61', '8', '51', '25', '17', '63', '    ', '52', '    ', '29', '35', '26', '20', '63', '64', '58', '    ', '    ', '29', '42', '33', '46', '    ', '31', '30', '27', '45', '36', '57', '32', '47', '33', '30', '22', '19', '48', '29', '35', '34', '    ', '25', '    ', '44', '    ', '57', '    ', '14', '39', '61', '    ', '15', '59', '64', '62', '31', '10', '30', '    ', '45', '43', '    ', '11', '35', '45', '    ', '40', '42', '7', '36', '42', '51', '35', '53', '    ', '31', '2', '41', '23', '49', '    ', '45', '41', '    ', '9', '40', '43', '54', '44', '33', '34', '45', '42', '24', '    ', '    ', '32', '3', '54', '47', '42', '30', '37', '55', '    ', '    ', '    ', '    ', '    ', '    ', '2', '48', '49', '43', '45', '    ', '    ', '22', '30', '31', '49', '46', '42', '54']\n"
     ]
    }
   ],
   "source": [
    "#pattern looks behind  for lines starting with | and upper case \n",
    "#then asks to show any type of characters and it follows by |\n",
    "\n",
    "pattern = r'(?<=\\|[A-Z])(.*)(?<=\\|)'\n",
    "regex= re.compile(pattern)\n",
    "\n",
    "#numbers is the list of the points section of the text\n",
    "\n",
    "numbers=regex.findall(dt)\n",
    "\n",
    "\n",
    "#create a new list using a function to add only  the odd lines and get rid of the ones with no points\n",
    "\n",
    "new_l=[]\n",
    "\n",
    "def altElement(a):\n",
    "    for index, element in enumerate(a):\n",
    "        if index % 2 == 1:\n",
    "            new_l.append(element)\n",
    "\n",
    "            \n",
    "#use our new function to remove the odd lines form our list\n",
    "#make it a string to keep using regex\n",
    "\n",
    "altElement(numbers)\n",
    "str_numbers=str(new_l).strip('[]')\n",
    "\n",
    "#the pattern looks for all numbers of 1-2 digits or four white spaces that followed by |\n",
    "\n",
    "pattern = r'([0-9]{1,2}|[\\s]{4})(?=\\|)'\n",
    "regex= re.compile(pattern)\n",
    "numbers_lst=regex.findall(str_numbers)\n",
    "\n",
    "#print the list of numbers\n",
    "print(numbers_lst)\n"
   ]
  },
  {
   "cell_type": "code",
   "execution_count": 8,
   "metadata": {},
   "outputs": [
    {
     "name": "stdout",
     "output_type": "stream",
     "text": [
      "['1605', '1469', '1563', '1573', '1500', '1518', '1372', '1468', '1523', '1554', '1467', '1291', '1497', '1515', '1483', '989', '1498', '1480', '1426', '1410', '1470', '1114', '1213', '1357', '1363', '1506', '1047', '1522', '1125', '1144', '1259', '1378', '1276', '1375', '1149', '1189', '989', '1319', '1429', '1390', '713', '1149', '1106', '1137', '1152', '1357', '1392', '968', '918', '1110', '1356', '1494', '576', '1033', '1205', '1010', '1168', '1192', '1130', '950', '1327', '169', '964', '1263']\n",
      "64\n"
     ]
    }
   ],
   "source": [
    "#import mean from statistics library\n",
    "from statistics import mean\n",
    "\n",
    "# Creating a list called \"ave_opp_rating\" \n",
    "ave_opp_rating = []\n",
    "\n",
    "# Define i = 0\n",
    "i = 0    \n",
    "\n",
    "# Creaing a list that maintains player opponents rating\n",
    "players_opp_rating = []\n",
    "       \n",
    "# Creating a for loop \n",
    "for oppen_id in numbers_lst:\n",
    "\n",
    "# If the  opponent is empty, then append 0. \n",
    " \n",
    "    if oppen_id == '    ':\n",
    "        players_opp_rating.append(0)\n",
    "        \n",
    "# Find the pre-rating for each opponents by using the index     \n",
    "# Append the pre-rating to new list player_opp_id\n",
    "    else:      \n",
    "        players_opp_rating.append(int(prerating[int(oppen_id)- 1]))\n",
    "        \n",
    "# If i = 7 (7 rounds), we move to the next player. \n",
    "    i += 1\n",
    "    if i == 7:       \n",
    "        i = 0      \n",
    "# Calculating the average of the opponents pre-rating in to a new list called \"ave_opp_rating\" \n",
    "        ave_opp_rating.append(str(int(mean(players_opp_rating))))\n",
    "        players_opp_rating = []\n",
    "             \n",
    "print(ave_opp_rating)\n",
    "print(len(ave_opp_rating))   \n",
    "  "
   ]
  },
  {
   "cell_type": "markdown",
   "metadata": {},
   "source": [
    " # Dataframe and  into the .CSV file"
   ]
  },
  {
   "cell_type": "code",
   "execution_count": 9,
   "metadata": {},
   "outputs": [
    {
     "data": {
      "text/html": [
       "<div>\n",
       "<style scoped>\n",
       "    .dataframe tbody tr th:only-of-type {\n",
       "        vertical-align: middle;\n",
       "    }\n",
       "\n",
       "    .dataframe tbody tr th {\n",
       "        vertical-align: top;\n",
       "    }\n",
       "\n",
       "    .dataframe thead th {\n",
       "        text-align: right;\n",
       "    }\n",
       "</style>\n",
       "<table border=\"1\" class=\"dataframe\">\n",
       "  <thead>\n",
       "    <tr style=\"text-align: right;\">\n",
       "      <th></th>\n",
       "      <th>Player Name</th>\n",
       "      <th>State</th>\n",
       "      <th>Total Number of Points</th>\n",
       "      <th>Player Pre-Rating</th>\n",
       "      <th>Average pre-tournament opponent rating</th>\n",
       "    </tr>\n",
       "  </thead>\n",
       "  <tbody>\n",
       "    <tr>\n",
       "      <th>0</th>\n",
       "      <td>Gary Hua</td>\n",
       "      <td>ON</td>\n",
       "      <td>6.0</td>\n",
       "      <td>1794</td>\n",
       "      <td>1605</td>\n",
       "    </tr>\n",
       "    <tr>\n",
       "      <th>1</th>\n",
       "      <td>Dakshesh Daruri</td>\n",
       "      <td>MI</td>\n",
       "      <td>6.0</td>\n",
       "      <td>1553</td>\n",
       "      <td>1469</td>\n",
       "    </tr>\n",
       "    <tr>\n",
       "      <th>2</th>\n",
       "      <td>Aditya Bajaj</td>\n",
       "      <td>MI</td>\n",
       "      <td>6.0</td>\n",
       "      <td>1384</td>\n",
       "      <td>1563</td>\n",
       "    </tr>\n",
       "    <tr>\n",
       "      <th>3</th>\n",
       "      <td>Patrick H Schilling</td>\n",
       "      <td>MI</td>\n",
       "      <td>5.5</td>\n",
       "      <td>1716</td>\n",
       "      <td>1573</td>\n",
       "    </tr>\n",
       "    <tr>\n",
       "      <th>4</th>\n",
       "      <td>Hanshi Zuo</td>\n",
       "      <td>MI</td>\n",
       "      <td>5.5</td>\n",
       "      <td>1655</td>\n",
       "      <td>1500</td>\n",
       "    </tr>\n",
       "    <tr>\n",
       "      <th>...</th>\n",
       "      <td>...</td>\n",
       "      <td>...</td>\n",
       "      <td>...</td>\n",
       "      <td>...</td>\n",
       "      <td>...</td>\n",
       "    </tr>\n",
       "    <tr>\n",
       "      <th>59</th>\n",
       "      <td>Julia Shen</td>\n",
       "      <td>MI</td>\n",
       "      <td>1.5</td>\n",
       "      <td>967</td>\n",
       "      <td>950</td>\n",
       "    </tr>\n",
       "    <tr>\n",
       "      <th>60</th>\n",
       "      <td>Jezzel Farkas</td>\n",
       "      <td>ON</td>\n",
       "      <td>1.5</td>\n",
       "      <td>955</td>\n",
       "      <td>1327</td>\n",
       "    </tr>\n",
       "    <tr>\n",
       "      <th>61</th>\n",
       "      <td>Ashwin Balaji</td>\n",
       "      <td>MI</td>\n",
       "      <td>1.0</td>\n",
       "      <td>1530</td>\n",
       "      <td>169</td>\n",
       "    </tr>\n",
       "    <tr>\n",
       "      <th>62</th>\n",
       "      <td>Thomas Joseph Hosmer</td>\n",
       "      <td>MI</td>\n",
       "      <td>1.0</td>\n",
       "      <td>1175</td>\n",
       "      <td>964</td>\n",
       "    </tr>\n",
       "    <tr>\n",
       "      <th>63</th>\n",
       "      <td>Ben Li</td>\n",
       "      <td>MI</td>\n",
       "      <td>1.0</td>\n",
       "      <td>1163</td>\n",
       "      <td>1263</td>\n",
       "    </tr>\n",
       "  </tbody>\n",
       "</table>\n",
       "<p>64 rows × 5 columns</p>\n",
       "</div>"
      ],
      "text/plain": [
       "             Player Name State Total Number of Points Player Pre-Rating  \\\n",
       "0               Gary Hua    ON                    6.0              1794   \n",
       "1        Dakshesh Daruri    MI                    6.0              1553   \n",
       "2           Aditya Bajaj    MI                    6.0              1384   \n",
       "3    Patrick H Schilling    MI                    5.5              1716   \n",
       "4             Hanshi Zuo    MI                    5.5              1655   \n",
       "..                   ...   ...                    ...               ...   \n",
       "59            Julia Shen    MI                    1.5               967   \n",
       "60         Jezzel Farkas    ON                    1.5               955   \n",
       "61         Ashwin Balaji    MI                    1.0              1530   \n",
       "62  Thomas Joseph Hosmer    MI                    1.0              1175   \n",
       "63                Ben Li    MI                    1.0              1163   \n",
       "\n",
       "   Average pre-tournament opponent rating  \n",
       "0                                    1605  \n",
       "1                                    1469  \n",
       "2                                    1563  \n",
       "3                                    1573  \n",
       "4                                    1500  \n",
       "..                                    ...  \n",
       "59                                    950  \n",
       "60                                   1327  \n",
       "61                                    169  \n",
       "62                                    964  \n",
       "63                                   1263  \n",
       "\n",
       "[64 rows x 5 columns]"
      ]
     },
     "execution_count": 9,
     "metadata": {},
     "output_type": "execute_result"
    }
   ],
   "source": [
    "# Creating 5 columns in the file\n",
    "tournament_file={'Player Name': new_names,'State': states, 'Total Number of Points':total_points,'Player Pre-Rating':prerating,'Average pre-tournament opponent rating':ave_opp_rating}\n",
    " \n",
    "# convert it to dataframe\n",
    "tournament_df_file=pd.DataFrame(tournament_file)\n",
    "tournament_df_file"
   ]
  },
  {
   "cell_type": "code",
   "execution_count": 12,
   "metadata": {},
   "outputs": [],
   "source": [
    "# convert \"tournament_df_file\" to csv in my machine \n",
    "\n",
    "tournament_df_file.to_csv(r'C:\\Users\\11946\\Documents\\GitHub\\AIM-5001\\J_Chen_Project_3.csv')"
   ]
  },
  {
   "cell_type": "markdown",
   "metadata": {},
   "source": [
    "Reference: https://datatofish.com/export-dataframe-to-csv/"
   ]
  }
 ],
 "metadata": {
  "kernelspec": {
   "display_name": "Python 3",
   "language": "python",
   "name": "python3"
  },
  "language_info": {
   "codemirror_mode": {
    "name": "ipython",
    "version": 3
   },
   "file_extension": ".py",
   "mimetype": "text/x-python",
   "name": "python",
   "nbconvert_exporter": "python",
   "pygments_lexer": "ipython3",
   "version": "3.8.3"
  }
 },
 "nbformat": 4,
 "nbformat_minor": 4
}
