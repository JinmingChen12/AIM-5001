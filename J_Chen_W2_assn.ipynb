{
 "cells": [
  {
   "cell_type": "code",
   "execution_count": 26,
   "metadata": {},
   "outputs": [
    {
     "name": "stdout",
     "output_type": "stream",
     "text": [
      "['high', 'high', '2', '4', 'med', 'low', 'unacc']\n",
      "['high', 'high', '4', 'more', 'small', 'high', 'acc']\n",
      "['high', 'high', '4', 'more', 'big', 'low', 'unacc']\n",
      "['high', 'low', '2', 'more', 'big', 'high', 'acc']\n",
      "['vhigh', 'low', '3', '2', 'med', 'med', 'unacc']\n",
      "['low', 'high', '2', '2', 'small', 'low', 'unacc']\n",
      "['med', 'med', '4', 'more', 'med', 'high', 'vgood']\n",
      "['low', 'low', '3', '2', 'big', 'med', 'unacc']\n",
      "['vhigh', 'low', '2', '2', 'small', 'low', 'unacc']\n",
      "['vhigh', 'high', '4', '4', 'med', 'low', 'unacc']\n",
      "['low', 'low', '2', '2', 'med', 'med', 'unacc']\n",
      "['vhigh', 'low', '4', 'more', 'small', 'high', 'acc']\n",
      "['high', 'low', '2', '4', 'big', 'med', 'acc']\n",
      "['low', 'vhigh', '3', 'more', 'big', 'low', 'unacc']\n",
      "['high', 'low', '5more', '2', 'big', 'med', 'unacc']\n",
      "['vhigh', 'high', '2', 'more', 'med', 'high', 'unacc']\n",
      "['med', 'med', '2', '2', 'small', 'low', 'unacc']\n",
      "['high', 'low', '5more', '4', 'med', 'high', 'acc']\n",
      "['low', 'low', '3', 'more', 'med', 'high', 'vgood']\n",
      "['low', 'low', '2', '2', 'big', 'med', 'unacc']\n",
      "['med', 'high', '4', '2', 'big', 'high', 'unacc']\n",
      "['low', 'low', '2', '2', 'small', 'high', 'unacc']\n",
      "['vhigh', 'high', '5more', '4', 'med', 'med', 'unacc']\n",
      "['med', 'vhigh', '2', '2', 'big', 'low', 'unacc']\n",
      "['low', 'vhigh', '4', '4', 'big', 'low', 'unacc']\n",
      "['vhigh', 'low', '3', 'more', 'big', 'low', 'unacc']\n",
      "['med', 'vhigh', '3', '4', 'small', 'low', 'unacc']\n",
      "['high', 'high', '3', '4', 'med', 'med', 'unacc']\n",
      "['low', 'high', '5more', '2', 'big', 'low', 'unacc']\n",
      "['med', 'high', '5more', '2', 'med', 'med', 'unacc']\n",
      "['high', 'low', '3', '4', 'med', 'high', 'acc']\n",
      "['high', 'vhigh', '5more', '4', 'med', 'med', 'unacc']\n",
      "['low', 'low', '5more', '2', 'med', 'low', 'unacc']\n",
      "['vhigh', 'vhigh', '4', '2', 'big', 'high', 'unacc']\n",
      "['high', 'low', '3', '2', 'big', 'high', 'unacc']\n"
     ]
    }
   ],
   "source": [
    "import csv\n",
    "# be sure to update the path below to reflect your own environment!!\n",
    "# also be sure that the code is properly indented after you paste it!\n",
    "\n",
    "with open('cars-sample35.txt') as csvfile:\n",
    "  readCSV = csv.reader(csvfile)\n",
    "  for row in readCSV:\n",
    "    # print each row as read by the csv.reader function\n",
    "    print(row)\n",
    "    "
   ]
  },
  {
   "cell_type": "code",
   "execution_count": 1,
   "metadata": {},
   "outputs": [
    {
     "name": "stdout",
     "output_type": "stream",
     "text": [
      "['high', 'high', 'high', 'high', 'vhigh', 'low', 'med', 'low', 'vhigh', 'vhigh', 'low', 'vhigh', 'high', 'low', 'high', 'vhigh', 'med', 'high', 'low', 'low', 'med', 'low', 'vhigh', 'med', 'low', 'vhigh', 'med', 'high', 'low', 'med', 'high', 'high', 'low', 'vhigh', 'high']\n",
      "['high', 'high', 'high', 'low', 'low', 'high', 'med', 'low', 'low', 'high', 'low', 'low', 'low', 'vhigh', 'low', 'high', 'med', 'low', 'low', 'low', 'high', 'low', 'high', 'vhigh', 'vhigh', 'low', 'vhigh', 'high', 'high', 'high', 'low', 'vhigh', 'low', 'vhigh', 'low']\n",
      "['2', '4', '4', '2', '3', '2', '4', '3', '2', '4', '2', '4', '2', '3', '5more', '2', '2', '5more', '3', '2', '4', '2', '5more', '2', '4', '3', '3', '3', '5more', '5more', '3', '5more', '5more', '4', '3']\n",
      "['4', 'more', 'more', 'more', '2', '2', 'more', '2', '2', '4', '2', 'more', '4', 'more', '2', 'more', '2', '4', 'more', '2', '2', '2', '4', '2', '4', 'more', '4', '4', '2', '2', '4', '4', '2', '2', '2']\n",
      "['med', 'small', 'big', 'big', 'med', 'small', 'med', 'big', 'small', 'med', 'med', 'small', 'big', 'big', 'big', 'med', 'small', 'med', 'med', 'big', 'big', 'small', 'med', 'big', 'big', 'big', 'small', 'med', 'big', 'med', 'med', 'med', 'med', 'big', 'big']\n",
      "['low', 'high', 'low', 'high', 'med', 'low', 'high', 'med', 'low', 'low', 'med', 'high', 'med', 'low', 'med', 'high', 'low', 'high', 'high', 'med', 'high', 'high', 'med', 'low', 'low', 'low', 'low', 'med', 'low', 'med', 'high', 'med', 'low', 'high', 'high']\n",
      "['unacc', 'acc', 'unacc', 'acc', 'unacc', 'unacc', 'vgood', 'unacc', 'unacc', 'unacc', 'unacc', 'acc', 'acc', 'unacc', 'unacc', 'unacc', 'unacc', 'acc', 'vgood', 'unacc', 'unacc', 'unacc', 'unacc', 'unacc', 'unacc', 'unacc', 'unacc', 'unacc', 'unacc', 'unacc', 'acc', 'unacc', 'unacc', 'unacc', 'unacc']\n"
     ]
    }
   ],
   "source": [
    "''' 1. Your first task is to read the file again and extract these seven attributes from each line of the file and\n",
    "create seven distinct Python list objects comprised solely of the values you extracted for a given attribute. In other\n",
    "words, you should have lists of prices, maintenance costs, number of doors, etc. For example, the first five \"luggage\"\n",
    "values should be as follows:\n",
    "['med', 'small', 'big', 'big', 'med']\n",
    "One way to complete this task would be to use the code snippet from above as a starting point: you could replace\n",
    "the “print(row)” statement with whatever Python code you feel is necessary to create the seven required list\n",
    "objects.'''\n",
    "\n",
    "import csv\n",
    "with open('cars-sample35.txt','r') as myFile:\n",
    "    lines = csv.reader(myFile)\n",
    "    for line in lines:\n",
    "        num = len(line)\n",
    "        \n",
    "# Choose the ith element in each row in line from 0 to 6 by using for \n",
    "for i in range(0, num):\n",
    "    with open('cars-sample35.txt','r') as myFile: \n",
    "        lines = csv.reader(myFile)\n",
    "        r = [row[i] for row in lines]\n",
    "        print (r)\n",
    "        "
   ]
  },
  {
   "cell_type": "code",
   "execution_count": 2,
   "metadata": {},
   "outputs": [
    {
     "name": "stdout",
     "output_type": "stream",
     "text": [
      "Index_list_price_is_med: [6, 16, 20, 23, 26, 29]\n"
     ]
    }
   ],
   "source": [
    "'''2. (5 Points) Your second task is to find the list index values of each automobile having a “price” rating of \"med\".\n",
    "Create a new list object with your result. HINT: you can accomplish this task by searching the list of price values you\n",
    "created earlier. Be sure to print your results.'''\n",
    "\n",
    "import csv\n",
    "\n",
    "with open('cars-sample35.txt','r') as csvfile:\n",
    " readCSV = csv.reader(csvfile)\n",
    " list_Price = []\n",
    " Index_list_price_is_med =[]\n",
    " for row in readCSV:\n",
    "\n",
    "# the list of all the price in the OG data\n",
    "  list_Price.append(row[0])\n",
    "\n",
    "# having a “price” rating of \"med\" by using for...if\n",
    "\n",
    "for price_is_low_index in range(len(list_Price)):\n",
    "  if list_Price[price_is_low_index] == 'med':\n",
    "    Index_list_price_is_med.append(price_is_low_index)       \n",
    "print(\"Index_list_price_is_med:\",Index_list_price_is_med)\n",
    "        \n",
    "\n"
   ]
  },
  {
   "cell_type": "code",
   "execution_count": 6,
   "metadata": {},
   "outputs": [
    {
     "name": "stdout",
     "output_type": "stream",
     "text": [
      " list_Number_of_passengers: ['more', '2', '2', '2', '4', '2']\n"
     ]
    }
   ],
   "source": [
    "'''3. (5 Points) Your third task is to find the \"number of passengers\" value for each auto having a \"price\" value of \"med\".\n",
    "Create a new list to store your findings and be sure to print your results.'''\n",
    "\n",
    "import csv\n",
    "with open('cars-sample35.txt','r') as myFile:\n",
    "    lines = csv.reader(myFile)\n",
    "    list_Price = []\n",
    "    list_Number_of_passengers = []\n",
    "    Index_list_price_is_med = []\n",
    "    for row in lines:\n",
    "        \n",
    "# the list of the price and number of passengers in the OG data\n",
    "        \n",
    "        list_Price.append(row[0])\n",
    "        list_Number_of_passengers.append(row[3])\n",
    "        \n",
    "#the \"number of passengers\" value for each auto having a \"price\" value of \"med\"\n",
    "for price_is_low_index in range(len(list_Price)): \n",
    "    if list_Price[price_is_low_index]=='med': \n",
    "        Index_list_price_is_med.append(list_Number_of_passengers[price_is_low_index])\n",
    "print(\" list_Number_of_passengers:\", Index_list_price_is_med)\n"
   ]
  },
  {
   "cell_type": "code",
   "execution_count": 1,
   "metadata": {},
   "outputs": [
    {
     "name": "stdout",
     "output_type": "stream",
     "text": [
      " list_Maintenance_cost [0, 1, 2, 3, 12, 14, 17, 27, 30, 31, 34]\n"
     ]
    }
   ],
   "source": [
    "'''4. (5 Points) Your fourth task is to find the index value for each automobile having a “price” value of \"high\" and a\n",
    "“maintenance” value that is not \"low\". Create a new list to store your findings and be sure to print your results.'''\n",
    "import csv\n",
    "with open('cars-sample35.txt','r') as myFile:\n",
    "    lines = csv.reader(myFile)\n",
    "    list_Price = []\n",
    "    list_Maintenance_cost = []\n",
    "    Index_list_price_is_high = []\n",
    " \n",
    "    for row in lines:\n",
    "# the list of the price and Maintenance in the OG data\n",
    "\n",
    "        list_Price.append(row[0])\n",
    "        list_Maintenance_cost.append(row[1])\n",
    "        \n",
    "#having a “price” value of \"high\" and a “maintenance” value that is not \"low\" \n",
    "for price_is_low_index in range(len(list_Price)): \n",
    "    if list_Price[price_is_low_index]=='high' and list_Maintenance_cost != 'low': \n",
    "       Index_list_price_is_high.append(price_is_low_index)\n",
    "print(\" list_Maintenance_cost\", Index_list_price_is_high)"
   ]
  },
  {
   "cell_type": "code",
   "execution_count": 15,
   "metadata": {},
   "outputs": [
    {
     "name": "stdout",
     "output_type": "stream",
     "text": [
      " list_Number_of_doors is two [3, 12, 19, 23]\n"
     ]
    }
   ],
   "source": [
    "'''5. (5 Points) Your fifth task is to find the index value for each auto having 2 doors and a luggage value of \"big\". Create a\n",
    "new list to store your findings and be sure to print your results.'''\n",
    "\n",
    "import csv\n",
    "with open('cars-sample35.txt','r') as myFile:\n",
    "    lines = csv.reader(myFile)  #Create the valuable\n",
    "    list_Doors = []\n",
    "    list_Luggage_capacity = []\n",
    "    list_Number_of_doors = []\n",
    "    Index_Luggage_capacity_is_big = []\n",
    "    for row in lines:\n",
    "        list_Number_of_doors.append(row[2])\n",
    "        list_Luggage_capacity.append(row[4])    \n",
    "        \n",
    "# having 2 doors and a luggage value of \"big\" by using for \n",
    "\n",
    "for list_Number in range(len(list_Number_of_doors)): \n",
    "    if  list_Luggage_capacity[list_Number] == 'big' and  list_Number_of_doors[list_Number] == '2': \n",
    "        list_Doors.append(list_Number)\n",
    "print(\" list_Number_of_doors is two\", list_Doors)"
   ]
  },
  {
   "cell_type": "code",
   "execution_count": 2,
   "metadata": {},
   "outputs": [
    {
     "name": "stdout",
     "output_type": "stream",
     "text": [
      "[2, 4, 4, 2, 3, 2, 4, 3, 2, 4, 2, 4, 2, 3, 5, 2, 2, 5, 3, 2, 4, 2, 5, 2, 4, 3, 3, 3, 5, 5, 3, 5, 5, 4, 3]\n",
      "3.3142857142857145\n"
     ]
    }
   ],
   "source": [
    "'''6. (5 Points) Finally, create a new list containing the only the integer equivalents of the doors values. Keep in mind that\n",
    "the lists you have created thus far are composed solely of strings. \n",
    "\n",
    "If you find any values of '5more' in your list,convert them to a '5'. After converting the '5more' values to '5', convert all of the items in your list to their numeric\n",
    "equivalent and calculate the average number of doors across all 35 autos using whichever of Python's built in functions you require.'''\n",
    "\n",
    "import csv\n",
    "with open('cars-sample35.txt','r') as myFile:\n",
    "    lines = csv.reader(myFile)\n",
    "    list_Number_of_doors = []\n",
    "    for row in lines:\n",
    "        list_Number_of_doors.append(row[2])\n",
    "        \n",
    "for list_Number in range(len(list_Number_of_doors)): \n",
    "    if list_Number_of_doors[list_Number] == '5more':\n",
    "        list_Number_of_doors[list_Number] = '5'\n",
    "    list_Number_of_doors[list_Number] = int(list_Number_of_doors[list_Number])\n",
    "    \n",
    "# calculate the average number of doors across all 35 \n",
    "def averagenum(num):\n",
    "    nsum = 0\n",
    "    for i in range(len(num)):\n",
    "        nsum += num[i]\n",
    "    return nsum / len(num)  \n",
    "print (list_Number_of_doors)  \n",
    "print (averagenum(list_Number_of_doors))\n",
    "\n",
    "# the average number of doors is 3.3142857142857145"
   ]
  }
 ],
 "metadata": {
  "kernelspec": {
   "display_name": "Python 3",
   "language": "python",
   "name": "python3"
  },
  "language_info": {
   "codemirror_mode": {
    "name": "ipython",
    "version": 3
   },
   "file_extension": ".py",
   "mimetype": "text/x-python",
   "name": "python",
   "nbconvert_exporter": "python",
   "pygments_lexer": "ipython3",
   "version": "3.8.3"
  }
 },
 "nbformat": 4,
 "nbformat_minor": 4
}
