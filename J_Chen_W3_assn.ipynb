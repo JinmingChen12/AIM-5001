{
 "cells": [
  {
   "cell_type": "code",
   "execution_count": 16,
   "metadata": {},
   "outputs": [
    {
     "name": "stdout",
     "output_type": "stream",
     "text": [
      "['high', 'high', 'high', 'high', 'vhigh', 'low', 'med', 'low', 'vhigh', 'vhigh', 'low', 'vhigh', 'high', 'low', 'high', 'vhigh', 'med', 'high', 'low', 'low', 'med', 'low', 'vhigh', 'med', 'low', 'vhigh', 'med', 'high', 'low', 'med', 'high', 'high', 'low', 'vhigh', 'high']\n",
      "['high', 'high', 'high', 'low', 'low', 'high', 'med', 'low', 'low', 'high', 'low', 'low', 'low', 'vhigh', 'low', 'high', 'med', 'low', 'low', 'low', 'high', 'low', 'high', 'vhigh', 'vhigh', 'low', 'vhigh', 'high', 'high', 'high', 'low', 'vhigh', 'low', 'vhigh', 'low']\n",
      "['2', '4', '4', '2', '3', '2', '4', '3', '2', '4', '2', '4', '2', '3', '5more', '2', '2', '5more', '3', '2', '4', '2', '5more', '2', '4', '3', '3', '3', '5more', '5more', '3', '5more', '5more', '4', '3']\n",
      "['4', 'more', 'more', 'more', '2', '2', 'more', '2', '2', '4', '2', 'more', '4', 'more', '2', 'more', '2', '4', 'more', '2', '2', '2', '4', '2', '4', 'more', '4', '4', '2', '2', '4', '4', '2', '2', '2']\n",
      "['med', 'small', 'big', 'big', 'med', 'small', 'med', 'big', 'small', 'med', 'med', 'small', 'big', 'big', 'big', 'med', 'small', 'med', 'med', 'big', 'big', 'small', 'med', 'big', 'big', 'big', 'small', 'med', 'big', 'med', 'med', 'med', 'med', 'big', 'big']\n",
      "['low', 'high', 'low', 'high', 'med', 'low', 'high', 'med', 'low', 'low', 'med', 'high', 'med', 'low', 'med', 'high', 'low', 'high', 'high', 'med', 'high', 'high', 'med', 'low', 'low', 'low', 'low', 'med', 'low', 'med', 'high', 'med', 'low', 'high', 'high']\n",
      "['unacc', 'acc', 'unacc', 'acc', 'unacc', 'unacc', 'vgood', 'unacc', 'unacc', 'unacc', 'unacc', 'acc', 'acc', 'unacc', 'unacc', 'unacc', 'unacc', 'acc', 'vgood', 'unacc', 'unacc', 'unacc', 'unacc', 'unacc', 'unacc', 'unacc', 'unacc', 'unacc', 'unacc', 'unacc', 'acc', 'unacc', 'unacc', 'unacc', 'unacc']\n"
     ]
    }
   ],
   "source": [
    "'''\n",
    "**************************************************************************************\n",
    "Code Cited: From Professor Topor's W2 Assignment Solution \n",
    "*    Course Number: AIM 5001\n",
    "*    Title:  Module 2 Week 2 Assignment Solution Question 1 \n",
    "*    Author: James Topor\n",
    "*    Date: Fall 2020 \n",
    "*    Code version: Python 3\n",
    "*    Web link: https://yu.instructure.com/courses/45526/assignments/133249\n",
    "***************************************************************************************\n",
    "'''\n",
    "\n",
    "#Create the seven lists\n",
    "\n",
    "import csv\n",
    "with open('cars-sample35.txt','r') as csvfile:\n",
    " readCSV = csv.reader(csvfile)\n",
    "\n",
    " Price_list = [] \n",
    " Maint_list = [] \n",
    " Door_list = [] \n",
    " Passenger_list = [] \n",
    " Luggage_list = [] \n",
    " Safety_list = [] \n",
    " Classification_list = []\n",
    "    \n",
    " for r in readCSV:\n",
    "       Price_list.append(r[0])\n",
    "       Maint_list.append(r[1])\n",
    "       Door_list.append(r[2])\n",
    "       Passenger_list.append(r[3])\n",
    "       Luggage_list.append(r[4])\n",
    "       Safety_list.append(r[5])\n",
    "       Classification_list.append(r[6])        \n",
    "        \n",
    "print(Price_list)\n",
    "print(Maint_list)\n",
    "print(Door_list)\n",
    "print(Passenger_list)\n",
    "print(Luggage_list)\n",
    "print(Safety_list)\n",
    "print(Classification_list)"
   ]
  },
  {
   "cell_type": "code",
   "execution_count": 35,
   "metadata": {},
   "outputs": [
    {
     "name": "stdout",
     "output_type": "stream",
     "text": [
      "list_price_is_med: [6, 16, 20, 23, 26, 29]\n"
     ]
    }
   ],
   "source": [
    "'''1. Your first task is to find the list index values of each automobile having a price rating of \"med\". However,\n",
    "you are required to do this using a list comprehension instead of a basic for or while loop. The list comprehension\n",
    "should create a new list containing your result. Be sure to print your results to the screen.'''\n",
    "\n",
    "#Create a new list contained price rating 'med' called list_price_med\n",
    "#By using a list comprehension to get the automobile having a price rating of \"med\"\n",
    "#Print out the automobile having a price rating of \"med\n",
    "\n",
    "list_price_med = []   \n",
    "\n",
    "list_price_med = [n for n in range(len(Price_list)) if Price_list[n] == 'med']\n",
    " \n",
    "print (\"list_price_is_med:\",list_price_med)\n",
    "\n",
    "\n"
   ]
  },
  {
   "cell_type": "code",
   "execution_count": 34,
   "metadata": {},
   "outputs": [
    {
     "name": "stdout",
     "output_type": "stream",
     "text": [
      " list_Number_of_passengers: ['more', '2', '2', '2', '4', '2']\n"
     ]
    }
   ],
   "source": [
    "'''2. (5 Points) Your second task is to find the \"number of passengers\" value for each auto having a \"price\" value of\n",
    "\"med\" using a list comprehension instead of a basic for or while loop. The list comprehension should create a new\n",
    "list containing your findings. Be sure to print your results to the screen.'''\n",
    "\n",
    "#Create a new list contained number of passagers with 'med' prace, which called 'new_list_Number_of_passengers'\n",
    "#By using list comprehension to find the number of passengers of the automobile which has med price\n",
    "#Print out the number of passengers that having a price rating of \"med\"\n",
    "\n",
    "new_list_Number_of_passengers=[]\n",
    "\n",
    "new_list_Number_of_passengers = [Passenger_list[n] for n in range(len(Price_list)) if Price_list[n] == 'med']\n",
    "\n",
    "print (\" list_Number_of_passengers:\",new_list_Number_of_passengers) "
   ]
  },
  {
   "cell_type": "code",
   "execution_count": 37,
   "metadata": {},
   "outputs": [
    {
     "name": "stdout",
     "output_type": "stream",
     "text": [
      " list_Maintenance_cost_not_low [0, 1, 2, 27, 31]\n"
     ]
    }
   ],
   "source": [
    "'''3. (5 Points) Your third task is to find the index value for each automobile having a price value of \"high\" and a\n",
    "maintenance value that is not \"low\" using a list comprehension. The list comprehension should create a new list\n",
    "containing your findings. Be sure to print your results to the screen.'''\n",
    "\n",
    "#Create a new list contained price rating 'high' and another list contained maintenance value that is not \"low\". \n",
    "#By using list comprehension to find the price is high and the maintenance value is not 'low'. \n",
    "#Print out the each automobile having a price value of \"high\" and the maintenance value that is not \"low\"\n",
    "\n",
    "Index_list_price_is_high = []\n",
    "price_is_low_index=[]\n",
    " \n",
    "Index_list_price_is_high = [n for n in range(len(Price_list)) if Price_list[n] == 'high' and Maint_list[n] != 'low']\n",
    "  \n",
    "        \n",
    "print(\" list_Maintenance_cost_not_low\", Index_list_price_is_high) \n"
   ]
  },
  {
   "cell_type": "code",
   "execution_count": 39,
   "metadata": {},
   "outputs": [
    {
     "name": "stdout",
     "output_type": "stream",
     "text": [
      "[1, 2, 3, 'A', 'B', 'C', 4, 5, 'D', 'E']\n"
     ]
    }
   ],
   "source": [
    "'''4. (5 Points) For your fourth task, implement this same logic using a list comprehension. Apply your list\n",
    "comprehension to the nlist list of lists shown above.'''\n",
    "\n",
    "#Create a new list\n",
    "#By using  list comprehension to add extract each individual element of the component lists contained within nlist to a new list.\n",
    "#Print out the 'flist'\n",
    "\n",
    "\n",
    "nlist = [[1, 2, 3], ['A', 'B', 'C'], [4, 5], ['D', 'E']]\n",
    "\n",
    "flist = [y for x in nlist for y in x]\n",
    "\n",
    "print (flist)\n",
    "\n"
   ]
  },
  {
   "cell_type": "code",
   "execution_count": 17,
   "metadata": {},
   "outputs": [
    {
     "name": "stdout",
     "output_type": "stream",
     "text": [
      "{'A0': 'med', 'A1': 'small', 'A2': 'big', 'A3': 'big', 'A4': 'med'}\n"
     ]
    }
   ],
   "source": [
    "'''5. (5 Points) Your fifth task is to create a user defined function that accepts as input one of the seven automobile\n",
    "attribute lists as well as an integer value and returns a Python dict object. \n",
    "\n",
    "Remember: a Python dict object is comprised of ‘key/value’ pairs. The integer value accepted as a parameter by your function will represent the exact\n",
    "number of items you are to use from the list for purposes of creating the new dict object. '''\n",
    "\n",
    "#By creating a 'dict' that put “Luggage” list comprised of a combination of the letter ‘A’\n",
    "#Creating a list that is Letter 'A' with the element in  “Luggage” list by order\n",
    "#Print out the new dict object, which includes 'A' and 'luggage' elements. \n",
    "\n",
    "def makedict(mylist, x): \n",
    "    newdict = {} \n",
    "   \n",
    "    seq = []\n",
    "    for i in range(x):\n",
    "        seq.append('A' + str(i))\n",
    "    newdict = dict(zip(seq, mylist[:x]))\n",
    "    return(newdict)\n",
    "\n",
    "\n",
    "print (makedict(Luggage_list, 5))"
   ]
  },
  {
   "cell_type": "code",
   "execution_count": 18,
   "metadata": {},
   "outputs": [
    {
     "name": "stdout",
     "output_type": "stream",
     "text": [
      "med\n",
      "vhigh\n"
     ]
    }
   ],
   "source": [
    "'''6. (5 Points) Now that you have your reusable user-defined function, use it to create two new dict objects containing\n",
    "the first seven elements of the ‘Price’ and ‘Luggage’ lists, respectively. Then, use these dict objects to tell us the\n",
    "price and luggage capacity of the auto identified by the ‘A4’ key value.'''\n",
    "\n",
    "#Creating two new dict objects containing the first seven elements of the ‘Price’ and ‘Luggage’ lists\n",
    "#Print out the result that givethe price and luggage capacity of the auto identified by the ‘A4’ key value.\n",
    "\n",
    "new_Luggage_list = makedict(Luggage_list, 7)\n",
    "new_Price_list = makedict(Price_list, 7)\n",
    "\n",
    "print (new_Luggage_list['A4'])\n",
    "print (new_Price_list['A4'])"
   ]
  }
 ],
 "metadata": {
  "kernelspec": {
   "display_name": "Python 3",
   "language": "python",
   "name": "python3"
  },
  "language_info": {
   "codemirror_mode": {
    "name": "ipython",
    "version": 3
   },
   "file_extension": ".py",
   "mimetype": "text/x-python",
   "name": "python",
   "nbconvert_exporter": "python",
   "pygments_lexer": "ipython3",
   "version": "3.8.3"
  }
 },
 "nbformat": 4,
 "nbformat_minor": 4
}
