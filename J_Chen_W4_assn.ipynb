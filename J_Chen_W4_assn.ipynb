{
 "cells": [
  {
   "cell_type": "code",
   "execution_count": 9,
   "metadata": {},
   "outputs": [
    {
     "name": "stdout",
     "output_type": "stream",
     "text": [
      "[2, 4]\n"
     ]
    }
   ],
   "source": [
    "''' 1. Write a Python/NumPy code block that finds the distinct/unique common items between these two arrays:\n",
    "a = np.array([1, 2, 3, 2, 3, 4, 3, 4, 5, 6])\n",
    "b = np.array([7, 2, 10, 2, 7, 4, 9, 4, 9, 8])\n",
    "Your output should contain only the distinct overlapping values. For example, if a 2 is found in both array a and array b,\n",
    "your output should contain only one 2 even if array a contains more than one 2 within it.'''\n",
    "\n",
    "# Finding the unique common iteams that in a and in b by using \"i == j\",'i' is the item in a, 'j' is the iteam in b\n",
    "# d contains the the unique common items between these two arrays\n",
    "# print the result that has the unique common items between these two arrays\n",
    "\n",
    "import numpy as np\n",
    "\n",
    "a = np.array([1, 2, 3, 2, 3, 4, 3, 4, 5, 6])\n",
    "b = np.array([7, 2, 10, 2, 7, 4, 9, 4, 9, 8])\n",
    "d = []\n",
    "\n",
    "for i in np.unique(a):\n",
    "    for j in b:\n",
    "        if i == j:\n",
    "            d.append(i)    \n",
    "            break\n",
    "print (d)"
   ]
  },
  {
   "cell_type": "code",
   "execution_count": 10,
   "metadata": {},
   "outputs": [
    {
     "data": {
      "text/plain": [
       "array([[ 1,  6, 11],\n",
       "       [ 2,  7, 12],\n",
       "       [ 3,  8, 13],\n",
       "       [ 4,  9, 14],\n",
       "       [ 5, 10, 15]])"
      ]
     },
     "execution_count": 10,
     "metadata": {},
     "output_type": "execute_result"
    }
   ],
   "source": [
    "'''2. Create the following 5x3 array using knowledge you have of Python’s / NumPy’s sequencing functionality\n",
    "so that you do not need to explicitly key in every integer value.'''\n",
    "\n",
    "# By using 'reshape(3,5)' and number arrange from 1 to 16 will fill the 5x3 array\n",
    "# By using 'T' to change the order of the numbers\n",
    "# Result\n",
    "\n",
    "arr = np.arange(1,16).reshape(3,5).T\n",
    "\n",
    "arr"
   ]
  },
  {
   "cell_type": "code",
   "execution_count": 24,
   "metadata": {},
   "outputs": [
    {
     "name": "stdout",
     "output_type": "stream",
     "text": [
      "[7, 15, 1, 8]\n"
     ]
    }
   ],
   "source": [
    "'''3.  You are given the following two arrays:\n",
    "a = np.array([12, 5, 7, 15, 3, 1, 8])\n",
    "b = np.array([14, 6, 3, 11, 19, 12, 5])\n",
    "Write a Python/Numpy code block that removes from array a any items that are also present in array b'''\n",
    "\n",
    "# By using 'for' to removes from array a any items that are also present in array b\n",
    "# Print the result\n",
    "\n",
    "a = np.array([12, 5, 7, 15, 3, 1, 8])\n",
    "b = np.array([14, 6, 3, 11, 19, 12, 5])\n",
    "\n",
    "c = [i for i in a if i not in b]\n",
    "\n",
    "print (c)\n"
   ]
  },
  {
   "cell_type": "code",
   "execution_count": 17,
   "metadata": {},
   "outputs": [
    {
     "name": "stdout",
     "output_type": "stream",
     "text": [
      "['Day 1 traveled miles：34', 'Day 2 traveled miles：35', 'Day 3 traveled miles：33', 'Day 4 traveled miles：30', 'Day 5 traveled miles：55', 'Day 6 traveled miles：63', 'Day 7 traveled miles：40', 'Day 8 DID NOT travel', 'Day 9 traveled miles：55', 'Day 10 traveled miles：45', 'Day 11 traveled miles：45', 'Day 12 traveled miles：30', 'Day 13 traveled miles：45', 'Day 14 traveled miles：60', 'Day 15 DID NOT travel', 'Day 16 traveled miles：45', 'Day 17 traveled miles：40', 'Day 18 traveled miles：60', 'Day 19 traveled miles：65', 'Day 20 traveled miles：40', 'Day 21 traveled miles：75', 'Day 22 DID NOT travel', 'Day 23 traveled miles：105', 'Day 24 traveled miles：85', 'Day 25 traveled miles：80', 'Day 26 traveled miles：80', 'Day 27 traveled miles：55', 'Day 28 traveled miles：90', 'Day 29 traveled miles：65', 'Day 30 traveled miles：70', 'Day 31 traveled miles：30', 'Day 32 traveled miles：30', 'Day 33 traveled miles：30', 'Day 34 traveled miles：75', 'Day 35 traveled miles：60']\n"
     ]
    }
   ],
   "source": [
    "'''4. Suppose you have ridden a bicycle from New York City to Key West, Florida. Your bicycle odometer shows\n",
    "the total miles you have travelled thus far, which you make a note of each day with paper and pencil. Your first two\n",
    "entries might be ‘55’ and ‘120’, indicating that you rode your bike 55 miles on day 1 and 65 miles on day 2. Your task is\n",
    "to create a NumPy array wherein you can record the cumulative miles you recorded each day during your trip “by hand”.\n",
    "Then use your Python skills to show the total miles that you rode each day. '''\n",
    "\n",
    "#Day 1 NYC to Edison, NJ; Day 2 Edison, NJ to Trenton,NJ; Day 3 Trenton,NJ to Philadelphia; Day 4 Philadelphia to Wilmington, \n",
    "#Day 5 Wilmington to Edgewood, Day 6 Edgewood to DC, Day 7 DC to Dumfires, Day 8 TOOK A BREAK, Day 9 to Ladysmith, Day 10 to Richmond,\n",
    "#Day 11 to Petersburg, Day 12 to Emporia, Day 13 to Rocky Mount, Day 14 TOOK A BREAK, Day 15 to Goldsbore, Day 16 to Clinton, Day 17 to Lumberton, \n",
    "#Day 18 to Florence, Day 19 to Kingstree, Day 20 to Charleston, Day 21 TOOK A BREAK, Day 22 to Savannah, Day 23 to Bruswich, Day24 to Jacksonville,\n",
    "#Day 25 TOOK A BREAK, Day 26 to Plam Coast, Day 27 to Orlando, Day 28 to Palm Bay, Day 29 to Poet St. Lucie, Day 30 to Delray Beach,\n",
    "#Day 31 to Fort Lauderdale, Day 32 to Miami, Day 33 to Homesteed, Day 34 to Duck Key, Day 35 to KEY WEST, FL'''\n",
    "\n",
    "# array a contain the cumulative miles I recorded each day during my trip\n",
    "# array b contain that when I took a break during my trip, which the travel mile is zero\n",
    "import numpy as np\n",
    "\n",
    "a = [34,69,102,132,187,250,290,290,345,390,435,465,510,570,570,615,655,715,780,820,895,895,1000,1085,1165,1245,1300,1390,1455,1525,1555,1585,1615,1690,1750]\n",
    "b = [a[0]]\n",
    "c = []\n",
    "\n",
    "# i in day 1 to day 35\n",
    "# Calculating the mile I traveled by 'a[i] - a[i-1]'\n",
    "# If b[i] = 0, which means I did not travel; on the other hand, the number of a[i] - a[i-1] is the travel miles I traveled that day.  \n",
    "# Printing the result that shows the total miles that I rode each day\n",
    "\n",
    "for i in range(1, len(a)):\n",
    "    b.append(a[i] - a[i-1])\n",
    "    \n",
    "for i in range(len(b)):\n",
    "    if b[i] == 0:\n",
    "        c.append(\"Day \" + str(i+1) + \" DID NOT travel\")\n",
    "        continue\n",
    "    c.append(\"Day \" + str(i+1) + \" traveled miles：\" + str(b[i]))\n",
    "\n",
    "    \n",
    "print (c)\n",
    "\n",
    "\n"
   ]
  },
  {
   "cell_type": "code",
   "execution_count": 23,
   "metadata": {},
   "outputs": [
    {
     "name": "stdout",
     "output_type": "stream",
     "text": [
      "Largest element is: 1512.0\n",
      "How many calendar years are represented: 41\n",
      "mean: 158.41463414634146\n",
      "standard deviation: 32.24280974865257\n",
      "pop_diff: [-30461.   17602.   19864.   72119.   53290.   39540.   45192.   23230.\n",
      "  11243.   -9544.   -8525.   38851.   54443.   77222.   64292.   62582.\n",
      "  64772.   75631.   84816.   89401.   60618.   16685.5  16685.5  16685.5\n",
      "  16685.5  16685.5  16685.5  16685.5  16685.5  16685.5  16685.5  97830.\n",
      "  75069.   50707.   38648.   30794.    7795.  -37705.  -39523.  -61931. ]\n"
     ]
    }
   ],
   "source": [
    "'''5. Scroll down to the bottom of that page to access an interactive data viewer that includes the column headings for the\n",
    "data.\n",
    "Using the NumPy array that has been loaded for you in the Jupyter Notebook, answer the following questions using\n",
    "NumPy’s slicing, methods, and functions:\n",
    "1.  What is the maximum yearly NYC consumption of water in millions of gallons per day?\n",
    "2. How many calendar years are represented within this data set? NumPy's shape command is one way to find\n",
    "out.\n",
    "3.  What is the mean and the standard deviation of the per capita daily water consumption?\n",
    "4.  What is the increase or decrease in population from year to year? Use NumPy's `diff` function to create an array\n",
    "of differences and save that to a variable called \"pop_diff\", then print that variable to the screen.\n",
    "Please note that it may take a bit of time for Jupyter to load the data set from the GitHub repository. You will know that\n",
    "process has finished once the results of the ‘type(nyc_water)’ command get displayed within your copy of the\n",
    "notebook.'''\n",
    "\n",
    "\n",
    "import pandas\n",
    "import numpy as np\n",
    "\n",
    "# supress scientific notation\n",
    "np.set_printoptions(suppress = True)\n",
    "\n",
    "# read the data file from GitHub and convert to a NumPy ndarray object\n",
    "nyc_water = pandas.read_csv('Water_Consumption_In_The_New_York_City.csv')\n",
    "#.as_matrix()\n",
    "\n",
    "# verify you have an ndarray object\n",
    "type(nyc_water)\n",
    "\n",
    "#Create four list 'a', 'b', 'c', 'd', which represpents 'Year', 'NYC population', 'NYC consumption', 'Per Capita Daily '\n",
    "nyc_water.columns = ['a', 'b', 'c', 'd']\n",
    "\n",
    "list_consumption = nyc_water['c'] \n",
    "\n",
    "# Q1 \n",
    "# printing the maximum element by using \"max()\"\n",
    "print(\"Largest element is:\", max(list_consumption)) \n",
    "\n",
    "# Q2\n",
    "#Printing how many lines in dataset that under \"Year\"\n",
    "print(\"How many calendar years are represented:\", nyc_water.shape[0])\n",
    "\n",
    "# Q3\n",
    "#Printing the Mean of the per capita daily water consumption by using 'mean()'\n",
    "print (\"mean:\", nyc_water['d'].mean())\n",
    "\n",
    "#Printing the standard deviation of the per capita daily water consumption by using 'std()'\n",
    "print (\"standard deviation:\", nyc_water['d'].std())\n",
    "\n",
    "# Q4\n",
    "#Printing the the increase or decrease in population from year to year by using `diff` function \n",
    "pop_diff = np.diff(nyc_water['b'])\n",
    "print (\"pop_diff:\", pop_diff)\n",
    "  \n"
   ]
  }
 ],
 "metadata": {
  "kernelspec": {
   "display_name": "Python 3",
   "language": "python",
   "name": "python3"
  },
  "language_info": {
   "codemirror_mode": {
    "name": "ipython",
    "version": 3
   },
   "file_extension": ".py",
   "mimetype": "text/x-python",
   "name": "python",
   "nbconvert_exporter": "python",
   "pygments_lexer": "ipython3",
   "version": "3.8.3"
  }
 },
 "nbformat": 4,
 "nbformat_minor": 4
}
