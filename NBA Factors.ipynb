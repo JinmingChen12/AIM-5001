{
 "cells": [
  {
   "cell_type": "markdown",
   "metadata": {},
   "source": [
    "https://github.com/fivethirtyeight/data/tree/master/nba-forecasts\n",
    "     It is the original location of the data"
   ]
  },
  {
   "cell_type": "markdown",
   "metadata": {},
   "source": [
    "https://github.com/JinmingChen12/AIM-5001/blob/master/nba_elo_latest.csv\n",
    "    This is my Github link for the data"
   ]
  },
  {
   "cell_type": "markdown",
   "metadata": {},
   "source": [
    "     There are two reasons that I am interested in this dataset. First of all, this dataset predicts the winning rate for each game, which is very attractive to an NBA fan. Secondly, this dataset could potentially use in the gambling industry; especially, the NBA referees sometime make some extremely bad calls in the basketball game which could cause a different game result. \n",
    "     There are two questions I would ask by analyzing this dataset. Firstly, in statistics perspective, how accuracy is the winning rate for each game? Second question is in sport industry, there are so many unpredictable factors could influence the game result, so how to minimize the influence of those errors for a basketball game?  In my opinion, trying to increase the size of data set could help increase the accuracy of the prediction. Also, by comparing the accuracy of prediction of the winning rate in the past five seasons could be a reference that measures how accuracy of the prediction will be for this season. \n"
   ]
  },
  {
   "cell_type": "code",
   "execution_count": null,
   "metadata": {},
   "outputs": [],
   "source": []
  },
  {
   "cell_type": "code",
   "execution_count": null,
   "metadata": {},
   "outputs": [],
   "source": []
  }
 ],
 "metadata": {
  "kernelspec": {
   "display_name": "Python 3",
   "language": "python",
   "name": "python3"
  },
  "language_info": {
   "codemirror_mode": {
    "name": "ipython",
    "version": 3
   },
   "file_extension": ".py",
   "mimetype": "text/x-python",
   "name": "python",
   "nbconvert_exporter": "python",
   "pygments_lexer": "ipython3",
   "version": "3.8.3"
  }
 },
 "nbformat": 4,
 "nbformat_minor": 4
}
